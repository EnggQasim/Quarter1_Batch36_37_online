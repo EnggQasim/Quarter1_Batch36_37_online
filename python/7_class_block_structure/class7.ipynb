{
 "cells": [
  {
   "cell_type": "markdown",
   "metadata": {},
   "source": [
    "# control blocks\n",
    "* if\n",
    "    * else\n",
    "    * elif\n",
    "    * finally\n",
    "\n",
    "* while\n",
    "    * break\n",
    "    * continue\n",
    "    * pass\n",
    "* for \n",
    "    * break\n",
    "    * continue\n",
    "    * pass\n",
    "* try:\n",
    "    * except\n",
    "    * finally\n",
    "\n",
    "* class\n",
    "* def"
   ]
  },
  {
   "cell_type": "code",
   "execution_count": 1,
   "metadata": {},
   "outputs": [
    {
     "name": "stdout",
     "output_type": "stream",
     "text": [
      "Requirement already satisfied: pandas in /home/mqasim/anaconda3/lib/python3.7/site-packages (1.3.4)\n",
      "Requirement already satisfied: python-dateutil>=2.7.3 in /home/mqasim/anaconda3/lib/python3.7/site-packages (from pandas) (2.8.1)\n",
      "Requirement already satisfied: pytz>=2017.3 in /home/mqasim/anaconda3/lib/python3.7/site-packages (from pandas) (2019.3)\n",
      "Requirement already satisfied: numpy>=1.17.3 in /home/mqasim/anaconda3/lib/python3.7/site-packages (from pandas) (1.19.5)\n",
      "Requirement already satisfied: six>=1.5 in /home/mqasim/anaconda3/lib/python3.7/site-packages (from python-dateutil>=2.7.3->pandas) (1.16.0)\n",
      "\u001b[33mWARNING: You are using pip version 21.3.1; however, version 22.2.2 is available.\n",
      "You should consider upgrading via the '/home/mqasim/anaconda3/bin/python -m pip install --upgrade pip' command.\u001b[0m\n"
     ]
    }
   ],
   "source": [
    "!pip install pandas"
   ]
  },
  {
   "cell_type": "code",
   "execution_count": null,
   "metadata": {},
   "outputs": [],
   "source": [
    "https://realpython.com/lessons/reserved-keywords/"
   ]
  },
  {
   "cell_type": "markdown",
   "metadata": {},
   "source": [
    "* while\n",
    "    * break\n",
    "    * continue\n",
    "    * pass\n",
    "    \n",
    " ```\n",
    " while Logic:\n",
    "     statement\n",
    "     increment/decrement\n",
    " ```"
   ]
  },
  {
   "cell_type": "code",
   "execution_count": 2,
   "metadata": {},
   "outputs": [
    {
     "name": "stdout",
     "output_type": "stream",
     "text": [
      "Pakistan\n",
      "Pakistan\n",
      "Pakistan\n",
      "Pakistan\n",
      "Pakistan\n",
      "Pakistan\n",
      "Pakistan\n",
      "Pakistan\n",
      "Pakistan\n",
      "Pakistan\n"
     ]
    }
   ],
   "source": [
    "print(\"Pakistan\")\n",
    "print(\"Pakistan\")\n",
    "print(\"Pakistan\")\n",
    "print(\"Pakistan\")\n",
    "print(\"Pakistan\")\n",
    "print(\"Pakistan\")\n",
    "print(\"Pakistan\")\n",
    "print(\"Pakistan\")\n",
    "print(\"Pakistan\")\n",
    "print(\"Pakistan\")"
   ]
  },
  {
   "cell_type": "code",
   "execution_count": 3,
   "metadata": {},
   "outputs": [
    {
     "data": {
      "text/plain": [
       "True"
      ]
     },
     "execution_count": 3,
     "metadata": {},
     "output_type": "execute_result"
    }
   ],
   "source": [
    "5 == 5"
   ]
  },
  {
   "cell_type": "code",
   "execution_count": 4,
   "metadata": {},
   "outputs": [
    {
     "name": "stdout",
     "output_type": "stream",
     "text": [
      "Pakistan\n"
     ]
    }
   ],
   "source": [
    "if True:\n",
    "    print(\"Pakistan\")"
   ]
  },
  {
   "cell_type": "code",
   "execution_count": 5,
   "metadata": {},
   "outputs": [],
   "source": [
    "if False:\n",
    "    print(\"Pakistan\")"
   ]
  },
  {
   "cell_type": "raw",
   "metadata": {},
   "source": [
    "while True:\n",
    "    print(\"Pakistan\")"
   ]
  },
  {
   "cell_type": "markdown",
   "metadata": {},
   "source": [
    "# * while\n",
    "    * logic\n",
    "    * flag = counter\n",
    "    * increment/decrement\n",
    "    * break\n",
    "    * continue\n",
    "    * pass"
   ]
  },
  {
   "cell_type": "code",
   "execution_count": 8,
   "metadata": {},
   "outputs": [
    {
     "name": "stdout",
     "output_type": "stream",
     "text": [
      "Pakistan zinda bad! 0\n",
      "Pakistan zinda bad! 1\n",
      "Pakistan zinda bad! 2\n",
      "Pakistan zinda bad! 3\n",
      "Pakistan zinda bad! 4\n",
      "Pakistan zinda bad! 5\n",
      "Pakistan zinda bad! 6\n",
      "Pakistan zinda bad! 7\n",
      "Pakistan zinda bad! 8\n",
      "Pakistan zinda bad! 9\n",
      "Pakistan zinda bad! 10\n"
     ]
    }
   ],
   "source": [
    "counter = 0\n",
    "\n",
    "while counter <= 10:\n",
    "    print(\"Pakistan zinda bad!\", counter)\n",
    "    counter += 1"
   ]
  },
  {
   "cell_type": "code",
   "execution_count": 10,
   "metadata": {},
   "outputs": [
    {
     "name": "stdout",
     "output_type": "stream",
     "text": [
      "Pakistan zinda bad! 100\n",
      "Pakistan zinda bad! 99\n",
      "Pakistan zinda bad! 98\n",
      "Pakistan zinda bad! 97\n",
      "Pakistan zinda bad! 96\n",
      "Pakistan zinda bad! 95\n",
      "Pakistan zinda bad! 94\n",
      "Pakistan zinda bad! 93\n",
      "Pakistan zinda bad! 92\n",
      "Pakistan zinda bad! 91\n",
      "Pakistan zinda bad! 90\n"
     ]
    }
   ],
   "source": [
    "counter = 100\n",
    "\n",
    "while counter >= 90:\n",
    "    print(\"Pakistan zinda bad!\", counter)\n",
    "    counter -= 1"
   ]
  },
  {
   "cell_type": "code",
   "execution_count": 13,
   "metadata": {},
   "outputs": [
    {
     "name": "stdout",
     "output_type": "stream",
     "text": [
      "1\n",
      "2\n",
      "3\n"
     ]
    }
   ],
   "source": [
    "a = 1\n",
    "print(a)\n",
    "a = a + 1# old variable value add with new one\n",
    "print(a)\n",
    "a += 1# # old variable value add with new one\n",
    "print(a)"
   ]
  },
  {
   "cell_type": "code",
   "execution_count": null,
   "metadata": {},
   "outputs": [],
   "source": [
    "counter = 0 # flage\n",
    "\n",
    "while counter <= 10:# logic\n",
    "    print(\"Pakistan zinda bad!\", counter)#statement\n",
    "    counter += 1 # increment/cecrement\n",
    "    \n",
    "# Pakistan zinda bad 0    \n",
    "# Pakistan zinda bad 1\n",
    "# Pakistan zinda bad 2\n",
    "..\n",
    "# Pakistan zinda bad 10"
   ]
  },
  {
   "cell_type": "code",
   "execution_count": 15,
   "metadata": {},
   "outputs": [
    {
     "name": "stdout",
     "output_type": "stream",
     "text": [
      "Pakistan zinda bad! 0\n",
      "Pakistan zinda bad! 1\n",
      "Pakistan zinda bad! 2\n",
      "Pakistan zinda bad! 3\n",
      "Pakistan zinda bad! 4\n",
      "Pakistan zinda bad! 5\n"
     ]
    }
   ],
   "source": [
    "counter = 0\n",
    "\n",
    "while counter <= 1000000:\n",
    "    print(\"Pakistan zinda bad!\", counter)\n",
    "    \n",
    "    if counter == 5:\n",
    "        break    \n",
    "    \n",
    "    counter += 1"
   ]
  },
  {
   "cell_type": "code",
   "execution_count": 16,
   "metadata": {},
   "outputs": [
    {
     "name": "stdout",
     "output_type": "stream",
     "text": [
      "Pakistan zinda bad! 0\n",
      "Pakistan zinda bad! 1\n",
      "Pakistan zinda bad! 2\n",
      "Pakistan zinda bad! 3\n",
      "Pakistan zinda bad! 4\n"
     ]
    }
   ],
   "source": [
    "counter = 0\n",
    "\n",
    "while counter <= 1000000:\n",
    "    if counter == 5:\n",
    "        break    \n",
    "    print(\"Pakistan zinda bad!\", counter)\n",
    "\n",
    "    counter += 1"
   ]
  },
  {
   "cell_type": "code",
   "execution_count": 17,
   "metadata": {},
   "outputs": [
    {
     "name": "stdout",
     "output_type": "stream",
     "text": [
      "Pakistan zinda bad! 1\n",
      "Pakistan zinda bad! 2\n",
      "Pakistan zinda bad! 3\n",
      "Pakistan zinda bad! 4\n",
      "Pakistan zinda bad! 5\n"
     ]
    }
   ],
   "source": [
    "counter = 0\n",
    "\n",
    "while counter <= 1000000:\n",
    "    counter += 1\n",
    "    print(\"Pakistan zinda bad!\", counter)\n",
    "    if counter == 5:\n",
    "        break    \n",
    "    "
   ]
  },
  {
   "cell_type": "code",
   "execution_count": 32,
   "metadata": {},
   "outputs": [
    {
     "name": "stdout",
     "output_type": "stream",
     "text": [
      "Etner user nameQ\n",
      "A 0\n",
      "B 1\n",
      "C 2\n",
      "D 3\n",
      "E 4\n",
      "F 5\n",
      "G 6\n",
      "H 7\n",
      "I 8\n",
      "J 9\n",
      "K 10\n",
      "L 11\n",
      "M 12\n",
      "N 13\n",
      "O 14\n",
      "P 15\n",
      "Q 16\n"
     ]
    }
   ],
   "source": [
    "users = ['A', 'B', 'C', 'D', 'E', 'F', 'G', 'H', 'I', 'J', 'K', 'L', 'M', 'N', 'O', 'P', 'Q', 'R', 'S', 'T', 'U', 'V', 'W', 'X', 'Y', 'Z']\n",
    "\n",
    "searc_user = input(\"Etner user name\")\n",
    "counter = 0\n",
    "while counter < len(users):\n",
    "    print(users[counter], counter)\n",
    "    if searc_user == users[counter]:\n",
    "        break\n",
    "    \n",
    "    counter +=1# \n",
    "\n",
    "# print(len(users))"
   ]
  },
  {
   "cell_type": "code",
   "execution_count": 33,
   "metadata": {},
   "outputs": [
    {
     "name": "stdout",
     "output_type": "stream",
     "text": [
      "Etner user nameR\n",
      "R 17\n"
     ]
    }
   ],
   "source": [
    "users = ['A', 'B', 'C', 'D', 'E', 'F', 'G', 'H', 'I', 'J', 'K', 'L', 'M', 'N', 'O', 'P', 'Q', 'R', 'S', 'T', 'U', 'V', 'W', 'X', 'Y', 'Z']\n",
    "\n",
    "searc_user = input(\"Etner user name\")\n",
    "counter = 0\n",
    "while counter < len(users):    \n",
    "    if searc_user == users[counter]:\n",
    "        print(users[counter], counter)\n",
    "        break\n",
    "    \n",
    "    counter +=1\n",
    "\n",
    "# print(len(users))"
   ]
  },
  {
   "cell_type": "code",
   "execution_count": 21,
   "metadata": {},
   "outputs": [
    {
     "name": "stdout",
     "output_type": "stream",
     "text": [
      "65 A\n",
      "66 B\n",
      "67 C\n",
      "68 D\n",
      "69 E\n",
      "70 F\n",
      "71 G\n",
      "72 H\n",
      "73 I\n",
      "74 J\n",
      "75 K\n",
      "76 L\n",
      "77 M\n",
      "78 N\n",
      "79 O\n",
      "80 P\n",
      "81 Q\n",
      "82 R\n",
      "83 S\n",
      "84 T\n",
      "85 U\n",
      "86 V\n",
      "87 W\n",
      "88 X\n",
      "89 Y\n",
      "90 Z\n"
     ]
    }
   ],
   "source": [
    "code = 65\n",
    "while code<=90:\n",
    "    print(code, chr(code))\n",
    "    code += 1"
   ]
  },
  {
   "cell_type": "code",
   "execution_count": 24,
   "metadata": {},
   "outputs": [
    {
     "data": {
      "text/plain": [
       "'z'"
      ]
     },
     "execution_count": 24,
     "metadata": {},
     "output_type": "execute_result"
    }
   ],
   "source": [
    "chr(122)"
   ]
  },
  {
   "cell_type": "code",
   "execution_count": 34,
   "metadata": {},
   "outputs": [
    {
     "name": "stdout",
     "output_type": "stream",
     "text": [
      "0\n",
      "1\n",
      "2\n",
      "3\n",
      "4\n"
     ]
    }
   ],
   "source": [
    "for i in [0,1,2,3,4]:\n",
    "    print(i)"
   ]
  },
  {
   "cell_type": "code",
   "execution_count": null,
   "metadata": {},
   "outputs": [],
   "source": [
    "for i in []:\n",
    "    print(4)\n",
    "    \n",
    "#0\n",
    "#1\n",
    "#2\n",
    "#3\n",
    "#4"
   ]
  },
  {
   "cell_type": "code",
   "execution_count": null,
   "metadata": {},
   "outputs": [],
   "source": [
    "for local_variable in iterated_data_type:\n",
    "    print(statement)\n",
    "    \n",
    "iterated_data_type = list, tuple, dictionary, sequential type\n"
   ]
  },
  {
   "cell_type": "code",
   "execution_count": 40,
   "metadata": {},
   "outputs": [
    {
     "name": "stdout",
     "output_type": "stream",
     "text": [
      "P\n",
      "a\n",
      "k\n",
      "i\n",
      "s\n",
      "t\n",
      "a\n",
      "n\n",
      " \n",
      "z\n",
      "i\n",
      "n\n",
      "d\n",
      "a\n",
      " \n",
      "b\n",
      "a\n",
      "d\n",
      "!\n"
     ]
    }
   ],
   "source": [
    "for c in \"Pakistan zinda bad!\":\n",
    "    print(c)"
   ]
  },
  {
   "cell_type": "code",
   "execution_count": 39,
   "metadata": {},
   "outputs": [
    {
     "name": "stdout",
     "output_type": "stream",
     "text": [
      "Enter userH\n",
      "A\n",
      "B\n",
      "C\n",
      "D\n",
      "E\n",
      "F\n",
      "G\n",
      "H\n"
     ]
    }
   ],
   "source": [
    "users = ['A', 'B', 'C', 'D', 'E', 'F', 'G', 'H', 'I', 'J', 'K', 'L', 'M', 'N', 'O', 'P', 'Q', 'R', 'S', 'T', 'U', 'V', 'W', 'X', 'Y', 'Z']\n",
    "sear_u = input(\"Enter user\")\n",
    "\n",
    "for u in users:\n",
    "    print(u)\n",
    "    if u == sear_u:\n",
    "        break"
   ]
  },
  {
   "cell_type": "code",
   "execution_count": 53,
   "metadata": {},
   "outputs": [
    {
     "name": "stdout",
     "output_type": "stream",
     "text": [
      "Enter name| enter 'X' for exitabc\n",
      "Enter name| enter 'X' for exitabc\n",
      "Enter name| enter 'X' for exitxyz\n",
      "Enter name| enter 'X' for exitqasim\n",
      "Enter name| enter 'X' for exitxqasim\n",
      "Enter name| enter 'X' for exitqasimx\n",
      "Enter name| enter 'X' for exitX\n"
     ]
    },
    {
     "data": {
      "text/plain": [
       "['abc', 'abc', 'xyz', 'qasim', 'xqasim', 'qasimx']"
      ]
     },
     "execution_count": 53,
     "metadata": {},
     "output_type": "execute_result"
    }
   ],
   "source": [
    "names = []\n",
    "\n",
    "while True:\n",
    "    name = input(\"Enter name| enter 'X' for exit\")\n",
    "    if name==\"X\" or name=='x':\n",
    "        break\n",
    "    names.append(name)\n",
    "    \n",
    "names"
   ]
  },
  {
   "cell_type": "code",
   "execution_count": 54,
   "metadata": {},
   "outputs": [
    {
     "name": "stdout",
     "output_type": "stream",
     "text": [
      "Enter name| enter 'X' for exitpakistan\n",
      "Enter name| enter 'X' for exitabc\n",
      "Enter name| enter 'X' for exitaaaxaaaa\n"
     ]
    },
    {
     "data": {
      "text/plain": [
       "['pakistan', 'abc']"
      ]
     },
     "execution_count": 54,
     "metadata": {},
     "output_type": "execute_result"
    }
   ],
   "source": [
    "names = []\n",
    "\n",
    "while True:\n",
    "    name = input(\"Enter name| enter 'X' for exit\")\n",
    "    if \"X\" in name or 'x' in name:\n",
    "        break\n",
    "    names.append(name)\n",
    "    \n",
    "names"
   ]
  },
  {
   "cell_type": "code",
   "execution_count": 59,
   "metadata": {},
   "outputs": [
    {
     "data": {
      "text/plain": [
       "['Pakistan', 'A', 'XZ', 'A']"
      ]
     },
     "execution_count": 59,
     "metadata": {},
     "output_type": "execute_result"
    }
   ],
   "source": [
    "names = []\n",
    "\n",
    "names.append(\"A\")\n",
    "names.append(\"XZ\")\n",
    "names.append(\"A\")\n",
    "names.insert(0, \"Pakistan\")\n",
    "names"
   ]
  },
  {
   "cell_type": "code",
   "execution_count": 43,
   "metadata": {},
   "outputs": [
    {
     "name": "stdout",
     "output_type": "stream",
     "text": [
      "id\n",
      "name\n",
      "father_name\n",
      "education\n"
     ]
    }
   ],
   "source": [
    "studetn1 = {\"id\":1,\n",
    "           \"name\":\"Qasim\",\n",
    "           \"father_name\":\"Muhammad Aslam\",\n",
    "           \"education\":\"MSDS\"}\n",
    "\n",
    "for i in studetn1:# iterate on keys\n",
    "    print(i)"
   ]
  },
  {
   "cell_type": "code",
   "execution_count": 45,
   "metadata": {},
   "outputs": [
    {
     "name": "stdout",
     "output_type": "stream",
     "text": [
      "1\n",
      "Qasim\n",
      "Muhammad Aslam\n",
      "MSDS\n"
     ]
    }
   ],
   "source": [
    "studetn1 = {\"id\":1,\n",
    "           \"name\":\"Qasim\",\n",
    "           \"father_name\":\"Muhammad Aslam\",\n",
    "           \"education\":\"MSDS\"}\n",
    "\n",
    "for i in studetn1.values():# iterate on keys\n",
    "    print(i)"
   ]
  },
  {
   "cell_type": "code",
   "execution_count": 46,
   "metadata": {},
   "outputs": [
    {
     "name": "stdout",
     "output_type": "stream",
     "text": [
      "id\n",
      "name\n",
      "father_name\n",
      "education\n"
     ]
    }
   ],
   "source": [
    "studetn1 = {\"id\":1,\n",
    "           \"name\":\"Qasim\",\n",
    "           \"father_name\":\"Muhammad Aslam\",\n",
    "           \"education\":\"MSDS\"}\n",
    "\n",
    "for i in studetn1.keys():# iterate on keys\n",
    "    print(i)"
   ]
  },
  {
   "cell_type": "code",
   "execution_count": 48,
   "metadata": {},
   "outputs": [
    {
     "name": "stdout",
     "output_type": "stream",
     "text": [
      "('id', 1)\n",
      "('name', 'Qasim')\n",
      "('father_name', 'Muhammad Aslam')\n",
      "('education', 'MSDS')\n"
     ]
    }
   ],
   "source": [
    "studetn1 = {\"id\":1,\n",
    "           \"name\":\"Qasim\",\n",
    "           \"father_name\":\"Muhammad Aslam\",\n",
    "           \"education\":\"MSDS\"}\n",
    "\n",
    "for i in studetn1.items():# iterate on keys\n",
    "    print(i)"
   ]
  },
  {
   "cell_type": "code",
   "execution_count": 49,
   "metadata": {},
   "outputs": [
    {
     "name": "stdout",
     "output_type": "stream",
     "text": [
      "id 1\n",
      "name Qasim\n",
      "father_name Muhammad Aslam\n",
      "education MSDS\n"
     ]
    }
   ],
   "source": [
    "studetn1 = {\"id\":1,\n",
    "           \"name\":\"Qasim\",\n",
    "           \"father_name\":\"Muhammad Aslam\",\n",
    "           \"education\":\"MSDS\"}\n",
    "\n",
    "for k,v in studetn1.items():# iterate on keys\n",
    "    print(k, v)"
   ]
  },
  {
   "cell_type": "code",
   "execution_count": 50,
   "metadata": {},
   "outputs": [
    {
     "name": "stdout",
     "output_type": "stream",
     "text": [
      "id\n",
      "1\n"
     ]
    }
   ],
   "source": [
    "k, v = ('id', 1)\n",
    "print(k)\n",
    "print(v)"
   ]
  },
  {
   "cell_type": "code",
   "execution_count": 60,
   "metadata": {},
   "outputs": [
    {
     "name": "stdout",
     "output_type": "stream",
     "text": [
      "1\n",
      "2\n",
      "3\n",
      "4\n",
      "5\n",
      "6\n",
      "7\n",
      "8\n",
      "9\n",
      "10\n"
     ]
    }
   ],
   "source": [
    "for i in range(1,11):\n",
    "    print(i)# body"
   ]
  },
  {
   "cell_type": "code",
   "execution_count": 64,
   "metadata": {},
   "outputs": [
    {
     "name": "stdout",
     "output_type": "stream",
     "text": [
      "1\n",
      "4\n",
      "9\n",
      "16\n",
      "25\n",
      "36\n",
      "49\n",
      "64\n",
      "81\n",
      "100\n"
     ]
    },
    {
     "data": {
      "text/plain": [
       "[1, 4, 9, 16, 25, 36, 49, 64, 81, 100]"
      ]
     },
     "execution_count": 64,
     "metadata": {},
     "output_type": "execute_result"
    }
   ],
   "source": [
    "for i in range(1,11):\n",
    "    print(i*i)# body\n",
    "[i*i for i in range(1,11)]"
   ]
  },
  {
   "cell_type": "code",
   "execution_count": 66,
   "metadata": {},
   "outputs": [
    {
     "data": {
      "text/plain": [
       "[1, 4, 9, 16, 25, 36, 49, 64, 81, 100]"
      ]
     },
     "execution_count": 66,
     "metadata": {},
     "output_type": "execute_result"
    }
   ],
   "source": [
    "list((i*i for i in range(1,11)))"
   ]
  },
  {
   "cell_type": "code",
   "execution_count": 67,
   "metadata": {},
   "outputs": [
    {
     "data": {
      "text/plain": [
       "{1: 1, 2: 4, 3: 9, 4: 16, 5: 25, 6: 36, 7: 49, 8: 64, 9: 81, 10: 100}"
      ]
     },
     "execution_count": 67,
     "metadata": {},
     "output_type": "execute_result"
    }
   ],
   "source": [
    "{i:i*i for i in range(1,11)}"
   ]
  },
  {
   "cell_type": "code",
   "execution_count": 71,
   "metadata": {},
   "outputs": [
    {
     "data": {
      "text/plain": [
       "{0: '\\x00',\n",
       " 1: '\\x01',\n",
       " 2: '\\x02',\n",
       " 3: '\\x03',\n",
       " 4: '\\x04',\n",
       " 5: '\\x05',\n",
       " 6: '\\x06',\n",
       " 7: '\\x07',\n",
       " 8: '\\x08',\n",
       " 9: '\\t',\n",
       " 10: '\\n',\n",
       " 11: '\\x0b',\n",
       " 12: '\\x0c',\n",
       " 13: '\\r',\n",
       " 14: '\\x0e',\n",
       " 15: '\\x0f',\n",
       " 16: '\\x10',\n",
       " 17: '\\x11',\n",
       " 18: '\\x12',\n",
       " 19: '\\x13',\n",
       " 20: '\\x14',\n",
       " 21: '\\x15',\n",
       " 22: '\\x16',\n",
       " 23: '\\x17',\n",
       " 24: '\\x18',\n",
       " 25: '\\x19',\n",
       " 26: '\\x1a',\n",
       " 27: '\\x1b',\n",
       " 28: '\\x1c',\n",
       " 29: '\\x1d',\n",
       " 30: '\\x1e',\n",
       " 31: '\\x1f',\n",
       " 32: ' ',\n",
       " 33: '!',\n",
       " 34: '\"',\n",
       " 35: '#',\n",
       " 36: '$',\n",
       " 37: '%',\n",
       " 38: '&',\n",
       " 39: \"'\",\n",
       " 40: '(',\n",
       " 41: ')',\n",
       " 42: '*',\n",
       " 43: '+',\n",
       " 44: ',',\n",
       " 45: '-',\n",
       " 46: '.',\n",
       " 47: '/',\n",
       " 48: '0',\n",
       " 49: '1',\n",
       " 50: '2',\n",
       " 51: '3',\n",
       " 52: '4',\n",
       " 53: '5',\n",
       " 54: '6',\n",
       " 55: '7',\n",
       " 56: '8',\n",
       " 57: '9',\n",
       " 58: ':',\n",
       " 59: ';',\n",
       " 60: '<',\n",
       " 61: '=',\n",
       " 62: '>',\n",
       " 63: '?',\n",
       " 64: '@',\n",
       " 65: 'A',\n",
       " 66: 'B',\n",
       " 67: 'C',\n",
       " 68: 'D',\n",
       " 69: 'E',\n",
       " 70: 'F',\n",
       " 71: 'G',\n",
       " 72: 'H',\n",
       " 73: 'I',\n",
       " 74: 'J',\n",
       " 75: 'K',\n",
       " 76: 'L',\n",
       " 77: 'M',\n",
       " 78: 'N',\n",
       " 79: 'O',\n",
       " 80: 'P',\n",
       " 81: 'Q',\n",
       " 82: 'R',\n",
       " 83: 'S',\n",
       " 84: 'T',\n",
       " 85: 'U',\n",
       " 86: 'V',\n",
       " 87: 'W',\n",
       " 88: 'X',\n",
       " 89: 'Y',\n",
       " 90: 'Z',\n",
       " 91: '[',\n",
       " 92: '\\\\',\n",
       " 93: ']',\n",
       " 94: '^',\n",
       " 95: '_',\n",
       " 96: '`',\n",
       " 97: 'a',\n",
       " 98: 'b',\n",
       " 99: 'c',\n",
       " 100: 'd',\n",
       " 101: 'e',\n",
       " 102: 'f',\n",
       " 103: 'g',\n",
       " 104: 'h',\n",
       " 105: 'i',\n",
       " 106: 'j',\n",
       " 107: 'k',\n",
       " 108: 'l',\n",
       " 109: 'm',\n",
       " 110: 'n',\n",
       " 111: 'o',\n",
       " 112: 'p',\n",
       " 113: 'q',\n",
       " 114: 'r',\n",
       " 115: 's',\n",
       " 116: 't',\n",
       " 117: 'u',\n",
       " 118: 'v',\n",
       " 119: 'w',\n",
       " 120: 'x',\n",
       " 121: 'y',\n",
       " 122: 'z',\n",
       " 123: '{',\n",
       " 124: '|',\n",
       " 125: '}',\n",
       " 126: '~',\n",
       " 127: '\\x7f',\n",
       " 128: '\\x80',\n",
       " 129: '\\x81',\n",
       " 130: '\\x82',\n",
       " 131: '\\x83',\n",
       " 132: '\\x84',\n",
       " 133: '\\x85',\n",
       " 134: '\\x86',\n",
       " 135: '\\x87',\n",
       " 136: '\\x88',\n",
       " 137: '\\x89',\n",
       " 138: '\\x8a',\n",
       " 139: '\\x8b',\n",
       " 140: '\\x8c',\n",
       " 141: '\\x8d',\n",
       " 142: '\\x8e',\n",
       " 143: '\\x8f',\n",
       " 144: '\\x90',\n",
       " 145: '\\x91',\n",
       " 146: '\\x92',\n",
       " 147: '\\x93',\n",
       " 148: '\\x94',\n",
       " 149: '\\x95',\n",
       " 150: '\\x96',\n",
       " 151: '\\x97',\n",
       " 152: '\\x98',\n",
       " 153: '\\x99',\n",
       " 154: '\\x9a',\n",
       " 155: '\\x9b',\n",
       " 156: '\\x9c',\n",
       " 157: '\\x9d',\n",
       " 158: '\\x9e',\n",
       " 159: '\\x9f',\n",
       " 160: '\\xa0',\n",
       " 161: '¡',\n",
       " 162: '¢',\n",
       " 163: '£',\n",
       " 164: '¤',\n",
       " 165: '¥',\n",
       " 166: '¦',\n",
       " 167: '§',\n",
       " 168: '¨',\n",
       " 169: '©',\n",
       " 170: 'ª',\n",
       " 171: '«',\n",
       " 172: '¬',\n",
       " 173: '\\xad',\n",
       " 174: '®',\n",
       " 175: '¯',\n",
       " 176: '°',\n",
       " 177: '±',\n",
       " 178: '²',\n",
       " 179: '³',\n",
       " 180: '´',\n",
       " 181: 'µ',\n",
       " 182: '¶',\n",
       " 183: '·',\n",
       " 184: '¸',\n",
       " 185: '¹',\n",
       " 186: 'º',\n",
       " 187: '»',\n",
       " 188: '¼',\n",
       " 189: '½',\n",
       " 190: '¾',\n",
       " 191: '¿',\n",
       " 192: 'À',\n",
       " 193: 'Á',\n",
       " 194: 'Â',\n",
       " 195: 'Ã',\n",
       " 196: 'Ä',\n",
       " 197: 'Å',\n",
       " 198: 'Æ',\n",
       " 199: 'Ç',\n",
       " 200: 'È',\n",
       " 201: 'É',\n",
       " 202: 'Ê',\n",
       " 203: 'Ë',\n",
       " 204: 'Ì',\n",
       " 205: 'Í',\n",
       " 206: 'Î',\n",
       " 207: 'Ï',\n",
       " 208: 'Ð',\n",
       " 209: 'Ñ',\n",
       " 210: 'Ò',\n",
       " 211: 'Ó',\n",
       " 212: 'Ô',\n",
       " 213: 'Õ',\n",
       " 214: 'Ö',\n",
       " 215: '×',\n",
       " 216: 'Ø',\n",
       " 217: 'Ù',\n",
       " 218: 'Ú',\n",
       " 219: 'Û',\n",
       " 220: 'Ü',\n",
       " 221: 'Ý',\n",
       " 222: 'Þ',\n",
       " 223: 'ß',\n",
       " 224: 'à',\n",
       " 225: 'á',\n",
       " 226: 'â',\n",
       " 227: 'ã',\n",
       " 228: 'ä',\n",
       " 229: 'å',\n",
       " 230: 'æ',\n",
       " 231: 'ç',\n",
       " 232: 'è',\n",
       " 233: 'é',\n",
       " 234: 'ê',\n",
       " 235: 'ë',\n",
       " 236: 'ì',\n",
       " 237: 'í',\n",
       " 238: 'î',\n",
       " 239: 'ï',\n",
       " 240: 'ð',\n",
       " 241: 'ñ',\n",
       " 242: 'ò',\n",
       " 243: 'ó',\n",
       " 244: 'ô',\n",
       " 245: 'õ',\n",
       " 246: 'ö',\n",
       " 247: '÷',\n",
       " 248: 'ø',\n",
       " 249: 'ù',\n",
       " 250: 'ú',\n",
       " 251: 'û',\n",
       " 252: 'ü',\n",
       " 253: 'ý',\n",
       " 254: 'þ'}"
      ]
     },
     "execution_count": 71,
     "metadata": {},
     "output_type": "execute_result"
    }
   ],
   "source": [
    "{code:chr(code) for code in range(0,255)}"
   ]
  },
  {
   "cell_type": "code",
   "execution_count": 69,
   "metadata": {},
   "outputs": [
    {
     "data": {
      "text/plain": [
       "{97: 'a',\n",
       " 98: 'b',\n",
       " 99: 'c',\n",
       " 100: 'd',\n",
       " 101: 'e',\n",
       " 102: 'f',\n",
       " 103: 'g',\n",
       " 104: 'h',\n",
       " 105: 'i',\n",
       " 106: 'j',\n",
       " 107: 'k',\n",
       " 108: 'l',\n",
       " 109: 'm',\n",
       " 110: 'n',\n",
       " 111: 'o',\n",
       " 112: 'p',\n",
       " 113: 'q',\n",
       " 114: 'r',\n",
       " 115: 's',\n",
       " 116: 't',\n",
       " 117: 'u',\n",
       " 118: 'v',\n",
       " 119: 'w',\n",
       " 120: 'x',\n",
       " 121: 'y'}"
      ]
     },
     "execution_count": 69,
     "metadata": {},
     "output_type": "execute_result"
    }
   ],
   "source": [
    "{code:chr(code) for code in range(97,122)}"
   ]
  },
  {
   "cell_type": "markdown",
   "metadata": {},
   "source": [
    "# list comprehensive style"
   ]
  },
  {
   "cell_type": "code",
   "execution_count": 61,
   "metadata": {},
   "outputs": [
    {
     "data": {
      "text/plain": [
       "[1, 2, 3, 4, 5, 6, 7, 8, 9, 10]"
      ]
     },
     "execution_count": 61,
     "metadata": {},
     "output_type": "execute_result"
    }
   ],
   "source": [
    "[i for i in range(1,11)]"
   ]
  },
  {
   "cell_type": "code",
   "execution_count": 63,
   "metadata": {},
   "outputs": [
    {
     "data": {
      "text/plain": [
       "[1, 4, 9, 16, 25, 36, 49, 64, 81, 100]"
      ]
     },
     "execution_count": 63,
     "metadata": {},
     "output_type": "execute_result"
    }
   ],
   "source": [
    "[i*i for i in range(1,11)]"
   ]
  },
  {
   "cell_type": "markdown",
   "metadata": {},
   "source": [
    "# Nested loop"
   ]
  },
  {
   "cell_type": "code",
   "execution_count": 73,
   "metadata": {},
   "outputs": [
    {
     "name": "stdout",
     "output_type": "stream",
     "text": [
      "1 a\n",
      "2 aa\n",
      "3 aaa\n",
      "4 aaaa\n",
      "5 aaaaa\n",
      "6 aaaaaa\n",
      "7 aaaaaaa\n",
      "8 aaaaaaaa\n",
      "9 aaaaaaaaa\n",
      "10 aaaaaaaaaa\n"
     ]
    }
   ],
   "source": [
    "for row in range(1,11):\n",
    "    print(row, \"a\"*row)"
   ]
  },
  {
   "cell_type": "code",
   "execution_count": 87,
   "metadata": {},
   "outputs": [
    {
     "name": "stdout",
     "output_type": "stream",
     "text": [
      "1\tA \n",
      "2\tA B \n",
      "3\tA B C \n",
      "4\tA B C D \n",
      "5\tA B C D E \n",
      "6\tA B C D E F \n",
      "7\tA B C D E F G \n",
      "8\tA B C D E F G H \n",
      "9\tA B C D E F G H I \n",
      "10\tA B C D E F G H I J \n",
      "11\tA B C D E F G H I J K \n",
      "12\tA B C D E F G H I J K L \n",
      "13\tA B C D E F G H I J K L M \n",
      "14\tA B C D E F G H I J K L M N \n",
      "15\tA B C D E F G H I J K L M N O \n",
      "16\tA B C D E F G H I J K L M N O P \n",
      "17\tA B C D E F G H I J K L M N O P Q \n",
      "18\tA B C D E F G H I J K L M N O P Q R \n",
      "19\tA B C D E F G H I J K L M N O P Q R S \n",
      "20\tA B C D E F G H I J K L M N O P Q R S T \n",
      "21\tA B C D E F G H I J K L M N O P Q R S T U \n",
      "22\tA B C D E F G H I J K L M N O P Q R S T U V \n",
      "23\tA B C D E F G H I J K L M N O P Q R S T U V W \n",
      "24\tA B C D E F G H I J K L M N O P Q R S T U V W X \n",
      "25\tA B C D E F G H I J K L M N O P Q R S T U V W X Y \n",
      "26\tA B C D E F G H I J K L M N O P Q R S T U V W X Y Z \n"
     ]
    }
   ],
   "source": [
    "for row in range(1,27):\n",
    "    print(row, end=\"\\t\")\n",
    "    for c in range(65,65+row):\n",
    "        print(chr(c), end=\" \")\n",
    "    print(\"\")"
   ]
  },
  {
   "cell_type": "code",
   "execution_count": 94,
   "metadata": {},
   "outputs": [
    {
     "data": {
      "text/plain": [
       "[(1, 65),\n",
       " (2, 65),\n",
       " (2, 66),\n",
       " (3, 65),\n",
       " (3, 66),\n",
       " (3, 67),\n",
       " (4, 65),\n",
       " (4, 66),\n",
       " (4, 67),\n",
       " (4, 68),\n",
       " (5, 65),\n",
       " (5, 66),\n",
       " (5, 67),\n",
       " (5, 68),\n",
       " (5, 69),\n",
       " (6, 65),\n",
       " (6, 66),\n",
       " (6, 67),\n",
       " (6, 68),\n",
       " (6, 69),\n",
       " (6, 70),\n",
       " (7, 65),\n",
       " (7, 66),\n",
       " (7, 67),\n",
       " (7, 68),\n",
       " (7, 69),\n",
       " (7, 70),\n",
       " (7, 71),\n",
       " (8, 65),\n",
       " (8, 66),\n",
       " (8, 67),\n",
       " (8, 68),\n",
       " (8, 69),\n",
       " (8, 70),\n",
       " (8, 71),\n",
       " (8, 72),\n",
       " (9, 65),\n",
       " (9, 66),\n",
       " (9, 67),\n",
       " (9, 68),\n",
       " (9, 69),\n",
       " (9, 70),\n",
       " (9, 71),\n",
       " (9, 72),\n",
       " (9, 73),\n",
       " (10, 65),\n",
       " (10, 66),\n",
       " (10, 67),\n",
       " (10, 68),\n",
       " (10, 69),\n",
       " (10, 70),\n",
       " (10, 71),\n",
       " (10, 72),\n",
       " (10, 73),\n",
       " (10, 74),\n",
       " (11, 65),\n",
       " (11, 66),\n",
       " (11, 67),\n",
       " (11, 68),\n",
       " (11, 69),\n",
       " (11, 70),\n",
       " (11, 71),\n",
       " (11, 72),\n",
       " (11, 73),\n",
       " (11, 74),\n",
       " (11, 75),\n",
       " (12, 65),\n",
       " (12, 66),\n",
       " (12, 67),\n",
       " (12, 68),\n",
       " (12, 69),\n",
       " (12, 70),\n",
       " (12, 71),\n",
       " (12, 72),\n",
       " (12, 73),\n",
       " (12, 74),\n",
       " (12, 75),\n",
       " (12, 76),\n",
       " (13, 65),\n",
       " (13, 66),\n",
       " (13, 67),\n",
       " (13, 68),\n",
       " (13, 69),\n",
       " (13, 70),\n",
       " (13, 71),\n",
       " (13, 72),\n",
       " (13, 73),\n",
       " (13, 74),\n",
       " (13, 75),\n",
       " (13, 76),\n",
       " (13, 77),\n",
       " (14, 65),\n",
       " (14, 66),\n",
       " (14, 67),\n",
       " (14, 68),\n",
       " (14, 69),\n",
       " (14, 70),\n",
       " (14, 71),\n",
       " (14, 72),\n",
       " (14, 73),\n",
       " (14, 74),\n",
       " (14, 75),\n",
       " (14, 76),\n",
       " (14, 77),\n",
       " (14, 78),\n",
       " (15, 65),\n",
       " (15, 66),\n",
       " (15, 67),\n",
       " (15, 68),\n",
       " (15, 69),\n",
       " (15, 70),\n",
       " (15, 71),\n",
       " (15, 72),\n",
       " (15, 73),\n",
       " (15, 74),\n",
       " (15, 75),\n",
       " (15, 76),\n",
       " (15, 77),\n",
       " (15, 78),\n",
       " (15, 79),\n",
       " (16, 65),\n",
       " (16, 66),\n",
       " (16, 67),\n",
       " (16, 68),\n",
       " (16, 69),\n",
       " (16, 70),\n",
       " (16, 71),\n",
       " (16, 72),\n",
       " (16, 73),\n",
       " (16, 74),\n",
       " (16, 75),\n",
       " (16, 76),\n",
       " (16, 77),\n",
       " (16, 78),\n",
       " (16, 79),\n",
       " (16, 80),\n",
       " (17, 65),\n",
       " (17, 66),\n",
       " (17, 67),\n",
       " (17, 68),\n",
       " (17, 69),\n",
       " (17, 70),\n",
       " (17, 71),\n",
       " (17, 72),\n",
       " (17, 73),\n",
       " (17, 74),\n",
       " (17, 75),\n",
       " (17, 76),\n",
       " (17, 77),\n",
       " (17, 78),\n",
       " (17, 79),\n",
       " (17, 80),\n",
       " (17, 81),\n",
       " (18, 65),\n",
       " (18, 66),\n",
       " (18, 67),\n",
       " (18, 68),\n",
       " (18, 69),\n",
       " (18, 70),\n",
       " (18, 71),\n",
       " (18, 72),\n",
       " (18, 73),\n",
       " (18, 74),\n",
       " (18, 75),\n",
       " (18, 76),\n",
       " (18, 77),\n",
       " (18, 78),\n",
       " (18, 79),\n",
       " (18, 80),\n",
       " (18, 81),\n",
       " (18, 82),\n",
       " (19, 65),\n",
       " (19, 66),\n",
       " (19, 67),\n",
       " (19, 68),\n",
       " (19, 69),\n",
       " (19, 70),\n",
       " (19, 71),\n",
       " (19, 72),\n",
       " (19, 73),\n",
       " (19, 74),\n",
       " (19, 75),\n",
       " (19, 76),\n",
       " (19, 77),\n",
       " (19, 78),\n",
       " (19, 79),\n",
       " (19, 80),\n",
       " (19, 81),\n",
       " (19, 82),\n",
       " (19, 83),\n",
       " (20, 65),\n",
       " (20, 66),\n",
       " (20, 67),\n",
       " (20, 68),\n",
       " (20, 69),\n",
       " (20, 70),\n",
       " (20, 71),\n",
       " (20, 72),\n",
       " (20, 73),\n",
       " (20, 74),\n",
       " (20, 75),\n",
       " (20, 76),\n",
       " (20, 77),\n",
       " (20, 78),\n",
       " (20, 79),\n",
       " (20, 80),\n",
       " (20, 81),\n",
       " (20, 82),\n",
       " (20, 83),\n",
       " (20, 84),\n",
       " (21, 65),\n",
       " (21, 66),\n",
       " (21, 67),\n",
       " (21, 68),\n",
       " (21, 69),\n",
       " (21, 70),\n",
       " (21, 71),\n",
       " (21, 72),\n",
       " (21, 73),\n",
       " (21, 74),\n",
       " (21, 75),\n",
       " (21, 76),\n",
       " (21, 77),\n",
       " (21, 78),\n",
       " (21, 79),\n",
       " (21, 80),\n",
       " (21, 81),\n",
       " (21, 82),\n",
       " (21, 83),\n",
       " (21, 84),\n",
       " (21, 85),\n",
       " (22, 65),\n",
       " (22, 66),\n",
       " (22, 67),\n",
       " (22, 68),\n",
       " (22, 69),\n",
       " (22, 70),\n",
       " (22, 71),\n",
       " (22, 72),\n",
       " (22, 73),\n",
       " (22, 74),\n",
       " (22, 75),\n",
       " (22, 76),\n",
       " (22, 77),\n",
       " (22, 78),\n",
       " (22, 79),\n",
       " (22, 80),\n",
       " (22, 81),\n",
       " (22, 82),\n",
       " (22, 83),\n",
       " (22, 84),\n",
       " (22, 85),\n",
       " (22, 86),\n",
       " (23, 65),\n",
       " (23, 66),\n",
       " (23, 67),\n",
       " (23, 68),\n",
       " (23, 69),\n",
       " (23, 70),\n",
       " (23, 71),\n",
       " (23, 72),\n",
       " (23, 73),\n",
       " (23, 74),\n",
       " (23, 75),\n",
       " (23, 76),\n",
       " (23, 77),\n",
       " (23, 78),\n",
       " (23, 79),\n",
       " (23, 80),\n",
       " (23, 81),\n",
       " (23, 82),\n",
       " (23, 83),\n",
       " (23, 84),\n",
       " (23, 85),\n",
       " (23, 86),\n",
       " (23, 87),\n",
       " (24, 65),\n",
       " (24, 66),\n",
       " (24, 67),\n",
       " (24, 68),\n",
       " (24, 69),\n",
       " (24, 70),\n",
       " (24, 71),\n",
       " (24, 72),\n",
       " (24, 73),\n",
       " (24, 74),\n",
       " (24, 75),\n",
       " (24, 76),\n",
       " (24, 77),\n",
       " (24, 78),\n",
       " (24, 79),\n",
       " (24, 80),\n",
       " (24, 81),\n",
       " (24, 82),\n",
       " (24, 83),\n",
       " (24, 84),\n",
       " (24, 85),\n",
       " (24, 86),\n",
       " (24, 87),\n",
       " (24, 88),\n",
       " (25, 65),\n",
       " (25, 66),\n",
       " (25, 67),\n",
       " (25, 68),\n",
       " (25, 69),\n",
       " (25, 70),\n",
       " (25, 71),\n",
       " (25, 72),\n",
       " (25, 73),\n",
       " (25, 74),\n",
       " (25, 75),\n",
       " (25, 76),\n",
       " (25, 77),\n",
       " (25, 78),\n",
       " (25, 79),\n",
       " (25, 80),\n",
       " (25, 81),\n",
       " (25, 82),\n",
       " (25, 83),\n",
       " (25, 84),\n",
       " (25, 85),\n",
       " (25, 86),\n",
       " (25, 87),\n",
       " (25, 88),\n",
       " (25, 89)]"
      ]
     },
     "execution_count": 94,
     "metadata": {},
     "output_type": "execute_result"
    }
   ],
   "source": [
    "[(i,j) for i in range(1,26) for j in range(65,65+i)]"
   ]
  },
  {
   "cell_type": "code",
   "execution_count": 95,
   "metadata": {},
   "outputs": [
    {
     "data": {
      "text/plain": [
       "[(1, 'A'),\n",
       " (2, 'A'),\n",
       " (2, 'B'),\n",
       " (3, 'A'),\n",
       " (3, 'B'),\n",
       " (3, 'C'),\n",
       " (4, 'A'),\n",
       " (4, 'B'),\n",
       " (4, 'C'),\n",
       " (4, 'D'),\n",
       " (5, 'A'),\n",
       " (5, 'B'),\n",
       " (5, 'C'),\n",
       " (5, 'D'),\n",
       " (5, 'E'),\n",
       " (6, 'A'),\n",
       " (6, 'B'),\n",
       " (6, 'C'),\n",
       " (6, 'D'),\n",
       " (6, 'E'),\n",
       " (6, 'F'),\n",
       " (7, 'A'),\n",
       " (7, 'B'),\n",
       " (7, 'C'),\n",
       " (7, 'D'),\n",
       " (7, 'E'),\n",
       " (7, 'F'),\n",
       " (7, 'G'),\n",
       " (8, 'A'),\n",
       " (8, 'B'),\n",
       " (8, 'C'),\n",
       " (8, 'D'),\n",
       " (8, 'E'),\n",
       " (8, 'F'),\n",
       " (8, 'G'),\n",
       " (8, 'H'),\n",
       " (9, 'A'),\n",
       " (9, 'B'),\n",
       " (9, 'C'),\n",
       " (9, 'D'),\n",
       " (9, 'E'),\n",
       " (9, 'F'),\n",
       " (9, 'G'),\n",
       " (9, 'H'),\n",
       " (9, 'I'),\n",
       " (10, 'A'),\n",
       " (10, 'B'),\n",
       " (10, 'C'),\n",
       " (10, 'D'),\n",
       " (10, 'E'),\n",
       " (10, 'F'),\n",
       " (10, 'G'),\n",
       " (10, 'H'),\n",
       " (10, 'I'),\n",
       " (10, 'J'),\n",
       " (11, 'A'),\n",
       " (11, 'B'),\n",
       " (11, 'C'),\n",
       " (11, 'D'),\n",
       " (11, 'E'),\n",
       " (11, 'F'),\n",
       " (11, 'G'),\n",
       " (11, 'H'),\n",
       " (11, 'I'),\n",
       " (11, 'J'),\n",
       " (11, 'K'),\n",
       " (12, 'A'),\n",
       " (12, 'B'),\n",
       " (12, 'C'),\n",
       " (12, 'D'),\n",
       " (12, 'E'),\n",
       " (12, 'F'),\n",
       " (12, 'G'),\n",
       " (12, 'H'),\n",
       " (12, 'I'),\n",
       " (12, 'J'),\n",
       " (12, 'K'),\n",
       " (12, 'L'),\n",
       " (13, 'A'),\n",
       " (13, 'B'),\n",
       " (13, 'C'),\n",
       " (13, 'D'),\n",
       " (13, 'E'),\n",
       " (13, 'F'),\n",
       " (13, 'G'),\n",
       " (13, 'H'),\n",
       " (13, 'I'),\n",
       " (13, 'J'),\n",
       " (13, 'K'),\n",
       " (13, 'L'),\n",
       " (13, 'M'),\n",
       " (14, 'A'),\n",
       " (14, 'B'),\n",
       " (14, 'C'),\n",
       " (14, 'D'),\n",
       " (14, 'E'),\n",
       " (14, 'F'),\n",
       " (14, 'G'),\n",
       " (14, 'H'),\n",
       " (14, 'I'),\n",
       " (14, 'J'),\n",
       " (14, 'K'),\n",
       " (14, 'L'),\n",
       " (14, 'M'),\n",
       " (14, 'N'),\n",
       " (15, 'A'),\n",
       " (15, 'B'),\n",
       " (15, 'C'),\n",
       " (15, 'D'),\n",
       " (15, 'E'),\n",
       " (15, 'F'),\n",
       " (15, 'G'),\n",
       " (15, 'H'),\n",
       " (15, 'I'),\n",
       " (15, 'J'),\n",
       " (15, 'K'),\n",
       " (15, 'L'),\n",
       " (15, 'M'),\n",
       " (15, 'N'),\n",
       " (15, 'O'),\n",
       " (16, 'A'),\n",
       " (16, 'B'),\n",
       " (16, 'C'),\n",
       " (16, 'D'),\n",
       " (16, 'E'),\n",
       " (16, 'F'),\n",
       " (16, 'G'),\n",
       " (16, 'H'),\n",
       " (16, 'I'),\n",
       " (16, 'J'),\n",
       " (16, 'K'),\n",
       " (16, 'L'),\n",
       " (16, 'M'),\n",
       " (16, 'N'),\n",
       " (16, 'O'),\n",
       " (16, 'P'),\n",
       " (17, 'A'),\n",
       " (17, 'B'),\n",
       " (17, 'C'),\n",
       " (17, 'D'),\n",
       " (17, 'E'),\n",
       " (17, 'F'),\n",
       " (17, 'G'),\n",
       " (17, 'H'),\n",
       " (17, 'I'),\n",
       " (17, 'J'),\n",
       " (17, 'K'),\n",
       " (17, 'L'),\n",
       " (17, 'M'),\n",
       " (17, 'N'),\n",
       " (17, 'O'),\n",
       " (17, 'P'),\n",
       " (17, 'Q'),\n",
       " (18, 'A'),\n",
       " (18, 'B'),\n",
       " (18, 'C'),\n",
       " (18, 'D'),\n",
       " (18, 'E'),\n",
       " (18, 'F'),\n",
       " (18, 'G'),\n",
       " (18, 'H'),\n",
       " (18, 'I'),\n",
       " (18, 'J'),\n",
       " (18, 'K'),\n",
       " (18, 'L'),\n",
       " (18, 'M'),\n",
       " (18, 'N'),\n",
       " (18, 'O'),\n",
       " (18, 'P'),\n",
       " (18, 'Q'),\n",
       " (18, 'R'),\n",
       " (19, 'A'),\n",
       " (19, 'B'),\n",
       " (19, 'C'),\n",
       " (19, 'D'),\n",
       " (19, 'E'),\n",
       " (19, 'F'),\n",
       " (19, 'G'),\n",
       " (19, 'H'),\n",
       " (19, 'I'),\n",
       " (19, 'J'),\n",
       " (19, 'K'),\n",
       " (19, 'L'),\n",
       " (19, 'M'),\n",
       " (19, 'N'),\n",
       " (19, 'O'),\n",
       " (19, 'P'),\n",
       " (19, 'Q'),\n",
       " (19, 'R'),\n",
       " (19, 'S'),\n",
       " (20, 'A'),\n",
       " (20, 'B'),\n",
       " (20, 'C'),\n",
       " (20, 'D'),\n",
       " (20, 'E'),\n",
       " (20, 'F'),\n",
       " (20, 'G'),\n",
       " (20, 'H'),\n",
       " (20, 'I'),\n",
       " (20, 'J'),\n",
       " (20, 'K'),\n",
       " (20, 'L'),\n",
       " (20, 'M'),\n",
       " (20, 'N'),\n",
       " (20, 'O'),\n",
       " (20, 'P'),\n",
       " (20, 'Q'),\n",
       " (20, 'R'),\n",
       " (20, 'S'),\n",
       " (20, 'T'),\n",
       " (21, 'A'),\n",
       " (21, 'B'),\n",
       " (21, 'C'),\n",
       " (21, 'D'),\n",
       " (21, 'E'),\n",
       " (21, 'F'),\n",
       " (21, 'G'),\n",
       " (21, 'H'),\n",
       " (21, 'I'),\n",
       " (21, 'J'),\n",
       " (21, 'K'),\n",
       " (21, 'L'),\n",
       " (21, 'M'),\n",
       " (21, 'N'),\n",
       " (21, 'O'),\n",
       " (21, 'P'),\n",
       " (21, 'Q'),\n",
       " (21, 'R'),\n",
       " (21, 'S'),\n",
       " (21, 'T'),\n",
       " (21, 'U'),\n",
       " (22, 'A'),\n",
       " (22, 'B'),\n",
       " (22, 'C'),\n",
       " (22, 'D'),\n",
       " (22, 'E'),\n",
       " (22, 'F'),\n",
       " (22, 'G'),\n",
       " (22, 'H'),\n",
       " (22, 'I'),\n",
       " (22, 'J'),\n",
       " (22, 'K'),\n",
       " (22, 'L'),\n",
       " (22, 'M'),\n",
       " (22, 'N'),\n",
       " (22, 'O'),\n",
       " (22, 'P'),\n",
       " (22, 'Q'),\n",
       " (22, 'R'),\n",
       " (22, 'S'),\n",
       " (22, 'T'),\n",
       " (22, 'U'),\n",
       " (22, 'V'),\n",
       " (23, 'A'),\n",
       " (23, 'B'),\n",
       " (23, 'C'),\n",
       " (23, 'D'),\n",
       " (23, 'E'),\n",
       " (23, 'F'),\n",
       " (23, 'G'),\n",
       " (23, 'H'),\n",
       " (23, 'I'),\n",
       " (23, 'J'),\n",
       " (23, 'K'),\n",
       " (23, 'L'),\n",
       " (23, 'M'),\n",
       " (23, 'N'),\n",
       " (23, 'O'),\n",
       " (23, 'P'),\n",
       " (23, 'Q'),\n",
       " (23, 'R'),\n",
       " (23, 'S'),\n",
       " (23, 'T'),\n",
       " (23, 'U'),\n",
       " (23, 'V'),\n",
       " (23, 'W'),\n",
       " (24, 'A'),\n",
       " (24, 'B'),\n",
       " (24, 'C'),\n",
       " (24, 'D'),\n",
       " (24, 'E'),\n",
       " (24, 'F'),\n",
       " (24, 'G'),\n",
       " (24, 'H'),\n",
       " (24, 'I'),\n",
       " (24, 'J'),\n",
       " (24, 'K'),\n",
       " (24, 'L'),\n",
       " (24, 'M'),\n",
       " (24, 'N'),\n",
       " (24, 'O'),\n",
       " (24, 'P'),\n",
       " (24, 'Q'),\n",
       " (24, 'R'),\n",
       " (24, 'S'),\n",
       " (24, 'T'),\n",
       " (24, 'U'),\n",
       " (24, 'V'),\n",
       " (24, 'W'),\n",
       " (24, 'X'),\n",
       " (25, 'A'),\n",
       " (25, 'B'),\n",
       " (25, 'C'),\n",
       " (25, 'D'),\n",
       " (25, 'E'),\n",
       " (25, 'F'),\n",
       " (25, 'G'),\n",
       " (25, 'H'),\n",
       " (25, 'I'),\n",
       " (25, 'J'),\n",
       " (25, 'K'),\n",
       " (25, 'L'),\n",
       " (25, 'M'),\n",
       " (25, 'N'),\n",
       " (25, 'O'),\n",
       " (25, 'P'),\n",
       " (25, 'Q'),\n",
       " (25, 'R'),\n",
       " (25, 'S'),\n",
       " (25, 'T'),\n",
       " (25, 'U'),\n",
       " (25, 'V'),\n",
       " (25, 'W'),\n",
       " (25, 'X'),\n",
       " (25, 'Y')]"
      ]
     },
     "execution_count": 95,
     "metadata": {},
     "output_type": "execute_result"
    }
   ],
   "source": [
    "[(i,chr(j)) for i in range(1,26) for j in range(65,65+i)]"
   ]
  },
  {
   "cell_type": "code",
   "execution_count": 103,
   "metadata": {},
   "outputs": [
    {
     "name": "stdout",
     "output_type": "stream",
     "text": [
      "1\n",
      "2\n",
      "3\n",
      "\n",
      "4\n",
      "5\n",
      "7\n",
      "\n",
      "20\n",
      "21\n",
      "25\n",
      "\n"
     ]
    }
   ],
   "source": [
    "data = [[1,2,3],\n",
    "       [4,5,7],\n",
    "       [20,21,25]]\n",
    "\n",
    "for row in data:\n",
    "    for c in row:\n",
    "        print(c)\n",
    "    print()"
   ]
  },
  {
   "cell_type": "code",
   "execution_count": 104,
   "metadata": {},
   "outputs": [
    {
     "name": "stdout",
     "output_type": "stream",
     "text": [
      "1 2 3 \n",
      "4 5 7 \n",
      "20 21 25 \n"
     ]
    }
   ],
   "source": [
    "for row in data:\n",
    "    for c in row:\n",
    "        print(c, end=\" \")\n",
    "    print()"
   ]
  },
  {
   "cell_type": "code",
   "execution_count": 107,
   "metadata": {},
   "outputs": [
    {
     "name": "stdout",
     "output_type": "stream",
     "text": [
      "1\n",
      "2\n",
      "3\n",
      "4\n",
      "6\n",
      "7\n",
      "8\n",
      "9\n",
      "10\n",
      "11\n"
     ]
    }
   ],
   "source": [
    "counter = 0\n",
    "while counter <= 10:\n",
    "    counter+=1\n",
    "    if counter == 5:\n",
    "        continue# skip\n",
    "    print(counter)\n",
    "    \n",
    "    "
   ]
  },
  {
   "cell_type": "code",
   "execution_count": 108,
   "metadata": {},
   "outputs": [
    {
     "name": "stdout",
     "output_type": "stream",
     "text": [
      "Pakistan\n"
     ]
    }
   ],
   "source": [
    "if True:\n",
    "    print(\"Pakistan\")"
   ]
  },
  {
   "cell_type": "code",
   "execution_count": 110,
   "metadata": {},
   "outputs": [
    {
     "ename": "SyntaxError",
     "evalue": "unexpected EOF while parsing (<ipython-input-110-2c8a33b52dfb>, line 1)",
     "output_type": "error",
     "traceback": [
      "\u001b[0;36m  File \u001b[0;32m\"<ipython-input-110-2c8a33b52dfb>\"\u001b[0;36m, line \u001b[0;32m1\u001b[0m\n\u001b[0;31m    if True:\u001b[0m\n\u001b[0m            ^\u001b[0m\n\u001b[0;31mSyntaxError\u001b[0m\u001b[0;31m:\u001b[0m unexpected EOF while parsing\n"
     ]
    }
   ],
   "source": [
    "if True:"
   ]
  },
  {
   "cell_type": "code",
   "execution_count": 109,
   "metadata": {},
   "outputs": [],
   "source": [
    "if True:\n",
    "    pass"
   ]
  },
  {
   "cell_type": "code",
   "execution_count": 111,
   "metadata": {},
   "outputs": [
    {
     "name": "stdout",
     "output_type": "stream",
     "text": [
      "pakistan\n"
     ]
    }
   ],
   "source": [
    "if True:\n",
    "    pass\n",
    "    print(\"pakistan\")"
   ]
  },
  {
   "cell_type": "code",
   "execution_count": 112,
   "metadata": {},
   "outputs": [],
   "source": [
    "for i in range(1,10):\n",
    "    pass"
   ]
  },
  {
   "cell_type": "code",
   "execution_count": 113,
   "metadata": {},
   "outputs": [
    {
     "name": "stdout",
     "output_type": "stream",
     "text": [
      "94151001777024\n",
      "94151001777024\n"
     ]
    }
   ],
   "source": [
    "a = 5\n",
    "b = 5\n",
    "print(id(a))\n",
    "print(id(b))"
   ]
  },
  {
   "cell_type": "markdown",
   "metadata": {},
   "source": [
    "# attendance"
   ]
  },
  {
   "cell_type": "code",
   "execution_count": 124,
   "metadata": {},
   "outputs": [
    {
     "name": "stdout",
     "output_type": "stream",
     "text": [
      "166\n"
     ]
    },
    {
     "data": {
      "text/plain": [
       "['178950',\n",
       " '188523',\n",
       " '181638',\n",
       " '185558',\n",
       " '59115',\n",
       " '183349',\n",
       " '185754',\n",
       " '173431',\n",
       " '172478',\n",
       " '182023',\n",
       " '188401',\n",
       " '180996',\n",
       " '170982',\n",
       " '128778',\n",
       " '55300',\n",
       " '182352',\n",
       " '107890',\n",
       " '177535',\n",
       " '178354',\n",
       " '189427',\n",
       " '130669',\n",
       " '171375',\n",
       " '175331',\n",
       " '176719',\n",
       " '185253',\n",
       " '164763',\n",
       " '171658',\n",
       " '134239',\n",
       " '180028',\n",
       " '189261',\n",
       " '129260',\n",
       " '174016',\n",
       " '103786',\n",
       " '74287',\n",
       " '172998',\n",
       " '52499',\n",
       " '189416',\n",
       " '168894',\n",
       " '133452',\n",
       " '133985',\n",
       " '172924',\n",
       " '101207',\n",
       " '173652',\n",
       " '74182',\n",
       " '176945',\n",
       " '172541',\n",
       " '180280',\n",
       " '188727',\n",
       " '164489',\n",
       " '168703',\n",
       " '166522',\n",
       " '68513',\n",
       " '172147',\n",
       " '131885',\n",
       " '175139',\n",
       " '182978',\n",
       " '185394',\n",
       " '57947',\n",
       " '173701',\n",
       " '49583',\n",
       " '180111',\n",
       " '91925',\n",
       " '178248',\n",
       " '175167',\n",
       " '186218',\n",
       " '131496',\n",
       " '175761',\n",
       " '182239',\n",
       " '152592',\n",
       " '183812',\n",
       " '133544',\n",
       " '176168',\n",
       " '128409',\n",
       " '178751',\n",
       " '172797',\n",
       " '174751',\n",
       " '185099',\n",
       " '84989',\n",
       " '187831',\n",
       " '132619',\n",
       " '185674',\n",
       " '116704',\n",
       " '176880',\n",
       " '151960',\n",
       " '177982',\n",
       " '62922',\n",
       " '182641',\n",
       " '139339',\n",
       " '139392',\n",
       " '116498',\n",
       " '95846',\n",
       " '165097',\n",
       " '181221',\n",
       " '172238',\n",
       " '172235',\n",
       " '184298',\n",
       " '99685',\n",
       " '174229',\n",
       " '150034',\n",
       " '168092',\n",
       " '132123',\n",
       " '142650',\n",
       " '185122',\n",
       " '187530',\n",
       " '113830',\n",
       " '143001',\n",
       " '188433',\n",
       " '170928',\n",
       " '012105',\n",
       " '176439',\n",
       " '121514',\n",
       " '174047',\n",
       " '178547',\n",
       " '96020',\n",
       " '005259',\n",
       " '185636',\n",
       " '172641',\n",
       " '66597',\n",
       " '173795',\n",
       " '179345',\n",
       " '168751',\n",
       " '139458',\n",
       " '133802',\n",
       " '157450',\n",
       " '187644',\n",
       " '187118',\n",
       " '188172',\n",
       " '159833',\n",
       " '176190',\n",
       " '67260',\n",
       " '183887',\n",
       " '183730',\n",
       " '133488',\n",
       " '172527',\n",
       " '180144',\n",
       " '183270',\n",
       " '163577',\n",
       " '172695',\n",
       " '176697',\n",
       " '182763',\n",
       " '96879',\n",
       " '95349',\n",
       " '174125',\n",
       " '91698',\n",
       " '188720',\n",
       " '187258',\n",
       " '125164',\n",
       " '123437',\n",
       " '181896',\n",
       " '149493',\n",
       " '169528',\n",
       " '180162',\n",
       " '60925',\n",
       " '048687',\n",
       " '155482',\n",
       " '174416',\n",
       " '175646',\n",
       " '171408',\n",
       " '183459',\n",
       " '55486',\n",
       " '185213',\n",
       " '180057',\n",
       " '172941',\n",
       " '171445',\n",
       " '172525',\n",
       " '186252']"
      ]
     },
     "execution_count": 124,
     "metadata": {},
     "output_type": "execute_result"
    }
   ],
   "source": [
    "import re\n",
    "with open(\"meeting_saved_chat.txt\") as f:\n",
    "    l = f.readlines()# lines as list loaded\n",
    "    attendance = []\n",
    "    for row in l:\n",
    "        a = re.findall(r'[0-9]{5,6}\\b',row)\n",
    "        if len(a)>=1 and a[0] not in attendance:\n",
    "            attendance.append(a[0])\n",
    "            \n",
    "print(len(attendance))\n",
    "attendance"
   ]
  },
  {
   "cell_type": "code",
   "execution_count": 120,
   "metadata": {},
   "outputs": [
    {
     "data": {
      "text/plain": [
       "'pakistan \\\\n'"
      ]
     },
     "execution_count": 120,
     "metadata": {},
     "output_type": "execute_result"
    }
   ],
   "source": [
    "r\"pakistan \\n\""
   ]
  },
  {
   "cell_type": "code",
   "execution_count": 130,
   "metadata": {},
   "outputs": [
    {
     "data": {
      "text/plain": [
       "['12345', '789456', '45698']"
      ]
     },
     "execution_count": 130,
     "metadata": {},
     "output_type": "execute_result"
    }
   ],
   "source": [
    "txt = \"pakistan 12345 pakistan 789456 xyz 45698 ab123456xyz\"\n",
    "\n",
    "re.findall(r'[0-9]{5,6}\\b',txt)"
   ]
  },
  {
   "cell_type": "code",
   "execution_count": 132,
   "metadata": {},
   "outputs": [
    {
     "data": {
      "text/html": [
       "<div>\n",
       "<style scoped>\n",
       "    .dataframe tbody tr th:only-of-type {\n",
       "        vertical-align: middle;\n",
       "    }\n",
       "\n",
       "    .dataframe tbody tr th {\n",
       "        vertical-align: top;\n",
       "    }\n",
       "\n",
       "    .dataframe thead th {\n",
       "        text-align: right;\n",
       "    }\n",
       "</style>\n",
       "<table border=\"1\" class=\"dataframe\">\n",
       "  <thead>\n",
       "    <tr style=\"text-align: right;\">\n",
       "      <th></th>\n",
       "      <th>cancer type</th>\n",
       "      <th>types</th>\n",
       "    </tr>\n",
       "  </thead>\n",
       "  <tbody>\n",
       "    <tr>\n",
       "      <th>0</th>\n",
       "      <td>bone cancer</td>\n",
       "      <td>[bn cancer, bone]</td>\n",
       "    </tr>\n",
       "  </tbody>\n",
       "</table>\n",
       "</div>"
      ],
      "text/plain": [
       "   cancer type              types\n",
       "0  bone cancer  [bn cancer, bone]"
      ]
     },
     "execution_count": 132,
     "metadata": {},
     "output_type": "execute_result"
    }
   ],
   "source": [
    "import pandas as pd\n",
    "\n",
    "df = pd.DataFrame({\n",
    "    \"cancer type\": [\"bone cancer\"],\n",
    "    \"types\":[[\"bn cancer\",\"bone\"]]\n",
    "})\n",
    "df"
   ]
  },
  {
   "cell_type": "code",
   "execution_count": null,
   "metadata": {},
   "outputs": [],
   "source": []
  }
 ],
 "metadata": {
  "kernelspec": {
   "display_name": "Python 3",
   "language": "python",
   "name": "python3"
  },
  "language_info": {
   "codemirror_mode": {
    "name": "ipython",
    "version": 3
   },
   "file_extension": ".py",
   "mimetype": "text/x-python",
   "name": "python",
   "nbconvert_exporter": "python",
   "pygments_lexer": "ipython3",
   "version": "3.7.6"
  }
 },
 "nbformat": 4,
 "nbformat_minor": 4
}
