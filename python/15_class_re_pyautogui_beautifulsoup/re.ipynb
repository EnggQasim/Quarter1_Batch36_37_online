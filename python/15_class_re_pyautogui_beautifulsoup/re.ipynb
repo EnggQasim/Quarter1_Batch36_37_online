{
 "cells": [
  {
   "cell_type": "code",
   "execution_count": 1,
   "metadata": {},
   "outputs": [],
   "source": [
    "import re"
   ]
  },
  {
   "cell_type": "code",
   "execution_count": 4,
   "metadata": {},
   "outputs": [
    {
     "data": {
      "text/plain": [
       "['a', 'a']"
      ]
     },
     "execution_count": 4,
     "metadata": {},
     "output_type": "execute_result"
    }
   ],
   "source": [
    "text = \"\"\"\n",
    "pakistan\n",
    "\"\"\"\n",
    "re.findall(\"a\", text) # extact character wise"
   ]
  },
  {
   "cell_type": "code",
   "execution_count": 6,
   "metadata": {},
   "outputs": [
    {
     "data": {
      "text/plain": [
       "['ki', 'ki']"
      ]
     },
     "execution_count": 6,
     "metadata": {},
     "output_type": "execute_result"
    }
   ],
   "source": [
    "text = \"\"\"\n",
    "pakistan America adadki222ka\n",
    "\"\"\"\n",
    "re.findall(\"ki\", text)"
   ]
  },
  {
   "cell_type": "code",
   "execution_count": 7,
   "metadata": {},
   "outputs": [
    {
     "data": {
      "text/plain": [
       "['pak']"
      ]
     },
     "execution_count": 7,
     "metadata": {},
     "output_type": "execute_result"
    }
   ],
   "source": [
    "text = \"\"\"\n",
    "pakistan America adadki222ka\n",
    "\"\"\"\n",
    "re.findall(\"pak\", text)"
   ]
  },
  {
   "cell_type": "code",
   "execution_count": 10,
   "metadata": {},
   "outputs": [
    {
     "data": {
      "text/plain": [
       "['pakistan', 'pakistan']"
      ]
     },
     "execution_count": 10,
     "metadata": {},
     "output_type": "execute_result"
    }
   ],
   "source": [
    "text = \"\"\"\n",
    "pakistan\\n America pakistan adadki222ka\n",
    "\"\"\"\n",
    "re.findall(\"pakistan\", text)"
   ]
  },
  {
   "cell_type": "code",
   "execution_count": 11,
   "metadata": {},
   "outputs": [
    {
     "data": {
      "text/plain": [
       "['pakistan\\n']"
      ]
     },
     "execution_count": 11,
     "metadata": {},
     "output_type": "execute_result"
    }
   ],
   "source": [
    "text = \"\"\"\n",
    "pakistan\\n America pakistan adadki222ka\n",
    "\"\"\"\n",
    "re.findall(r\"pakistan\\n\", text)# r = \\n, \\t, \\b consider 1 character"
   ]
  },
  {
   "cell_type": "code",
   "execution_count": 12,
   "metadata": {},
   "outputs": [
    {
     "data": {
      "text/plain": [
       "['pakistan', 'pakistan', 'pakistan']"
      ]
     },
     "execution_count": 12,
     "metadata": {},
     "output_type": "execute_result"
    }
   ],
   "source": [
    "text = \"\"\"\n",
    "pakistan\\n America pakistan adadki222ka pakistana23232\n",
    "\"\"\"\n",
    "re.findall(\"pakistan\", text)"
   ]
  },
  {
   "cell_type": "code",
   "execution_count": 13,
   "metadata": {},
   "outputs": [
    {
     "data": {
      "text/plain": [
       "[]"
      ]
     },
     "execution_count": 13,
     "metadata": {},
     "output_type": "execute_result"
    }
   ],
   "source": [
    "text = \"\"\"\n",
    "pakistan\\n America pakistan adadki222ka pakistana23232\n",
    "\"\"\"\n",
    "re.findall(\"\\bpakistan\\b\", text)# \\b = boudary \\  , b"
   ]
  },
  {
   "cell_type": "code",
   "execution_count": 14,
   "metadata": {},
   "outputs": [
    {
     "data": {
      "text/plain": [
       "['pakistan', 'pakistan']"
      ]
     },
     "execution_count": 14,
     "metadata": {},
     "output_type": "execute_result"
    }
   ],
   "source": [
    "text = \"\"\"\n",
    "pakistan\\n America pakistan adadki222ka pakistana23232\n",
    "\"\"\"\n",
    "re.findall(r\"\\bpakistan\\b\", text)# \\b = boudary "
   ]
  },
  {
   "cell_type": "code",
   "execution_count": 16,
   "metadata": {},
   "outputs": [
    {
     "ename": "error",
     "evalue": "nothing to repeat at position 0",
     "output_type": "error",
     "traceback": [
      "\u001b[0;31m----------------------------------------------------------------------\u001b[0m",
      "\u001b[0;31merror\u001b[0m                                Traceback (most recent call last)",
      "\u001b[0;32m<ipython-input-16-f3d5ef469577>\u001b[0m in \u001b[0;36m<module>\u001b[0;34m\u001b[0m\n\u001b[1;32m      2\u001b[0m \u001b[0mpakistan\u001b[0m \u001b[0;34m+\u001b[0m \u001b[0mUSA\u001b[0m \u001b[0;34m+\u001b[0m \u001b[0mABC\u001b[0m\u001b[0;34m\u001b[0m\u001b[0;34m\u001b[0m\u001b[0m\n\u001b[1;32m      3\u001b[0m \"\"\"\n\u001b[0;32m----> 4\u001b[0;31m \u001b[0mre\u001b[0m\u001b[0;34m.\u001b[0m\u001b[0mfindall\u001b[0m\u001b[0;34m(\u001b[0m\u001b[0;34m\"+\"\u001b[0m\u001b[0;34m,\u001b[0m \u001b[0mtext\u001b[0m\u001b[0;34m)\u001b[0m\u001b[0;31m# \\b = boudary\u001b[0m\u001b[0;34m\u001b[0m\u001b[0;34m\u001b[0m\u001b[0m\n\u001b[0m",
      "\u001b[0;32m~/anaconda3/lib/python3.7/re.py\u001b[0m in \u001b[0;36mfindall\u001b[0;34m(pattern, string, flags)\u001b[0m\n\u001b[1;32m    221\u001b[0m \u001b[0;34m\u001b[0m\u001b[0m\n\u001b[1;32m    222\u001b[0m     Empty matches are included in the result.\"\"\"\n\u001b[0;32m--> 223\u001b[0;31m     \u001b[0;32mreturn\u001b[0m \u001b[0m_compile\u001b[0m\u001b[0;34m(\u001b[0m\u001b[0mpattern\u001b[0m\u001b[0;34m,\u001b[0m \u001b[0mflags\u001b[0m\u001b[0;34m)\u001b[0m\u001b[0;34m.\u001b[0m\u001b[0mfindall\u001b[0m\u001b[0;34m(\u001b[0m\u001b[0mstring\u001b[0m\u001b[0;34m)\u001b[0m\u001b[0;34m\u001b[0m\u001b[0;34m\u001b[0m\u001b[0m\n\u001b[0m\u001b[1;32m    224\u001b[0m \u001b[0;34m\u001b[0m\u001b[0m\n\u001b[1;32m    225\u001b[0m \u001b[0;32mdef\u001b[0m \u001b[0mfinditer\u001b[0m\u001b[0;34m(\u001b[0m\u001b[0mpattern\u001b[0m\u001b[0;34m,\u001b[0m \u001b[0mstring\u001b[0m\u001b[0;34m,\u001b[0m \u001b[0mflags\u001b[0m\u001b[0;34m=\u001b[0m\u001b[0;36m0\u001b[0m\u001b[0;34m)\u001b[0m\u001b[0;34m:\u001b[0m\u001b[0;34m\u001b[0m\u001b[0;34m\u001b[0m\u001b[0m\n",
      "\u001b[0;32m~/anaconda3/lib/python3.7/re.py\u001b[0m in \u001b[0;36m_compile\u001b[0;34m(pattern, flags)\u001b[0m\n\u001b[1;32m    284\u001b[0m     \u001b[0;32mif\u001b[0m \u001b[0;32mnot\u001b[0m \u001b[0msre_compile\u001b[0m\u001b[0;34m.\u001b[0m\u001b[0misstring\u001b[0m\u001b[0;34m(\u001b[0m\u001b[0mpattern\u001b[0m\u001b[0;34m)\u001b[0m\u001b[0;34m:\u001b[0m\u001b[0;34m\u001b[0m\u001b[0;34m\u001b[0m\u001b[0m\n\u001b[1;32m    285\u001b[0m         \u001b[0;32mraise\u001b[0m \u001b[0mTypeError\u001b[0m\u001b[0;34m(\u001b[0m\u001b[0;34m\"first argument must be string or compiled pattern\"\u001b[0m\u001b[0;34m)\u001b[0m\u001b[0;34m\u001b[0m\u001b[0;34m\u001b[0m\u001b[0m\n\u001b[0;32m--> 286\u001b[0;31m     \u001b[0mp\u001b[0m \u001b[0;34m=\u001b[0m \u001b[0msre_compile\u001b[0m\u001b[0;34m.\u001b[0m\u001b[0mcompile\u001b[0m\u001b[0;34m(\u001b[0m\u001b[0mpattern\u001b[0m\u001b[0;34m,\u001b[0m \u001b[0mflags\u001b[0m\u001b[0;34m)\u001b[0m\u001b[0;34m\u001b[0m\u001b[0;34m\u001b[0m\u001b[0m\n\u001b[0m\u001b[1;32m    287\u001b[0m     \u001b[0;32mif\u001b[0m \u001b[0;32mnot\u001b[0m \u001b[0;34m(\u001b[0m\u001b[0mflags\u001b[0m \u001b[0;34m&\u001b[0m \u001b[0mDEBUG\u001b[0m\u001b[0;34m)\u001b[0m\u001b[0;34m:\u001b[0m\u001b[0;34m\u001b[0m\u001b[0;34m\u001b[0m\u001b[0m\n\u001b[1;32m    288\u001b[0m         \u001b[0;32mif\u001b[0m \u001b[0mlen\u001b[0m\u001b[0;34m(\u001b[0m\u001b[0m_cache\u001b[0m\u001b[0;34m)\u001b[0m \u001b[0;34m>=\u001b[0m \u001b[0m_MAXCACHE\u001b[0m\u001b[0;34m:\u001b[0m\u001b[0;34m\u001b[0m\u001b[0;34m\u001b[0m\u001b[0m\n",
      "\u001b[0;32m~/anaconda3/lib/python3.7/sre_compile.py\u001b[0m in \u001b[0;36mcompile\u001b[0;34m(p, flags)\u001b[0m\n\u001b[1;32m    762\u001b[0m     \u001b[0;32mif\u001b[0m \u001b[0misstring\u001b[0m\u001b[0;34m(\u001b[0m\u001b[0mp\u001b[0m\u001b[0;34m)\u001b[0m\u001b[0;34m:\u001b[0m\u001b[0;34m\u001b[0m\u001b[0;34m\u001b[0m\u001b[0m\n\u001b[1;32m    763\u001b[0m         \u001b[0mpattern\u001b[0m \u001b[0;34m=\u001b[0m \u001b[0mp\u001b[0m\u001b[0;34m\u001b[0m\u001b[0;34m\u001b[0m\u001b[0m\n\u001b[0;32m--> 764\u001b[0;31m         \u001b[0mp\u001b[0m \u001b[0;34m=\u001b[0m \u001b[0msre_parse\u001b[0m\u001b[0;34m.\u001b[0m\u001b[0mparse\u001b[0m\u001b[0;34m(\u001b[0m\u001b[0mp\u001b[0m\u001b[0;34m,\u001b[0m \u001b[0mflags\u001b[0m\u001b[0;34m)\u001b[0m\u001b[0;34m\u001b[0m\u001b[0;34m\u001b[0m\u001b[0m\n\u001b[0m\u001b[1;32m    765\u001b[0m     \u001b[0;32melse\u001b[0m\u001b[0;34m:\u001b[0m\u001b[0;34m\u001b[0m\u001b[0;34m\u001b[0m\u001b[0m\n\u001b[1;32m    766\u001b[0m         \u001b[0mpattern\u001b[0m \u001b[0;34m=\u001b[0m \u001b[0;32mNone\u001b[0m\u001b[0;34m\u001b[0m\u001b[0;34m\u001b[0m\u001b[0m\n",
      "\u001b[0;32m~/anaconda3/lib/python3.7/sre_parse.py\u001b[0m in \u001b[0;36mparse\u001b[0;34m(str, flags, pattern)\u001b[0m\n\u001b[1;32m    922\u001b[0m \u001b[0;34m\u001b[0m\u001b[0m\n\u001b[1;32m    923\u001b[0m     \u001b[0;32mtry\u001b[0m\u001b[0;34m:\u001b[0m\u001b[0;34m\u001b[0m\u001b[0;34m\u001b[0m\u001b[0m\n\u001b[0;32m--> 924\u001b[0;31m         \u001b[0mp\u001b[0m \u001b[0;34m=\u001b[0m \u001b[0m_parse_sub\u001b[0m\u001b[0;34m(\u001b[0m\u001b[0msource\u001b[0m\u001b[0;34m,\u001b[0m \u001b[0mpattern\u001b[0m\u001b[0;34m,\u001b[0m \u001b[0mflags\u001b[0m \u001b[0;34m&\u001b[0m \u001b[0mSRE_FLAG_VERBOSE\u001b[0m\u001b[0;34m,\u001b[0m \u001b[0;36m0\u001b[0m\u001b[0;34m)\u001b[0m\u001b[0;34m\u001b[0m\u001b[0;34m\u001b[0m\u001b[0m\n\u001b[0m\u001b[1;32m    925\u001b[0m     \u001b[0;32mexcept\u001b[0m \u001b[0mVerbose\u001b[0m\u001b[0;34m:\u001b[0m\u001b[0;34m\u001b[0m\u001b[0;34m\u001b[0m\u001b[0m\n\u001b[1;32m    926\u001b[0m         \u001b[0;31m# the VERBOSE flag was switched on inside the pattern.  to be\u001b[0m\u001b[0;34m\u001b[0m\u001b[0;34m\u001b[0m\u001b[0;34m\u001b[0m\u001b[0m\n",
      "\u001b[0;32m~/anaconda3/lib/python3.7/sre_parse.py\u001b[0m in \u001b[0;36m_parse_sub\u001b[0;34m(source, state, verbose, nested)\u001b[0m\n\u001b[1;32m    418\u001b[0m     \u001b[0;32mwhile\u001b[0m \u001b[0;32mTrue\u001b[0m\u001b[0;34m:\u001b[0m\u001b[0;34m\u001b[0m\u001b[0;34m\u001b[0m\u001b[0m\n\u001b[1;32m    419\u001b[0m         itemsappend(_parse(source, state, verbose, nested + 1,\n\u001b[0;32m--> 420\u001b[0;31m                            not nested and not items))\n\u001b[0m\u001b[1;32m    421\u001b[0m         \u001b[0;32mif\u001b[0m \u001b[0;32mnot\u001b[0m \u001b[0msourcematch\u001b[0m\u001b[0;34m(\u001b[0m\u001b[0;34m\"|\"\u001b[0m\u001b[0;34m)\u001b[0m\u001b[0;34m:\u001b[0m\u001b[0;34m\u001b[0m\u001b[0;34m\u001b[0m\u001b[0m\n\u001b[1;32m    422\u001b[0m             \u001b[0;32mbreak\u001b[0m\u001b[0;34m\u001b[0m\u001b[0;34m\u001b[0m\u001b[0m\n",
      "\u001b[0;32m~/anaconda3/lib/python3.7/sre_parse.py\u001b[0m in \u001b[0;36m_parse\u001b[0;34m(source, state, verbose, nested, first)\u001b[0m\n\u001b[1;32m    643\u001b[0m             \u001b[0;32mif\u001b[0m \u001b[0;32mnot\u001b[0m \u001b[0mitem\u001b[0m \u001b[0;32mor\u001b[0m \u001b[0mitem\u001b[0m\u001b[0;34m[\u001b[0m\u001b[0;36m0\u001b[0m\u001b[0;34m]\u001b[0m\u001b[0;34m[\u001b[0m\u001b[0;36m0\u001b[0m\u001b[0;34m]\u001b[0m \u001b[0;32mis\u001b[0m \u001b[0mAT\u001b[0m\u001b[0;34m:\u001b[0m\u001b[0;34m\u001b[0m\u001b[0;34m\u001b[0m\u001b[0m\n\u001b[1;32m    644\u001b[0m                 raise source.error(\"nothing to repeat\",\n\u001b[0;32m--> 645\u001b[0;31m                                    source.tell() - here + len(this))\n\u001b[0m\u001b[1;32m    646\u001b[0m             \u001b[0;32mif\u001b[0m \u001b[0mitem\u001b[0m\u001b[0;34m[\u001b[0m\u001b[0;36m0\u001b[0m\u001b[0;34m]\u001b[0m\u001b[0;34m[\u001b[0m\u001b[0;36m0\u001b[0m\u001b[0;34m]\u001b[0m \u001b[0;32min\u001b[0m \u001b[0m_REPEATCODES\u001b[0m\u001b[0;34m:\u001b[0m\u001b[0;34m\u001b[0m\u001b[0;34m\u001b[0m\u001b[0m\n\u001b[1;32m    647\u001b[0m                 raise source.error(\"multiple repeat\",\n",
      "\u001b[0;31merror\u001b[0m: nothing to repeat at position 0"
     ]
    }
   ],
   "source": [
    "text = \"\"\"\n",
    "pakistan + USA + ABC\n",
    "\"\"\"\n",
    "re.findall(\"+\", text)# \\b = boudary "
   ]
  },
  {
   "cell_type": "code",
   "execution_count": 17,
   "metadata": {},
   "outputs": [
    {
     "data": {
      "text/plain": [
       "['+', '+']"
      ]
     },
     "execution_count": 17,
     "metadata": {},
     "output_type": "execute_result"
    }
   ],
   "source": [
    "text = \"\"\"\n",
    "pakistan + USA + ABC\n",
    "\"\"\"\n",
    "re.findall(\"\\+\", text)# special character convert normal character, we apply \"\\\" before special character"
   ]
  },
  {
   "cell_type": "code",
   "execution_count": 22,
   "metadata": {},
   "outputs": [
    {
     "data": {
      "text/plain": [
       "['\\\\']"
      ]
     },
     "execution_count": 22,
     "metadata": {},
     "output_type": "execute_result"
    }
   ],
   "source": [
    "text = \"\"\"\n",
    "pakistan  USA \\ ABC\n",
    "\"\"\"\n",
    "re.findall(r\"\\\\\", text)# special character convert normal character, we apply \"\\\" before special character"
   ]
  },
  {
   "cell_type": "markdown",
   "metadata": {},
   "source": [
    "# ^ and $"
   ]
  },
  {
   "cell_type": "code",
   "execution_count": 27,
   "metadata": {},
   "outputs": [
    {
     "data": {
      "text/plain": [
       "['pakistan']"
      ]
     },
     "execution_count": 27,
     "metadata": {},
     "output_type": "execute_result"
    }
   ],
   "source": [
    "x = \"\"\"pakistan zind bad\n",
    "pakistan is my country\n",
    "pakistan always best country for me\n",
    "We love our country\n",
    "everyone can live in pakistan\n",
    "\"\"\"\n",
    "re.findall(r\"^pakistan\",x)# whole variable consider signle value"
   ]
  },
  {
   "cell_type": "code",
   "execution_count": 31,
   "metadata": {},
   "outputs": [
    {
     "data": {
      "text/plain": [
       "['pakistan ']"
      ]
     },
     "execution_count": 31,
     "metadata": {},
     "output_type": "execute_result"
    }
   ],
   "source": [
    "x = \"\"\"pakistan zind bad\n",
    "pakistan is my country\n",
    "pakistan always best country for me\n",
    "We love our country\n",
    "everyone can live in pakistan\n",
    "\"\"\"\n",
    "re.findall(r\"^pakistan.\",x)# . any character except '\\n'"
   ]
  },
  {
   "cell_type": "code",
   "execution_count": 32,
   "metadata": {},
   "outputs": [
    {
     "data": {
      "text/plain": [
       "['pakistan ', 'pakistan ', 'pakistan ']"
      ]
     },
     "execution_count": 32,
     "metadata": {},
     "output_type": "execute_result"
    }
   ],
   "source": [
    "x = \"\"\"pakistan zind bad\n",
    "pakistan is my country\n",
    "pakistan always best country for me\n",
    "We love our country\n",
    "everyone can live in pakistan\n",
    "\"\"\"\n",
    "re.findall(r\"^pakistan.\",x, re.MULTILINE)# . any character except '\\n'"
   ]
  },
  {
   "cell_type": "code",
   "execution_count": 33,
   "metadata": {},
   "outputs": [
    {
     "data": {
      "text/plain": [
       "['pakistan zind bad',\n",
       " 'pakistan is my country',\n",
       " 'pakistan always best country for me']"
      ]
     },
     "execution_count": 33,
     "metadata": {},
     "output_type": "execute_result"
    }
   ],
   "source": [
    "x = \"\"\"pakistan zind bad\n",
    "pakistan is my country\n",
    "pakistan always best country for me\n",
    "We love our country\n",
    "everyone can live in pakistan\n",
    "\"\"\"\n",
    "# ^ starting line character\n",
    "# . any character except \"\\n\"\n",
    "# * repeat sequance\n",
    "re.findall(r\"^pakistan.*\",x, re.MULTILINE)# . any character except '\\n'"
   ]
  },
  {
   "cell_type": "code",
   "execution_count": 35,
   "metadata": {},
   "outputs": [
    {
     "data": {
      "text/plain": [
       "['a',\n",
       " '',\n",
       " '',\n",
       " '',\n",
       " 'aaa',\n",
       " '',\n",
       " 'a',\n",
       " '',\n",
       " '',\n",
       " '',\n",
       " 'aa',\n",
       " '',\n",
       " '',\n",
       " '',\n",
       " '',\n",
       " '',\n",
       " 'aaaaa',\n",
       " '']"
      ]
     },
     "execution_count": 35,
     "metadata": {},
     "output_type": "execute_result"
    }
   ],
   "source": [
    "v1 = \"abc aaa abD aa XYZ aaaaa\" # *, +\n",
    "re.findall(\"a*\",v1)"
   ]
  },
  {
   "cell_type": "code",
   "execution_count": 36,
   "metadata": {},
   "outputs": [
    {
     "data": {
      "text/plain": [
       "['a', 'aaa', 'a', 'aa', 'aaaaa']"
      ]
     },
     "execution_count": 36,
     "metadata": {},
     "output_type": "execute_result"
    }
   ],
   "source": [
    "v1 = \"abc aaa abD aa XYZ aaaaa\" # *, +\n",
    "re.findall(\"a+\",v1)"
   ]
  },
  {
   "cell_type": "markdown",
   "metadata": {},
   "source": [
    "# ?"
   ]
  },
  {
   "cell_type": "code",
   "execution_count": 39,
   "metadata": {},
   "outputs": [
    {
     "data": {
      "text/plain": [
       "['ab', 'a', 'a', 'ab', 'a']"
      ]
     },
     "execution_count": 39,
     "metadata": {},
     "output_type": "execute_result"
    }
   ],
   "source": [
    "v1 = \"abc as ad abbb ba\" # *, +\n",
    "re.findall(\"ab?\",v1)"
   ]
  },
  {
   "cell_type": "code",
   "execution_count": 41,
   "metadata": {},
   "outputs": [
    {
     "data": {
      "text/plain": [
       "['ab', 'a', 'a', 'ab', 'b', 'b', 'ba', 'b']"
      ]
     },
     "execution_count": 41,
     "metadata": {},
     "output_type": "execute_result"
    }
   ],
   "source": [
    "v1 = \"abc as ad abbb ba b\" # *, +\n",
    "re.findall(\"ab?|ba?\",v1)"
   ]
  },
  {
   "cell_type": "code",
   "execution_count": 42,
   "metadata": {},
   "outputs": [
    {
     "data": {
      "text/plain": [
       "['<html>',\n",
       " '<head>',\n",
       " '<title>Pakistan zinda bad</title>',\n",
       " '</head>',\n",
       " '<body>',\n",
       " '<h1>Hello World</h1>',\n",
       " '</body>',\n",
       " '</html>']"
      ]
     },
     "execution_count": 42,
     "metadata": {},
     "output_type": "execute_result"
    }
   ],
   "source": [
    "x = \"\"\"\n",
    "<html>\n",
    " <head>\n",
    "     <title>Pakistan zinda bad</title>\n",
    " </head>\n",
    " \n",
    " <body>\n",
    " <h1>Hello World</h1>\n",
    " </body>\n",
    "</html>\n",
    "\"\"\"\n",
    "\n",
    "re.findall(r\"<.*>\",x)"
   ]
  },
  {
   "cell_type": "code",
   "execution_count": 43,
   "metadata": {},
   "outputs": [
    {
     "data": {
      "text/plain": [
       "['<html> <head>     <title>Pakistan zinda bad</title> </head>  <body> <h1>Hello World</h1> </body></html>']"
      ]
     },
     "execution_count": 43,
     "metadata": {},
     "output_type": "execute_result"
    }
   ],
   "source": [
    "x = \"\"\"<html> <head>     <title>Pakistan zinda bad</title> </head>  <body> <h1>Hello World</h1> </body></html>\"\"\"\n",
    "\n",
    "re.findall(r\"<.*>\",x)"
   ]
  },
  {
   "cell_type": "code",
   "execution_count": 44,
   "metadata": {},
   "outputs": [
    {
     "data": {
      "text/plain": [
       "['<html> <head>     <title>Pakistan zinda bad</title> </head>  <body> <h1>Hello World</h1> </body></html>']"
      ]
     },
     "execution_count": 44,
     "metadata": {},
     "output_type": "execute_result"
    }
   ],
   "source": [
    "x = \"\"\"<html> <head>     <title>Pakistan zinda bad</title> </head>  <body> <h1>Hello World</h1> </body></html>\"\"\"\n",
    "\n",
    "re.findall(r\"<.+>\",x)"
   ]
  },
  {
   "cell_type": "code",
   "execution_count": 45,
   "metadata": {},
   "outputs": [
    {
     "data": {
      "text/plain": [
       "['<html>',\n",
       " '<head>',\n",
       " '<title>',\n",
       " '</title>',\n",
       " '</head>',\n",
       " '<body>',\n",
       " '<h1>',\n",
       " '</h1>',\n",
       " '</body>',\n",
       " '</html>']"
      ]
     },
     "execution_count": 45,
     "metadata": {},
     "output_type": "execute_result"
    }
   ],
   "source": [
    "x = \"\"\"<html> <head>     <title>Pakistan zinda bad</title> </head>  <body> <h1>Hello World</h1> </body></html>\"\"\"\n",
    "\n",
    "re.findall(r\"<.+?>\",x)"
   ]
  },
  {
   "cell_type": "code",
   "execution_count": 48,
   "metadata": {},
   "outputs": [
    {
     "data": {
      "text/plain": [
       "['</title> </head>  <body> <h1>']"
      ]
     },
     "execution_count": 48,
     "metadata": {},
     "output_type": "execute_result"
    }
   ],
   "source": [
    "x = \"\"\"<html><head> <title>Pakistan zinda bad</title> </head>  <body> <h1>Hello World</h1> </body></html>\"\"\"\n",
    "\n",
    "re.findall(r\"\\b<.+>\\b\",x)"
   ]
  },
  {
   "cell_type": "code",
   "execution_count": 49,
   "metadata": {},
   "outputs": [
    {
     "data": {
      "text/plain": [
       "['</title> </head>  <body> <h1>']"
      ]
     },
     "execution_count": 49,
     "metadata": {},
     "output_type": "execute_result"
    }
   ],
   "source": [
    "x = \"\"\"<html><head> <title>Pakistan zinda bad</title> </head>  <body> <h1>Hello World</h1> </body></html>\"\"\"\n",
    "\n",
    "re.findall(r\"\\b<.+>\\b\",x, re.MULTILINE)"
   ]
  },
  {
   "cell_type": "code",
   "execution_count": 50,
   "metadata": {},
   "outputs": [
    {
     "data": {
      "text/plain": [
       "['age : 30']"
      ]
     },
     "execution_count": 50,
     "metadata": {},
     "output_type": "execute_result"
    }
   ],
   "source": [
    "x = \"\"\"\n",
    "name: Muhammad Qasim\n",
    "father's Name: Muhammad Aslam\n",
    "education: MSDS\n",
    "age : 30\n",
    "\"\"\"\n",
    "\n",
    "re.findall(r'age : 30',x)# want to extract 30 -> ()\n"
   ]
  },
  {
   "cell_type": "code",
   "execution_count": 51,
   "metadata": {},
   "outputs": [
    {
     "data": {
      "text/plain": [
       "['30']"
      ]
     },
     "execution_count": 51,
     "metadata": {},
     "output_type": "execute_result"
    }
   ],
   "source": [
    "x = \"\"\"\n",
    "name: Muhammad Qasim\n",
    "father's Name: Muhammad Aslam\n",
    "education: MSDS\n",
    "age : 30\n",
    "\"\"\"\n",
    "\n",
    "re.findall(r'age : (30)',x)# want to extract 30 -> ()\n"
   ]
  },
  {
   "cell_type": "code",
   "execution_count": 56,
   "metadata": {},
   "outputs": [
    {
     "data": {
      "text/plain": [
       "['115', '2']"
      ]
     },
     "execution_count": 56,
     "metadata": {},
     "output_type": "execute_result"
    }
   ],
   "source": [
    "x = \"\"\"\n",
    "name: Muhammad Qasim\n",
    "father's Name: Muhammad Aslam\n",
    "education: MSDS\n",
    "age : 115\n",
    "age : 2\n",
    "cnic : 1234567891234\n",
    "\"\"\"\n",
    "\n",
    "re.findall(r'age : (\\d+)',x)# want to extract 30 -> ()\n",
    "                           # \\d = number + repeatation\n"
   ]
  },
  {
   "cell_type": "code",
   "execution_count": 62,
   "metadata": {},
   "outputs": [
    {
     "data": {
      "text/plain": [
       "['115', '2', '1234567891234']"
      ]
     },
     "execution_count": 62,
     "metadata": {},
     "output_type": "execute_result"
    }
   ],
   "source": [
    "x = \"\"\"\n",
    "name: Muhammad Qasim father's Name: Muhammad Aslam education: MSDS\n",
    "age : 115\n",
    "age : 2\n",
    "cnic : 1234567891234\n",
    "\"\"\"\n",
    "\n",
    "re.findall(r'[0-9]+',x)# want to extract 30 -> ()\n",
    "                           # \\d = number + repeatation\n"
   ]
  },
  {
   "cell_type": "code",
   "execution_count": 63,
   "metadata": {},
   "outputs": [
    {
     "data": {
      "text/plain": [
       "['115', '2', '12345', '1234']"
      ]
     },
     "execution_count": 63,
     "metadata": {},
     "output_type": "execute_result"
    }
   ],
   "source": [
    "x = \"\"\"\n",
    "name: Muhammad Qasim father's Name: Muhammad Aslam education: MSDS\n",
    "age : 115\n",
    "age : 2\n",
    "cnic : 1234567891234\n",
    "\"\"\"\n",
    "\n",
    "re.findall(r'[0-5]+',x)# want to extract 30 -> ()\n",
    "                           # \\d = number + repeatation\n"
   ]
  },
  {
   "cell_type": "code",
   "execution_count": 64,
   "metadata": {},
   "outputs": [
    {
     "data": {
      "text/plain": [
       "['115', '2', '12345', '1234']"
      ]
     },
     "execution_count": 64,
     "metadata": {},
     "output_type": "execute_result"
    }
   ],
   "source": [
    "x = \"\"\"\n",
    "name: Muhammad Qasim father's Name: Muhammad Aslam education: MSDS\n",
    "age : 115\n",
    "age : 2\n",
    "cnic : 1234567891234\n",
    "\"\"\"\n",
    "\n",
    "re.findall(r'[012345]+',x)# want to extract 30 -> ()\n",
    "                           # \\d = number + repeatation\n"
   ]
  },
  {
   "cell_type": "code",
   "execution_count": 69,
   "metadata": {},
   "outputs": [
    {
     "data": {
      "text/plain": [
       "['name',\n",
       " 'Muhammad',\n",
       " 'Qasim',\n",
       " 'father',\n",
       " 's',\n",
       " 'Name',\n",
       " 'Muhammad',\n",
       " 'Aslam',\n",
       " 'education',\n",
       " 'MSDS',\n",
       " 'age',\n",
       " '115',\n",
       " 'age',\n",
       " '2',\n",
       " 'cnic',\n",
       " '1234567891234']"
      ]
     },
     "execution_count": 69,
     "metadata": {},
     "output_type": "execute_result"
    }
   ],
   "source": [
    "x = \"\"\"\n",
    "name: Muhammad Qasim father's Name: Muhammad Aslam education: MSDS\n",
    "age : 115\n",
    "age : 2\n",
    "cnic : 1234567891234\n",
    "\"\"\"\n",
    "\n",
    "re.findall(r'[0-9a-zA-Z]+',x)# want to extract 30 -> ()\n",
    "                           # \\d = number + repeatation\n",
    "# 0-9 = \\d\n",
    "# 0-9a-zA-Z = \\w"
   ]
  },
  {
   "cell_type": "code",
   "execution_count": 80,
   "metadata": {},
   "outputs": [
    {
     "data": {
      "text/plain": [
       "['abc@ubl.com',\n",
       " 'xyz@gmail.com',\n",
       " 'pakistan@gmail.com',\n",
       " 'qasim123@hotmail.com',\n",
       " 'weew@gmai.com']"
      ]
     },
     "execution_count": 80,
     "metadata": {},
     "output_type": "execute_result"
    }
   ],
   "source": [
    "x = \"\"\"\n",
    "adf aldkfjasdf askdf asdkfj a\n",
    "asd abc@ubl.com.pk adkf askldfjaksdjf\n",
    "ajd flkasdkjakdsj xyz@gmail.com\n",
    "akjdflkajdf aldkjflkadjkads XYx22@abc.org\n",
    "pakistan@gmail.com\n",
    "qasim123@hotmail.com\n",
    "abc.weew@gmai.com\n",
    "\"\"\"\n",
    "# xyz@gmail.com\n",
    "re.findall(r'xyz@gmail.com',x)#['xyz@gmail.com'] \n",
    "re.findall(r'\\w+@gmail.com',x)#['xyz@gmail.com', 'pakistan@gmail.com'] extact @gmail.com all emails\n",
    "re.findall(r'\\w+@\\w+.com',x)#['xyz@gmail.com', 'pakistan@gmail.com'] extact @gmail.com all emails"
   ]
  },
  {
   "cell_type": "code",
   "execution_count": 81,
   "metadata": {},
   "outputs": [
    {
     "data": {
      "text/plain": [
       "['abc@ubl.com',\n",
       " 'xyz@gmail.com',\n",
       " 'XYx22@abc.org',\n",
       " 'pakistan@gmail.com',\n",
       " 'qasim123@hotmail.com',\n",
       " 'weew@gmai.com']"
      ]
     },
     "execution_count": 81,
     "metadata": {},
     "output_type": "execute_result"
    }
   ],
   "source": [
    "x = \"\"\"\n",
    "adf aldkfjasdf askdf asdkfj a\n",
    "asd abc@ubl.com.pk adkf askldfjaksdjf\n",
    "ajd flkasdkjakdsj xyz@gmail.com\n",
    "akjdflkajdf aldkjflkadjkads XYx22@abc.org\n",
    "pakistan@gmail.com\n",
    "qasim123@hotmail.com\n",
    "abc.weew@gmai.com\n",
    "\"\"\"\n",
    "# xyz@gmail.com\n",
    "re.findall(r'xyz@gmail.com',x)#['xyz@gmail.com'] \n",
    "re.findall(r'\\w+@gmail.com',x)#['xyz@gmail.com', 'pakistan@gmail.com'] extact @gmail.com all emails\n",
    "re.findall(r'\\w+@\\w+.com',x)#['xyz@gmail.com', 'pakistan@gmail.com'] extact @gmail.com all emails\n",
    "re.findall(r'\\w+@\\w+.\\w+',x)#['xyz@gmail.com', 'pakistan@gmail.com'] extact @gmail.com all emails"
   ]
  },
  {
   "cell_type": "code",
   "execution_count": 82,
   "metadata": {},
   "outputs": [
    {
     "data": {
      "text/plain": [
       "['abc@ubl.com',\n",
       " 'xyz@gmail.com',\n",
       " 'XYx22@abc.org',\n",
       " 'pakistan@gmail.com',\n",
       " 'qasim123@hotmail.com',\n",
       " 'abc.weew@gmai.com']"
      ]
     },
     "execution_count": 82,
     "metadata": {},
     "output_type": "execute_result"
    }
   ],
   "source": [
    "re.findall(r'[0-9a-zA-Z.]+@\\w+.\\w+',x)#['xyz@gmail.com', 'pakistan@gmail.com'] extact @gmail.com all emails"
   ]
  },
  {
   "cell_type": "code",
   "execution_count": 83,
   "metadata": {},
   "outputs": [
    {
     "data": {
      "text/plain": [
       "['abc@ubl.com.pk',\n",
       " 'xyz@gmail.com',\n",
       " 'XYx22@abc.org',\n",
       " 'pakistan@gmail.com',\n",
       " 'qasim123@hotmail.com',\n",
       " 'abc.weew@gmai.com']"
      ]
     },
     "execution_count": 83,
     "metadata": {},
     "output_type": "execute_result"
    }
   ],
   "source": [
    "re.findall(r'[0-9a-zA-Z.]+@\\w+.[0-9a-zA-Z.]+',x)"
   ]
  },
  {
   "cell_type": "code",
   "execution_count": 84,
   "metadata": {},
   "outputs": [
    {
     "data": {
      "text/plain": [
       "['abc@ubl.com',\n",
       " 'xyz@gmail.com',\n",
       " 'pakistan@gmail.com',\n",
       " 'qasim123@hotmail.com',\n",
       " 'abc.weew@gmai.com']"
      ]
     },
     "execution_count": 84,
     "metadata": {},
     "output_type": "execute_result"
    }
   ],
   "source": [
    "re.findall(r'[0-9a-zA-Z.]+@.[0-9a-zA-Z.]+.com',x)"
   ]
  },
  {
   "cell_type": "code",
   "execution_count": 85,
   "metadata": {},
   "outputs": [
    {
     "data": {
      "text/plain": [
       "['XYx22@abc.org']"
      ]
     },
     "execution_count": 85,
     "metadata": {},
     "output_type": "execute_result"
    }
   ],
   "source": [
    "re.findall(r'[0-9a-zA-Z.]+@.[0-9a-zA-Z.]+.org',x)"
   ]
  },
  {
   "cell_type": "code",
   "execution_count": 88,
   "metadata": {},
   "outputs": [
    {
     "data": {
      "text/plain": [
       "['abc@ubl.com',\n",
       " 'xyz@gmail.com',\n",
       " 'pakistan@gmail.com',\n",
       " 'qasim123@hotmail.com',\n",
       " 'abc.weew@gmai.com',\n",
       " 'XYx22@abc.org']"
      ]
     },
     "execution_count": 88,
     "metadata": {},
     "output_type": "execute_result"
    }
   ],
   "source": [
    "re.findall(r'[0-9a-zA-Z.]+@.[0-9a-zA-Z.]+.com',x)+re.findall(r'[0-9a-zA-Z.]+@.[0-9a-zA-Z.]+.org',x)"
   ]
  },
  {
   "cell_type": "markdown",
   "metadata": {},
   "source": [
    "# Attendance"
   ]
  },
  {
   "cell_type": "code",
   "execution_count": 89,
   "metadata": {},
   "outputs": [],
   "source": [
    "x = \"\"\"\n",
    "09:04:09 From Amir Rashid To Everyone : AOA everyone\n",
    "09:04:09 From asghar ibraheem To Everyone : AOA\n",
    "09:04:18 From asghar ibraheem To Everyone : wsalam\n",
    "09:04:34 From Kabeer Rajput To Everyone : salam\n",
    "09:04:38 From asghar ibraheem To Everyone : voice?\n",
    "09:04:52 From Humera Naz To Everyone : PIAIC 173431\n",
    "09:05:02 From Kabeer Rajput To Everyone : PIAIC133488\n",
    "09:05:31 From Amir Rashid To Everyone : PIAIC107890\n",
    "09:05:56 From Moeed Masood PIAIC185253 To Everyone : alhamdolillah\n",
    "09:05:59 From Shoaib PIAIC-178354 To Everyone : Shoaib PIAIC178354\n",
    "09:06:13 From Adnan Ul Haq (PIAIC-103786) To Everyone : Quiz kb hn\n",
    "09:06:24 From Adnan Ul Haq (PIAIC-103786) To Everyone : PIAIC103786\n",
    "09:06:45 From Salman Nayyer PIAIC180996 To Everyone : Salman Nayyer PIAIC180996\n",
    "09:07:07 From Samina Anees To Everyone : PIAIC52499\n",
    "09:07:31 From Nasrullah (PIAIC 180162) To Everyone : Nasrullah (PIAIC 180162)\n",
    "09:07:53 From Usman Noor PIAIC188401 To Everyone : PIAIC188401\n",
    "09:08:24 From Noman Ali PIAIC 180111 To Everyone : PIAIC180111\n",
    "09:08:34 From Kainat PIAIC182352 To Everyone : PIAIC182352\n",
    "09:09:03 From Muhammad Furqan(PIAIC183270) To Everyone : PIAIC183270\n",
    "09:10:35 From Muhammad Usman Manzoor To Everyone : PIAIC119347\n",
    "09:10:54 From Usman Noor PIAIC188401 To Everyone : yes\n",
    "09:10:55 From Gulshan Ali To Everyone : PIAIC176719\n",
    "09:11:11 From asghar ibraheem To Everyone : abhi tehk\n",
    "09:11:31 From PIAIC183349 Muahhamd Waseem To Everyone : PIAIC183349\n",
    "09:12:22 From PIAIC 175167 To Everyone : PIAIC175167\n",
    "09:13:15 From Muhammed.Shahid To Everyone : PIAIC134239\n",
    "09:14:23 From Muhammad Adrees To Everyone : PIAIC74182\n",
    "09:14:50 From Junaid Ali Bhatti To Everyone : PIAIC174125\n",
    "09:16:23 From Bilal Chaudhary176168 To Everyone : 176168\n",
    "09:20:01 From PIAIC 132123 To Everyone : PIAIC132123\n",
    "09:20:22 From Kashif Khan 143001 To Everyone : PIAIC 143001\n",
    "09:21:05 From Amna Liaqat PIAIC 133452 To Everyone : PIAIC133452\n",
    "09:21:33 From Gadeer Abbas 2020-ag-7984 To Everyone : PIAIC173570\n",
    "09:21:43 From Gadeer Abbas 2020-ag-7984 To Everyone : PIAIC173579\n",
    "09:21:50 From PIAIC133985 Muhammad Naveed To Everyone : PIAIC133985 Muhammad Naveed\n",
    "09:22:03 From Zeeshan Asim : PIAIC55300 To Everyone : PIAIC55300 Zeeshan Asim\n",
    "09:22:44 From Asim Sharif PIAIC 172797 To Everyone : PIAIC 172797\n",
    "09:22:57 From Imran Ahmad To Everyone : What is today topic name please, as i have joined late\n",
    "09:23:35 From Khushbakht Hassan To Everyone : PIAIC180280\n",
    "09:24:19 From ASIF ALI PIAIC 183730 To Everyone : ASIF ALI\n",
    "PIAIC 183730\n",
    "09:24:51 From Neelum To Everyone : Neelum Javaid PIAIC172527\n",
    "09:25:01 From Zaki | PIAIC172541 To Everyone : PIAIC 172541\n",
    "09:27:06 From Imran Ahmad To Everyone : Imran Ahmad PIAIC68597\n",
    "09:27:49 From asghar ibraheem To Everyone : re\n",
    "09:28:04 From Imran Ahmad To Everyone : What is today topic name please, as i have joined late\n",
    "09:28:13 From Muhammad Kashif To Everyone : PIAIC181638\n",
    "09:28:20 From asghar ibraheem To Everyone : import re\n",
    "09:28:21 From Asim Sharif PIAIC 172797 To Everyone : regular expression\n",
    "09:28:40 From Imran Ahmad To Everyone : Thanks Asim Sharif\n",
    "09:33:06 From Bilal Chaudhary176168 To Everyone : quater end nhi hogya\n",
    "09:34:22 From PIAIC149101 sana To Everyone : PIAIC149101\n",
    "09:34:35 From Saeed To Everyone : PIAIC131885\n",
    "09:35:36 From M ADNAN SAEED PIAIC 174751 To Everyone : M ADNAN SAEED PIAIC 174751\n",
    "09:36:42 From Muhammad Athar To Everyone : PIAIC174016\n",
    "09:37:36 From Bilal Chaudhry To Everyone : 176168\n",
    "09:38:08 From raashid To Everyone : PIAIC55486\n",
    "09:42:55 From Ashraf Makhdoom Syed To Everyone : PIAIC155482\n",
    "09:43:07 From wasiq imtiaz To Everyone : PIAIC 17864\n",
    "09:43:23 From PIAIC116704 To Everyone : PIAIC116704\n",
    "09:43:23 From Irfan Ahmed To Everyone : PIAIC183459\n",
    "09:43:26 From wasiq imtiaz To Everyone : PIAIC 170864\n",
    "09:47:25 From PIAIC172478 To Everyone : PIAIC172478\n",
    "09:48:41 From Hammad Ahmad To Everyone : PIAIC172695\n",
    "09:53:52 From asghar ibraheem To Everyone : regular expression bana deta hy\n",
    "09:56:48 From (PIAIC-189416) Muhammad Murtaza Khan To Everyone : PIAIC189416\n",
    "10:04:09 From asghar ibraheem To Everyone : Sir javascript main bhi re ka concept same hy\n",
    "10:04:27 From asghar ibraheem To Everyone : Sir javascript main bhi re ka concept same hy\n",
    "10:05:35 From Abdullah Arif 129260 To Everyone : PIAIC129260\n",
    "10:05:55 From ABDULBASIT 59115 To Everyone : PIAIC59115\n",
    "10:10:58 From PIAIC 132123 To Everyone : PIAIC132123\n",
    "10:11:58 From Irfan Ahmed To Everyone : PIAIC183459\n",
    "10:15:22 From Abdul Saboor Zaman To Everyone : PIAIC189261\n",
    "10:16:13 From M. Noman Farooq To Everyone : BCC001845\n",
    "10:18:33 From Muhammad Sadullah - PIAIC178950 To Everyone : PIAIC178950\n",
    "10:21:30 From asghar ibraheem To Everyone : abhi tehk hy\n",
    "10:28:20 From Hassan Ahmed - PIAIC 180140 To Everyone : Hassan Ahmed PIAIC -180140\n",
    "10:29:16 From Farhan-PIAIC186218 To Everyone : PIAIC186218\n",
    "10:29:25 From ALI ISMAIL HUSSAIN To Everyone : IOT048687\n",
    "10:29:35 From asghar ibraheem To Everyone : age 115 false lag raha hy\n",
    "10:29:45 From Ali Raza To Everyone : PIAIC62922\n",
    "10:30:45 From Abdul Saboor Zaman To Everyone : PIAIC189261\n",
    "10:33:06 From Haseeb Iqbal -PIAIC 180144 To Everyone : Haseeb Iqbal PIAIC-180144\n",
    "10:35:44 From LENOVO To Everyone : PIAIC151960\n",
    "10:39:37 From Kamran Chughtai To Everyone : PIAIC107869\n",
    "10:41:53 From Irfan Ahmed - (PIAIC178547) To Everyone : A regular expression followed by an asterisk (*) matches zero or more occurrences of the regular expression. If there is any choice, the first matching string in a line is used.\n",
    "\n",
    "A regular expression followed by a plus sign (+) matches one or more occurrences of the one-character regular expression. If there is any choice, the first matching string in a line is used.\n",
    "\n",
    "A regular expression followed by a question mark (?) matches zero or one occurrence of the one-character regular expression.\n",
    "10:41:58 From PIAIC133985 Muhammad Naveed To Everyone : PIAIC133985 Muhammad Naveed\n",
    "10:42:15 From Hifza Ansari To Everyone : w q use kia h?\n",
    "10:42:20 From asghar ibraheem To Everyone : ubl\n",
    "10:42:32 From Irfan Ahmed - (PIAIC178547) To Everyone : \\w = words only\n",
    "10:43:00 From Irfan Ahmed - (PIAIC178547) To Everyone : \\d = digits only\n",
    "10:43:04 From Hifza Ansari To Everyone : and with w+\n",
    "10:43:35 From Irfan Ahmed - (PIAIC178547) To Everyone : \\w+ = word matching 1 and more characters\n",
    "10:44:11 From Hifza Ansari To Everyone : ✅\n",
    "10:45:20 From Fazal Abbas PIAIC182763 To Everyone : ✅\n",
    "10:45:48 From PIAIC172478 To Everyone : PIAIC172478\n",
    "10:47:16 From asghar ibraheem To Everyone : Best hogya\n",
    "10:48:18 From Zaki | PIAIC172541 To Everyone : PIAIC172541\n",
    "10:50:51 From Afnan 182978 To Everyone : PIAIC 182978\n",
    "10:50:57 From Afnan 182978 To Everyone : PIAIC 182978\n",
    "10:51:35 From Ali Raza To Everyone : PIAIC62922\n",
    "10:53:20 From Kamran Chughtai To Everyone : PIAIC107869\n",
    "10:53:25 From PIAIC172478 To Everyone : PIAIC172478\n",
    "10:53:25 From Dr. Engr. Bhagwan Das To Everyone : PIAIC96879\n",
    "10:53:26 From Adnan Ul Haq (PIAIC-103786) To Everyone : PIAIC103786\n",
    "10:53:26 From Hammad Ahmad To Everyone : PIAIC172695\n",
    "10:53:27 From Assad Mahmood (PIAIC179144) To Everyone : PIAIC179144\n",
    "10:53:27 From SafeerAhmad_139339 To Everyone : PIAIC139339\n",
    "10:53:28 From Muhammad Usman Manzoor To Everyone : PIAIC119347\n",
    "10:53:28 From Kabeer Rajput To Everyone : PIAIC133488\n",
    "10:53:28 From Amna Liaqat PIAIC 133452 To Everyone : PIAIC133452\n",
    "10:53:29 From Noman Ali PIAIC 180111 To Everyone : PIAIC180111\n",
    "10:53:29 From PIAIC 175167 To Everyone : PIAIC175167\n",
    "10:53:29 From Amir Rashid To Everyone : PIAIC107890\n",
    "10:53:30 From Assad Mahmood (PIAIC179144) To Everyone : PIAIC179144\n",
    "10:53:30 From Ali Raza To Everyone : PIAIC62922\n",
    "10:53:31 From asghar ibraheem To Everyone : CNC012105\n",
    "10:53:31 From Muhammad Adrees To Everyone : PIAIC74182\n",
    "10:53:31 From PIAIC149101 sana To Everyone : PIAIC149101\n",
    "10:53:31 From M.Ahmad Ayaz To Everyone : PIAIC175646\n",
    "10:53:32 From Asim sharif(PIAIC172797) To Everyone : PIAIC172797\n",
    "10:53:32 From raashid To Everyone : piaic55486\n",
    "10:53:32 From Dr. Engr. Bhagwan Das To Everyone : PIAIC96879\n",
    "10:53:32 From Syed Amir PIAIC128409 To Everyone : PIAIC128409\n",
    "10:53:32 From Shoaib Ahmed Khan To Everyone : PIAIC159833\n",
    "10:53:33 From Muhammed.Shahid To Everyone : PIAIC134239\n",
    "10:53:33 From Salman Nayyer PIAIC180996 To Everyone : PIAIC180996\n",
    "10:53:33 From Saeed To Everyone : PIAIC131885\n",
    "10:53:34 From Muhammad Athar To Everyone : PIAIC174016\n",
    "10:53:35 From Kainat PIAIC182352 To Everyone : PIAIC182352\n",
    "10:53:35 From Afnan 182978 To Everyone : PIAIC182978\n",
    "10:53:36 From PIAIC188523 - SUBHAN AHMED To Everyone : PIAIC188523\n",
    "10:53:37 From Muhammad Sadullah - PIAIC178950 To Everyone : PIAIC178950\n",
    "10:53:37 From HuzaifaTahir PIAIC-60925 To Everyone : PIAIC60925\n",
    "10:53:37 From Homesaira mehmood To Everyone : PIAIC176439\n",
    "10:53:38 From Taqwa Khaliq To Everyone : PIAIC173701\n",
    "10:53:38 From M ADNAN SAEED PIAIC 174751 To Everyone : 174751\n",
    "10:53:38 From Muhammad Uzair-177637 To Everyone : PIAIC177637\n",
    "10:53:38 From Zeeshan Asim : PIAIC55300 To Everyone : PIAIC55300\n",
    "10:53:40 From Salma Asif To Everyone : PIAIC176945\n",
    "10:53:41 From (PIAIC-189416) Muhammad Murtaza Khan To Everyone : PIAIC189416\n",
    "10:53:41 From Usman Noor PIAIC188401 To Everyone : PIAIC188401\n",
    "10:53:41 From Noman Ali PIAIC 180111 To Everyone : PIAIC180111\n",
    "10:53:42 From LENOVO To Everyone : PIAIC151960\n",
    "10:53:42 From Irfan Ahmed - (PIAIC178547) To Everyone : PIAIC178547\n",
    "10:53:44 From fozia-shareen-piaic-165097 To Everyone : PIAIC165097\n",
    "10:53:44 From Hammad Ahmad To Everyone : PIAIC172695\n",
    "10:53:44 From Kabeer Rajput To Everyone : PIAIC133488\n",
    "10:53:44 From Muneeb(PIAIC173219) To Everyone : PIAIC173219\n",
    "10:53:44 From Shoaib PIAIC-178354 To Everyone : PIAIC178354\n",
    "10:53:44 From PIAIC188523 - SUBHAN AHMED To Everyone : PIAIC188523\n",
    "10:53:45 From Gadeer Abbas 2020-ag-7984 To Everyone : PIAIC173579\n",
    "10:53:45 From SHEHZAD PIAIC180057 To Everyone : PIAIC180057\n",
    "10:53:45 From Sehrish To Everyone : PIAIC174229\n",
    "10:53:46 From Muhammad Sadullah - PIAIC178950 To Everyone : PIAIC178950\n",
    "10:53:46 From Syed Jawad [PIAIC185558] To Everyone : PIAIC185558\n",
    "10:53:46 From Afrooz Alam (PIAIC89531) To Everyone : PIAIC89531 Afrooz Alam\n",
    "10:53:47 From 99685 To Everyone :        PIAIC 99685           \n",
    "10:53:48 From Muhammad Sheraz-PIAIC68522 To Everyone : PIAIC68522\n",
    "10:53:49 From Zeenat Zakir: Piaic 133802 To Everyone : PIAIC133802\n",
    "10:53:49 From Maah Noor PIAIC168751 To Everyone : PIAIC168751\n",
    "10:53:49 From Zaki | PIAIC172541 To Everyone : PIAIC172541\n",
    "10:53:50 From Maha Ilyas 2874 To Everyone : PIAIC177982\n",
    "10:53:50 From PIAIC183349 Muahhamd Waseem To Everyone : PIAIC183349\n",
    "10:53:50 From Usman Noor PIAIC188401 To Everyone : PIAIC188401\n",
    "10:53:50 From raashid To Everyone : PIAIC55486\n",
    "10:53:51 From PIAIC175636 - M. Ziad Khan To Everyone : 175868\n",
    "10:53:51 From Hassan Ahmed - PIAIC 180140 To Everyone : PIAIC180144\n",
    "10:53:51 From Irfan Ahmed To Everyone : 183459\n",
    "10:53:51 From Muhammad Sheraz-PIAIC68522 To Everyone : PIAIC68522\n",
    "10:53:51 From Hifza Ansari To Everyone : PIAIC177625\n",
    "10:53:52 From Fazal Abbas PIAIC182763 To Everyone : PIAIC182763\n",
    "10:53:52 From M ADNAN SAEED PIAIC 174751 To Everyone : PIAIC174751\n",
    "10:53:52 From Haider Ali-PIAIC179345 To Everyone : PIAIC179345\n",
    "10:53:52 From Agha ALi PIAIC164763 To Everyone : PIAIC164763\n",
    "10:53:52 From Nasrullah (PIAIC 180162) To Everyone : PIAIC 180162\n",
    "10:53:53 From Muhammad Athar To Everyone : PIAIC174016\n",
    "10:53:53 From Uzair Ullah To Everyone : PIAIC169405\n",
    "10:53:54 From Gulshan Ali To Everyone : PIAIC176719\n",
    "10:53:54 From ASIF ALI PIAIC 183730 To Everyone : piaic 183730\n",
    "10:53:55 From ABDULBASIT 59115 To Everyone : PIAIC59115\n",
    "10:53:55 From Muhammad Sheraz-PIAIC68522 To Everyone : PIAIC68522\n",
    "10:53:56 From Khushbakht Hassan To Everyone : PIAIC180280\n",
    "10:53:56 From PIAIC183349 Muahhamd Waseem To Everyone : PIAIC183349\n",
    "10:53:56 From Samsung SM-A325F To Everyone : PIAIC178248\n",
    "10:53:58 From Kabeer Alam (132619) To Everyone : PIAIC132619\n",
    "10:53:59 From syed ibad ur rehman To Everyone : PIAIC166678\n",
    "10:53:59 From Saad Aslam To Everyone : PIAIC187831\n",
    "10:53:59 From Samina Anees To Everyone : PIAIC52499\n",
    "10:54:00 From اسامه سلفى To Everyone : PIAIC91925\n",
    "10:54:01 From Neelum To Everyone : PIAIC 172527\n",
    "10:54:01 From Mashal Zahra To Everyone : PIAIC178751\n",
    "10:54:02 From Muhammad Sheraz-PIAIC68522 To Everyone : PIAIC68522\n",
    "10:54:03 From Syed PIAIC168703 To Everyone : PIAIC168703\n",
    "10:54:04 From Muhammad Ashraf To Everyone : PIAIC179123\n",
    "10:54:05 From Irfan Ahmed To Everyone : PIAIC183459\n",
    "10:54:06 From Agha ALi PIAIC164763 To Everyone : PIAIC164763\n",
    "10:54:07 From Muhammad Sheraz-PIAIC68522 To Everyone : PIAIC68522\n",
    "10:54:08 From Zia (PIAIC125141) To Everyone : PIAIC125141\n",
    "10:54:10 From Hamza To Everyone : PIAIC173652\n",
    "10:54:10 From Yousaf-173795 To Everyone : PIAIC173795\n",
    "10:54:12 From 99685 To Everyone : PIAIC99685\n",
    "10:54:14 From Akbar Ali To Everyone : PIAIC168636\n",
    "10:54:14 From Assad Mahmood (PIAIC179144) To Everyone : PIAIC179144\n",
    "10:54:15 From khurshed To Everyone : PIAIC157450\n",
    "10:54:15 From Hammad Ahmad To Everyone : PIAIC172695\n",
    "10:54:17 From Naeem To Everyone : PIAIC116704\n",
    "10:54:17 From PIAIC175636 - M. Ziad Khan To Everyone : PIAIC175656\n",
    "10:54:22 From Owais Khattak To Everyone : Name: MUHAMMAD OWAIS\n",
    "\n",
    "Roll No: PIAIC139392\n",
    "10:54:23 From Irfan Ahmed To Everyone : PIAIC183459\n",
    "10:54:28 From sohaib 67260 To Everyone : PIAIC67260\n",
    "10:54:31 From Owais Khattak To Everyone : Name: MUHAMMAD OWAIS\n",
    "\n",
    "Roll No: PIAIC139392\n",
    "10:54:36 From Haseeb Iqbal -PIAIC 180144 To Everyone : PIAIC180140\n",
    "10:54:37 From Nadeem Hussain To Everyone : PIAIC-182905\n",
    "10:54:44 From Irfan Ahmed To Everyone : PIAIC183459 Irfan Ahmed\n",
    "10:54:49 From Zeeshan Latif To Everyone : PIAIC171445\n",
    "10:54:54 From Irtiza Khan [PIAIC 171375] To Everyone : PIAIC171375\n",
    "10:54:58 From cz 3 To Everyone : PIAIC 125164\n",
    "10:55:07 From Humera Naz To Everyone : piaic173431\n",
    "10:55:09 From Neelum To Everyone : PIAIC172527\n",
    "10:55:15 From ALI ISMAIL HUSSAIN To Everyone : IOT048687\n",
    "10:55:17 From PIAIC175636 - M. Ziad Khan To Everyone : PIAIC175636\n",
    "10:55:26 From Mashal Zahra To Everyone : PIAIC178751\n",
    "10:55:29 From Ali Raza To Everyone : PIAIC62922\n",
    "10:55:33 From Muhammad Furqan(PIAIC183270) To Everyone : PIAIC183270\n",
    "10:55:35 From Moeed Masood PIAIC185253 To Everyone : PIAIC185253\n",
    "10:55:35 From GSTAR GROUP To Everyone : PIAIC172332\n",
    "10:55:39 From Imran Ahmed To Everyone : Imran Ahmed_PIAIC95846\n",
    "10:55:42 From Abdul rafiu To Everyone : PIAIC164489\n",
    "10:55:42 From Noman Saleem khan PIAIC-131844 To Everyone : 18344\n",
    "10:55:47 From Muhammad Shahid To Everyone : PIAIC005259\n",
    "10:55:49 From Noman Saleem khan PIAIC-131844 To Everyone : 13844\n",
    "10:55:51 From LENOVO To Everyone : PIAIC151960\n",
    "10:55:56 From ASIF ALI PIAIC 183730 To Everyone : ASIF ALI PIAIC 183730\n",
    "10:56:08 From Umer Ghaffar PIAIC184298 To Everyone : PIAIC184298\n",
    "10:56:09 From 892 3733 2777 To Everyone : PIAIC173188\n",
    "10:56:11 From Muhammad Kashif To Everyone : PIAIC181638\n",
    "10:56:13 From Irfan Ahmed To Everyone : PIAIC183459 Irfan Ahmed\n",
    "10:56:14 From PIAIC172478 To Everyone : PIAIC172478\n",
    "\"\"\""
   ]
  },
  {
   "cell_type": "code",
   "execution_count": 95,
   "metadata": {},
   "outputs": [
    {
     "name": "stdout",
     "output_type": "stream",
     "text": [
      "241\n"
     ]
    },
    {
     "data": {
      "text/plain": [
       "['piaic133488',\n",
       " 'piaic107890',\n",
       " 'piaic185253',\n",
       " 'piaic178354',\n",
       " 'piaic103786',\n",
       " 'piaic180996',\n",
       " 'piaic180996',\n",
       " 'piaic52499',\n",
       " 'piaic188401',\n",
       " 'piaic188401',\n",
       " 'piaic180111',\n",
       " 'piaic182352',\n",
       " 'piaic182352',\n",
       " 'piaic183270',\n",
       " 'piaic183270',\n",
       " 'piaic119347',\n",
       " 'piaic188401',\n",
       " 'piaic176719',\n",
       " 'piaic183349',\n",
       " 'piaic183349',\n",
       " 'piaic175167',\n",
       " 'piaic134239',\n",
       " 'piaic74182',\n",
       " 'piaic174125',\n",
       " 'piaic132123',\n",
       " 'piaic133452',\n",
       " 'piaic173570',\n",
       " 'piaic173579',\n",
       " 'piaic133985',\n",
       " 'piaic133985',\n",
       " 'piaic55300',\n",
       " 'piaic55300',\n",
       " 'piaic180280',\n",
       " 'piaic172527',\n",
       " 'piaic172541',\n",
       " 'piaic68597',\n",
       " 'piaic181638',\n",
       " 'piaic149101',\n",
       " 'piaic149101',\n",
       " 'piaic131885',\n",
       " 'piaic174016',\n",
       " 'piaic55486',\n",
       " 'piaic155482',\n",
       " 'piaic116704',\n",
       " 'piaic116704',\n",
       " 'piaic183459',\n",
       " 'piaic172478',\n",
       " 'piaic172478',\n",
       " 'piaic172695',\n",
       " 'piaic189416',\n",
       " 'piaic129260',\n",
       " 'piaic59115',\n",
       " 'piaic132123',\n",
       " 'piaic183459',\n",
       " 'piaic189261',\n",
       " 'piaic178950',\n",
       " 'piaic178950',\n",
       " 'piaic186218',\n",
       " 'piaic186218',\n",
       " 'piaic62922',\n",
       " 'piaic189261',\n",
       " 'piaic151960',\n",
       " 'piaic107869',\n",
       " 'piaic178547',\n",
       " 'piaic133985',\n",
       " 'piaic133985',\n",
       " 'piaic178547',\n",
       " 'piaic178547',\n",
       " 'piaic178547',\n",
       " 'piaic182763',\n",
       " 'piaic172478',\n",
       " 'piaic172478',\n",
       " 'piaic172541',\n",
       " 'piaic172541',\n",
       " 'piaic62922',\n",
       " 'piaic107869',\n",
       " 'piaic172478',\n",
       " 'piaic172478',\n",
       " 'piaic96879',\n",
       " 'piaic103786',\n",
       " 'piaic172695',\n",
       " 'piaic179144',\n",
       " 'piaic179144',\n",
       " 'piaic139339',\n",
       " 'piaic119347',\n",
       " 'piaic133488',\n",
       " 'piaic133452',\n",
       " 'piaic180111',\n",
       " 'piaic175167',\n",
       " 'piaic107890',\n",
       " 'piaic179144',\n",
       " 'piaic179144',\n",
       " 'piaic62922',\n",
       " 'piaic74182',\n",
       " 'piaic149101',\n",
       " 'piaic149101',\n",
       " 'piaic175646',\n",
       " 'piaic172797',\n",
       " 'piaic172797',\n",
       " 'piaic55486',\n",
       " 'piaic96879',\n",
       " 'piaic128409',\n",
       " 'piaic128409',\n",
       " 'piaic159833',\n",
       " 'piaic134239',\n",
       " 'piaic180996',\n",
       " 'piaic180996',\n",
       " 'piaic131885',\n",
       " 'piaic174016',\n",
       " 'piaic182352',\n",
       " 'piaic182352',\n",
       " 'piaic182978',\n",
       " 'piaic188523',\n",
       " 'piaic188523',\n",
       " 'piaic178950',\n",
       " 'piaic178950',\n",
       " 'piaic60925',\n",
       " 'piaic176439',\n",
       " 'piaic173701',\n",
       " 'piaic177637',\n",
       " 'piaic55300',\n",
       " 'piaic55300',\n",
       " 'piaic176945',\n",
       " 'piaic189416',\n",
       " 'piaic188401',\n",
       " 'piaic188401',\n",
       " 'piaic180111',\n",
       " 'piaic151960',\n",
       " 'piaic178547',\n",
       " 'piaic178547',\n",
       " 'piaic165097',\n",
       " 'piaic172695',\n",
       " 'piaic133488',\n",
       " 'piaic173219',\n",
       " 'piaic173219',\n",
       " 'piaic178354',\n",
       " 'piaic188523',\n",
       " 'piaic188523',\n",
       " 'piaic173579',\n",
       " 'piaic180057',\n",
       " 'piaic180057',\n",
       " 'piaic174229',\n",
       " 'piaic178950',\n",
       " 'piaic178950',\n",
       " 'piaic185558',\n",
       " 'piaic185558',\n",
       " 'piaic89531',\n",
       " 'piaic89531',\n",
       " 'piaic68522',\n",
       " 'piaic68522',\n",
       " 'piaic133802',\n",
       " 'piaic168751',\n",
       " 'piaic168751',\n",
       " 'piaic172541',\n",
       " 'piaic172541',\n",
       " 'piaic177982',\n",
       " 'piaic183349',\n",
       " 'piaic183349',\n",
       " 'piaic188401',\n",
       " 'piaic188401',\n",
       " 'piaic55486',\n",
       " 'piaic175636',\n",
       " 'piaic180144',\n",
       " 'piaic68522',\n",
       " 'piaic68522',\n",
       " 'piaic177625',\n",
       " 'piaic182763',\n",
       " 'piaic182763',\n",
       " 'piaic174751',\n",
       " 'piaic179345',\n",
       " 'piaic179345',\n",
       " 'piaic164763',\n",
       " 'piaic164763',\n",
       " 'piaic174016',\n",
       " 'piaic169405',\n",
       " 'piaic176719',\n",
       " 'piaic59115',\n",
       " 'piaic68522',\n",
       " 'piaic68522',\n",
       " 'piaic180280',\n",
       " 'piaic183349',\n",
       " 'piaic183349',\n",
       " 'piaic178248',\n",
       " 'piaic132619',\n",
       " 'piaic166678',\n",
       " 'piaic187831',\n",
       " 'piaic52499',\n",
       " 'piaic91925',\n",
       " 'piaic178751',\n",
       " 'piaic68522',\n",
       " 'piaic68522',\n",
       " 'piaic168703',\n",
       " 'piaic168703',\n",
       " 'piaic179123',\n",
       " 'piaic183459',\n",
       " 'piaic164763',\n",
       " 'piaic164763',\n",
       " 'piaic68522',\n",
       " 'piaic68522',\n",
       " 'piaic125141',\n",
       " 'piaic125141',\n",
       " 'piaic173652',\n",
       " 'piaic173795',\n",
       " 'piaic99685',\n",
       " 'piaic168636',\n",
       " 'piaic179144',\n",
       " 'piaic179144',\n",
       " 'piaic157450',\n",
       " 'piaic172695',\n",
       " 'piaic116704',\n",
       " 'piaic175636',\n",
       " 'piaic175656',\n",
       " 'piaic139392',\n",
       " 'piaic183459',\n",
       " 'piaic67260',\n",
       " 'piaic139392',\n",
       " 'piaic180140',\n",
       " 'piaic183459',\n",
       " 'piaic171445',\n",
       " 'piaic171375',\n",
       " 'piaic173431',\n",
       " 'piaic172527',\n",
       " 'piaic175636',\n",
       " 'piaic175636',\n",
       " 'piaic178751',\n",
       " 'piaic62922',\n",
       " 'piaic183270',\n",
       " 'piaic183270',\n",
       " 'piaic185253',\n",
       " 'piaic185253',\n",
       " 'piaic172332',\n",
       " 'piaic164489',\n",
       " 'piaic005259',\n",
       " 'piaic151960',\n",
       " 'piaic184298',\n",
       " 'piaic184298',\n",
       " 'piaic173188',\n",
       " 'piaic181638',\n",
       " 'piaic183459',\n",
       " 'piaic172478',\n",
       " 'piaic172478']"
      ]
     },
     "execution_count": 95,
     "metadata": {},
     "output_type": "execute_result"
    }
   ],
   "source": [
    "roll_no = re.findall(r\"\\bpiaic[0-9]+\\b\",x.lower())\n",
    "print(len(roll_no))\n",
    "roll_no"
   ]
  },
  {
   "cell_type": "code",
   "execution_count": 96,
   "metadata": {},
   "outputs": [
    {
     "name": "stdout",
     "output_type": "stream",
     "text": [
      "297\n"
     ]
    },
    {
     "data": {
      "text/plain": [
       "['piaic 173431',\n",
       " 'piaic133488',\n",
       " 'piaic107890',\n",
       " 'piaic185253',\n",
       " 'piaic-178354',\n",
       " 'piaic178354',\n",
       " 'piaic-103786',\n",
       " 'piaic-103786',\n",
       " 'piaic103786',\n",
       " 'piaic180996',\n",
       " 'piaic180996',\n",
       " 'piaic52499',\n",
       " 'piaic 180162',\n",
       " 'piaic 180162',\n",
       " 'piaic188401',\n",
       " 'piaic188401',\n",
       " 'piaic 180111',\n",
       " 'piaic180111',\n",
       " 'piaic182352',\n",
       " 'piaic182352',\n",
       " 'piaic183270',\n",
       " 'piaic183270',\n",
       " 'piaic119347',\n",
       " 'piaic188401',\n",
       " 'piaic176719',\n",
       " 'piaic183349',\n",
       " 'piaic183349',\n",
       " 'piaic 175167',\n",
       " 'piaic175167',\n",
       " 'piaic134239',\n",
       " 'piaic74182',\n",
       " 'piaic174125',\n",
       " 'piaic 132123',\n",
       " 'piaic132123',\n",
       " 'piaic 143001',\n",
       " 'piaic 133452',\n",
       " 'piaic133452',\n",
       " 'piaic173570',\n",
       " 'piaic173579',\n",
       " 'piaic133985',\n",
       " 'piaic133985',\n",
       " 'piaic55300',\n",
       " 'piaic55300',\n",
       " 'piaic 172797',\n",
       " 'piaic 172797',\n",
       " 'piaic180280',\n",
       " 'piaic 183730',\n",
       " 'piaic 183730',\n",
       " 'piaic172527',\n",
       " 'piaic172541',\n",
       " 'piaic 172541',\n",
       " 'piaic68597',\n",
       " 'piaic181638',\n",
       " 'piaic 172797',\n",
       " 'piaic149101',\n",
       " 'piaic149101',\n",
       " 'piaic131885',\n",
       " 'piaic 174751',\n",
       " 'piaic 174751',\n",
       " 'piaic174016',\n",
       " 'piaic55486',\n",
       " 'piaic155482',\n",
       " 'piaic 17864',\n",
       " 'piaic116704',\n",
       " 'piaic116704',\n",
       " 'piaic183459',\n",
       " 'piaic 170864',\n",
       " 'piaic172478',\n",
       " 'piaic172478',\n",
       " 'piaic172695',\n",
       " 'piaic-189416',\n",
       " 'piaic189416',\n",
       " 'piaic129260',\n",
       " 'piaic59115',\n",
       " 'piaic 132123',\n",
       " 'piaic132123',\n",
       " 'piaic183459',\n",
       " 'piaic189261',\n",
       " 'piaic178950',\n",
       " 'piaic178950',\n",
       " 'piaic 180140',\n",
       " 'piaic -180140',\n",
       " 'piaic186218',\n",
       " 'piaic186218',\n",
       " 'piaic62922',\n",
       " 'piaic189261',\n",
       " 'piaic 180144',\n",
       " 'piaic-180144',\n",
       " 'piaic151960',\n",
       " 'piaic107869',\n",
       " 'piaic178547',\n",
       " 'piaic133985',\n",
       " 'piaic133985',\n",
       " 'piaic178547',\n",
       " 'piaic178547',\n",
       " 'piaic178547',\n",
       " 'piaic182763',\n",
       " 'piaic172478',\n",
       " 'piaic172478',\n",
       " 'piaic172541',\n",
       " 'piaic172541',\n",
       " 'piaic 182978',\n",
       " 'piaic 182978',\n",
       " 'piaic62922',\n",
       " 'piaic107869',\n",
       " 'piaic172478',\n",
       " 'piaic172478',\n",
       " 'piaic96879',\n",
       " 'piaic-103786',\n",
       " 'piaic103786',\n",
       " 'piaic172695',\n",
       " 'piaic179144',\n",
       " 'piaic179144',\n",
       " 'piaic139339',\n",
       " 'piaic119347',\n",
       " 'piaic133488',\n",
       " 'piaic 133452',\n",
       " 'piaic133452',\n",
       " 'piaic 180111',\n",
       " 'piaic180111',\n",
       " 'piaic 175167',\n",
       " 'piaic175167',\n",
       " 'piaic107890',\n",
       " 'piaic179144',\n",
       " 'piaic179144',\n",
       " 'piaic62922',\n",
       " 'piaic74182',\n",
       " 'piaic149101',\n",
       " 'piaic149101',\n",
       " 'piaic175646',\n",
       " 'piaic172797',\n",
       " 'piaic172797',\n",
       " 'piaic55486',\n",
       " 'piaic96879',\n",
       " 'piaic128409',\n",
       " 'piaic128409',\n",
       " 'piaic159833',\n",
       " 'piaic134239',\n",
       " 'piaic180996',\n",
       " 'piaic180996',\n",
       " 'piaic131885',\n",
       " 'piaic174016',\n",
       " 'piaic182352',\n",
       " 'piaic182352',\n",
       " 'piaic182978',\n",
       " 'piaic188523',\n",
       " 'piaic188523',\n",
       " 'piaic178950',\n",
       " 'piaic178950',\n",
       " 'piaic-60925',\n",
       " 'piaic60925',\n",
       " 'piaic176439',\n",
       " 'piaic173701',\n",
       " 'piaic 174751',\n",
       " 'piaic177637',\n",
       " 'piaic55300',\n",
       " 'piaic55300',\n",
       " 'piaic176945',\n",
       " 'piaic-189416',\n",
       " 'piaic189416',\n",
       " 'piaic188401',\n",
       " 'piaic188401',\n",
       " 'piaic 180111',\n",
       " 'piaic180111',\n",
       " 'piaic151960',\n",
       " 'piaic178547',\n",
       " 'piaic178547',\n",
       " 'piaic-165097',\n",
       " 'piaic165097',\n",
       " 'piaic172695',\n",
       " 'piaic133488',\n",
       " 'piaic173219',\n",
       " 'piaic173219',\n",
       " 'piaic-178354',\n",
       " 'piaic178354',\n",
       " 'piaic188523',\n",
       " 'piaic188523',\n",
       " 'piaic173579',\n",
       " 'piaic180057',\n",
       " 'piaic180057',\n",
       " 'piaic174229',\n",
       " 'piaic178950',\n",
       " 'piaic178950',\n",
       " 'piaic185558',\n",
       " 'piaic185558',\n",
       " 'piaic89531',\n",
       " 'piaic89531',\n",
       " 'piaic 99685',\n",
       " 'piaic68522',\n",
       " 'piaic68522',\n",
       " 'piaic 133802',\n",
       " 'piaic133802',\n",
       " 'piaic168751',\n",
       " 'piaic168751',\n",
       " 'piaic172541',\n",
       " 'piaic172541',\n",
       " 'piaic177982',\n",
       " 'piaic183349',\n",
       " 'piaic183349',\n",
       " 'piaic188401',\n",
       " 'piaic188401',\n",
       " 'piaic55486',\n",
       " 'piaic175636',\n",
       " 'piaic 180140',\n",
       " 'piaic180144',\n",
       " 'piaic68522',\n",
       " 'piaic68522',\n",
       " 'piaic177625',\n",
       " 'piaic182763',\n",
       " 'piaic182763',\n",
       " 'piaic 174751',\n",
       " 'piaic174751',\n",
       " 'piaic179345',\n",
       " 'piaic179345',\n",
       " 'piaic164763',\n",
       " 'piaic164763',\n",
       " 'piaic 180162',\n",
       " 'piaic 180162',\n",
       " 'piaic174016',\n",
       " 'piaic169405',\n",
       " 'piaic176719',\n",
       " 'piaic 183730',\n",
       " 'piaic 183730',\n",
       " 'piaic59115',\n",
       " 'piaic68522',\n",
       " 'piaic68522',\n",
       " 'piaic180280',\n",
       " 'piaic183349',\n",
       " 'piaic183349',\n",
       " 'piaic178248',\n",
       " 'piaic132619',\n",
       " 'piaic166678',\n",
       " 'piaic187831',\n",
       " 'piaic52499',\n",
       " 'piaic91925',\n",
       " 'piaic 172527',\n",
       " 'piaic178751',\n",
       " 'piaic68522',\n",
       " 'piaic68522',\n",
       " 'piaic168703',\n",
       " 'piaic168703',\n",
       " 'piaic179123',\n",
       " 'piaic183459',\n",
       " 'piaic164763',\n",
       " 'piaic164763',\n",
       " 'piaic68522',\n",
       " 'piaic68522',\n",
       " 'piaic125141',\n",
       " 'piaic125141',\n",
       " 'piaic173652',\n",
       " 'piaic173795',\n",
       " 'piaic99685',\n",
       " 'piaic168636',\n",
       " 'piaic179144',\n",
       " 'piaic179144',\n",
       " 'piaic157450',\n",
       " 'piaic172695',\n",
       " 'piaic116704',\n",
       " 'piaic175636',\n",
       " 'piaic175656',\n",
       " 'piaic139392',\n",
       " 'piaic183459',\n",
       " 'piaic67260',\n",
       " 'piaic139392',\n",
       " 'piaic 180144',\n",
       " 'piaic180140',\n",
       " 'piaic-182905',\n",
       " 'piaic183459',\n",
       " 'piaic171445',\n",
       " 'piaic 171375',\n",
       " 'piaic171375',\n",
       " 'piaic 125164',\n",
       " 'piaic173431',\n",
       " 'piaic172527',\n",
       " 'piaic175636',\n",
       " 'piaic175636',\n",
       " 'piaic178751',\n",
       " 'piaic62922',\n",
       " 'piaic183270',\n",
       " 'piaic183270',\n",
       " 'piaic185253',\n",
       " 'piaic185253',\n",
       " 'piaic172332',\n",
       " 'piaic164489',\n",
       " 'piaic-131844',\n",
       " 'piaic005259',\n",
       " 'piaic-131844',\n",
       " 'piaic151960',\n",
       " 'piaic 183730',\n",
       " 'piaic 183730',\n",
       " 'piaic184298',\n",
       " 'piaic184298',\n",
       " 'piaic173188',\n",
       " 'piaic181638',\n",
       " 'piaic183459',\n",
       " 'piaic172478',\n",
       " 'piaic172478']"
      ]
     },
     "execution_count": 96,
     "metadata": {},
     "output_type": "execute_result"
    }
   ],
   "source": [
    "roll_no = re.findall(r\"\\bpi.+?[0-9]+\\b\",x.lower())\n",
    "print(len(roll_no))\n",
    "roll_no"
   ]
  },
  {
   "cell_type": "code",
   "execution_count": 97,
   "metadata": {},
   "outputs": [
    {
     "name": "stdout",
     "output_type": "stream",
     "text": [
      "297\n"
     ]
    },
    {
     "data": {
      "text/plain": [
       "['piaic173431',\n",
       " 'piaic133488',\n",
       " 'piaic107890',\n",
       " 'piaic185253',\n",
       " 'piaic178354',\n",
       " 'piaic178354',\n",
       " 'piaic103786',\n",
       " 'piaic103786',\n",
       " 'piaic103786',\n",
       " 'piaic180996',\n",
       " 'piaic180996',\n",
       " 'piaic52499',\n",
       " 'piaic180162',\n",
       " 'piaic180162',\n",
       " 'piaic188401',\n",
       " 'piaic188401',\n",
       " 'piaic180111',\n",
       " 'piaic180111',\n",
       " 'piaic182352',\n",
       " 'piaic182352',\n",
       " 'piaic183270',\n",
       " 'piaic183270',\n",
       " 'piaic119347',\n",
       " 'piaic188401',\n",
       " 'piaic176719',\n",
       " 'piaic183349',\n",
       " 'piaic183349',\n",
       " 'piaic175167',\n",
       " 'piaic175167',\n",
       " 'piaic134239',\n",
       " 'piaic74182',\n",
       " 'piaic174125',\n",
       " 'piaic132123',\n",
       " 'piaic132123',\n",
       " 'piaic143001',\n",
       " 'piaic133452',\n",
       " 'piaic133452',\n",
       " 'piaic173570',\n",
       " 'piaic173579',\n",
       " 'piaic133985',\n",
       " 'piaic133985',\n",
       " 'piaic55300',\n",
       " 'piaic55300',\n",
       " 'piaic172797',\n",
       " 'piaic172797',\n",
       " 'piaic180280',\n",
       " 'piaic183730',\n",
       " 'piaic183730',\n",
       " 'piaic172527',\n",
       " 'piaic172541',\n",
       " 'piaic172541',\n",
       " 'piaic68597',\n",
       " 'piaic181638',\n",
       " 'piaic172797',\n",
       " 'piaic149101',\n",
       " 'piaic149101',\n",
       " 'piaic131885',\n",
       " 'piaic174751',\n",
       " 'piaic174751',\n",
       " 'piaic174016',\n",
       " 'piaic55486',\n",
       " 'piaic155482',\n",
       " 'piaic17864',\n",
       " 'piaic116704',\n",
       " 'piaic116704',\n",
       " 'piaic183459',\n",
       " 'piaic170864',\n",
       " 'piaic172478',\n",
       " 'piaic172478',\n",
       " 'piaic172695',\n",
       " 'piaic189416',\n",
       " 'piaic189416',\n",
       " 'piaic129260',\n",
       " 'piaic59115',\n",
       " 'piaic132123',\n",
       " 'piaic132123',\n",
       " 'piaic183459',\n",
       " 'piaic189261',\n",
       " 'piaic178950',\n",
       " 'piaic178950',\n",
       " 'piaic180140',\n",
       " 'piaic180140',\n",
       " 'piaic186218',\n",
       " 'piaic186218',\n",
       " 'piaic62922',\n",
       " 'piaic189261',\n",
       " 'piaic180144',\n",
       " 'piaic180144',\n",
       " 'piaic151960',\n",
       " 'piaic107869',\n",
       " 'piaic178547',\n",
       " 'piaic133985',\n",
       " 'piaic133985',\n",
       " 'piaic178547',\n",
       " 'piaic178547',\n",
       " 'piaic178547',\n",
       " 'piaic182763',\n",
       " 'piaic172478',\n",
       " 'piaic172478',\n",
       " 'piaic172541',\n",
       " 'piaic172541',\n",
       " 'piaic182978',\n",
       " 'piaic182978',\n",
       " 'piaic62922',\n",
       " 'piaic107869',\n",
       " 'piaic172478',\n",
       " 'piaic172478',\n",
       " 'piaic96879',\n",
       " 'piaic103786',\n",
       " 'piaic103786',\n",
       " 'piaic172695',\n",
       " 'piaic179144',\n",
       " 'piaic179144',\n",
       " 'piaic139339',\n",
       " 'piaic119347',\n",
       " 'piaic133488',\n",
       " 'piaic133452',\n",
       " 'piaic133452',\n",
       " 'piaic180111',\n",
       " 'piaic180111',\n",
       " 'piaic175167',\n",
       " 'piaic175167',\n",
       " 'piaic107890',\n",
       " 'piaic179144',\n",
       " 'piaic179144',\n",
       " 'piaic62922',\n",
       " 'piaic74182',\n",
       " 'piaic149101',\n",
       " 'piaic149101',\n",
       " 'piaic175646',\n",
       " 'piaic172797',\n",
       " 'piaic172797',\n",
       " 'piaic55486',\n",
       " 'piaic96879',\n",
       " 'piaic128409',\n",
       " 'piaic128409',\n",
       " 'piaic159833',\n",
       " 'piaic134239',\n",
       " 'piaic180996',\n",
       " 'piaic180996',\n",
       " 'piaic131885',\n",
       " 'piaic174016',\n",
       " 'piaic182352',\n",
       " 'piaic182352',\n",
       " 'piaic182978',\n",
       " 'piaic188523',\n",
       " 'piaic188523',\n",
       " 'piaic178950',\n",
       " 'piaic178950',\n",
       " 'piaic60925',\n",
       " 'piaic60925',\n",
       " 'piaic176439',\n",
       " 'piaic173701',\n",
       " 'piaic174751',\n",
       " 'piaic177637',\n",
       " 'piaic55300',\n",
       " 'piaic55300',\n",
       " 'piaic176945',\n",
       " 'piaic189416',\n",
       " 'piaic189416',\n",
       " 'piaic188401',\n",
       " 'piaic188401',\n",
       " 'piaic180111',\n",
       " 'piaic180111',\n",
       " 'piaic151960',\n",
       " 'piaic178547',\n",
       " 'piaic178547',\n",
       " 'piaic165097',\n",
       " 'piaic165097',\n",
       " 'piaic172695',\n",
       " 'piaic133488',\n",
       " 'piaic173219',\n",
       " 'piaic173219',\n",
       " 'piaic178354',\n",
       " 'piaic178354',\n",
       " 'piaic188523',\n",
       " 'piaic188523',\n",
       " 'piaic173579',\n",
       " 'piaic180057',\n",
       " 'piaic180057',\n",
       " 'piaic174229',\n",
       " 'piaic178950',\n",
       " 'piaic178950',\n",
       " 'piaic185558',\n",
       " 'piaic185558',\n",
       " 'piaic89531',\n",
       " 'piaic89531',\n",
       " 'piaic99685',\n",
       " 'piaic68522',\n",
       " 'piaic68522',\n",
       " 'piaic133802',\n",
       " 'piaic133802',\n",
       " 'piaic168751',\n",
       " 'piaic168751',\n",
       " 'piaic172541',\n",
       " 'piaic172541',\n",
       " 'piaic177982',\n",
       " 'piaic183349',\n",
       " 'piaic183349',\n",
       " 'piaic188401',\n",
       " 'piaic188401',\n",
       " 'piaic55486',\n",
       " 'piaic175636',\n",
       " 'piaic180140',\n",
       " 'piaic180144',\n",
       " 'piaic68522',\n",
       " 'piaic68522',\n",
       " 'piaic177625',\n",
       " 'piaic182763',\n",
       " 'piaic182763',\n",
       " 'piaic174751',\n",
       " 'piaic174751',\n",
       " 'piaic179345',\n",
       " 'piaic179345',\n",
       " 'piaic164763',\n",
       " 'piaic164763',\n",
       " 'piaic180162',\n",
       " 'piaic180162',\n",
       " 'piaic174016',\n",
       " 'piaic169405',\n",
       " 'piaic176719',\n",
       " 'piaic183730',\n",
       " 'piaic183730',\n",
       " 'piaic59115',\n",
       " 'piaic68522',\n",
       " 'piaic68522',\n",
       " 'piaic180280',\n",
       " 'piaic183349',\n",
       " 'piaic183349',\n",
       " 'piaic178248',\n",
       " 'piaic132619',\n",
       " 'piaic166678',\n",
       " 'piaic187831',\n",
       " 'piaic52499',\n",
       " 'piaic91925',\n",
       " 'piaic172527',\n",
       " 'piaic178751',\n",
       " 'piaic68522',\n",
       " 'piaic68522',\n",
       " 'piaic168703',\n",
       " 'piaic168703',\n",
       " 'piaic179123',\n",
       " 'piaic183459',\n",
       " 'piaic164763',\n",
       " 'piaic164763',\n",
       " 'piaic68522',\n",
       " 'piaic68522',\n",
       " 'piaic125141',\n",
       " 'piaic125141',\n",
       " 'piaic173652',\n",
       " 'piaic173795',\n",
       " 'piaic99685',\n",
       " 'piaic168636',\n",
       " 'piaic179144',\n",
       " 'piaic179144',\n",
       " 'piaic157450',\n",
       " 'piaic172695',\n",
       " 'piaic116704',\n",
       " 'piaic175636',\n",
       " 'piaic175656',\n",
       " 'piaic139392',\n",
       " 'piaic183459',\n",
       " 'piaic67260',\n",
       " 'piaic139392',\n",
       " 'piaic180144',\n",
       " 'piaic180140',\n",
       " 'piaic182905',\n",
       " 'piaic183459',\n",
       " 'piaic171445',\n",
       " 'piaic171375',\n",
       " 'piaic171375',\n",
       " 'piaic125164',\n",
       " 'piaic173431',\n",
       " 'piaic172527',\n",
       " 'piaic175636',\n",
       " 'piaic175636',\n",
       " 'piaic178751',\n",
       " 'piaic62922',\n",
       " 'piaic183270',\n",
       " 'piaic183270',\n",
       " 'piaic185253',\n",
       " 'piaic185253',\n",
       " 'piaic172332',\n",
       " 'piaic164489',\n",
       " 'piaic131844',\n",
       " 'piaic005259',\n",
       " 'piaic131844',\n",
       " 'piaic151960',\n",
       " 'piaic183730',\n",
       " 'piaic183730',\n",
       " 'piaic184298',\n",
       " 'piaic184298',\n",
       " 'piaic173188',\n",
       " 'piaic181638',\n",
       " 'piaic183459',\n",
       " 'piaic172478',\n",
       " 'piaic172478']"
      ]
     },
     "execution_count": 97,
     "metadata": {},
     "output_type": "execute_result"
    }
   ],
   "source": [
    "roll_no = re.findall(r\"\\bpi.+?[0-9]+\\b\",x.lower())\n",
    "roll_no = [i.replace(\" \",\"\").replace(\"-\",\"\") for i in roll_no]\n",
    "print(len(roll_no))\n",
    "roll_no"
   ]
  },
  {
   "cell_type": "code",
   "execution_count": 101,
   "metadata": {},
   "outputs": [
    {
     "name": "stdout",
     "output_type": "stream",
     "text": [
      "116\n"
     ]
    },
    {
     "data": {
      "text/plain": [
       "['piaic132123',\n",
       " 'piaic184298',\n",
       " 'piaic175636',\n",
       " 'piaic188401',\n",
       " 'piaic67260',\n",
       " 'piaic103786',\n",
       " 'piaic179123',\n",
       " 'piaic174016',\n",
       " 'piaic182763',\n",
       " 'piaic149101',\n",
       " 'piaic133985',\n",
       " 'piaic171445',\n",
       " 'piaic133488',\n",
       " 'piaic168751',\n",
       " 'piaic89531',\n",
       " 'piaic157450',\n",
       " 'piaic173431',\n",
       " 'piaic005259',\n",
       " 'piaic173652',\n",
       " 'piaic171375',\n",
       " 'piaic183459',\n",
       " 'piaic131844',\n",
       " 'piaic17864',\n",
       " 'piaic180111',\n",
       " 'piaic178547',\n",
       " 'piaic182352',\n",
       " 'piaic174229',\n",
       " 'piaic172695',\n",
       " 'piaic68522',\n",
       " 'piaic180140',\n",
       " 'piaic178248',\n",
       " 'piaic172797',\n",
       " 'piaic176945',\n",
       " 'piaic168636',\n",
       " 'piaic176719',\n",
       " 'piaic166678',\n",
       " 'piaic139392',\n",
       " 'piaic177637',\n",
       " 'piaic189416',\n",
       " 'piaic186218',\n",
       " 'piaic164489',\n",
       " 'piaic60925',\n",
       " 'piaic174125',\n",
       " 'piaic183349',\n",
       " 'piaic180162',\n",
       " 'piaic189261',\n",
       " 'piaic183270',\n",
       " 'piaic175656',\n",
       " 'piaic173795',\n",
       " 'piaic55300',\n",
       " 'piaic173701',\n",
       " 'piaic175646',\n",
       " 'piaic74182',\n",
       " 'piaic164763',\n",
       " 'piaic172527',\n",
       " 'piaic185253',\n",
       " 'piaic178354',\n",
       " 'piaic180996',\n",
       " 'piaic177625',\n",
       " 'piaic59115',\n",
       " 'piaic172332',\n",
       " 'piaic183730',\n",
       " 'piaic168703',\n",
       " 'piaic169405',\n",
       " 'piaic107869',\n",
       " 'piaic133802',\n",
       " 'cnc012105',\n",
       " 'piaic91925',\n",
       " 'piaic131885',\n",
       " 'piaic159833',\n",
       " 'piaic133452',\n",
       " 'piaic116704',\n",
       " 'piaic173219',\n",
       " 'piaic179345',\n",
       " 'piaic99685',\n",
       " 'piaic129260',\n",
       " 'piaic180057',\n",
       " 'piaic188523',\n",
       " 'piaic175167',\n",
       " 'piaic173570',\n",
       " 'piaic128409',\n",
       " 'piaic178751',\n",
       " 'piaic55486',\n",
       " 'piaic96879',\n",
       " 'iot048687',\n",
       " 'piaic173188',\n",
       " 'piaic151960',\n",
       " 'piaic68597',\n",
       " 'piaic172541',\n",
       " 'piaic170864',\n",
       " 'piaic177982',\n",
       " 'piaic134239',\n",
       " 'piaic52499',\n",
       " 'piaic181638',\n",
       " 'piaic172478',\n",
       " 'piaic187831',\n",
       " 'piaic143001',\n",
       " 'piaic173579',\n",
       " 'piaic182978',\n",
       " 'piaic180144',\n",
       " 'piaic132619',\n",
       " 'piaic182905',\n",
       " 'piaic62922',\n",
       " 'piaic125141',\n",
       " 'piaic107890',\n",
       " 'piaic180280',\n",
       " 'piaic179144',\n",
       " 'piaic178950',\n",
       " 'piaic174751',\n",
       " 'piaic176439',\n",
       " 'piaic119347',\n",
       " 'piaic155482',\n",
       " 'piaic165097',\n",
       " 'piaic185558',\n",
       " 'piaic125164',\n",
       " 'piaic139339']"
      ]
     },
     "execution_count": 101,
     "metadata": {},
     "output_type": "execute_result"
    }
   ],
   "source": [
    "roll_no = re.findall(r\"\\bpi.+?[0-9]+\\b\",x.lower())\n",
    "roll_no = roll_no + re.findall(r\"\\biot.+?[0-9]+\\b\",x.lower())\n",
    "roll_no = roll_no + re.findall(r\"\\bcnc.+?[0-9]+\\b\",x.lower())\n",
    "roll_no = roll_no + re.findall(r\"\\bbbc.+?[0-9]+\\b\",x.lower())\n",
    "roll_no = [i.replace(\" \",\"\").replace(\"-\",\"\") for i in roll_no]\n",
    "roll_no = list(set(roll_no))\n",
    "print(len(roll_no))\n",
    "roll_no"
   ]
  },
  {
   "cell_type": "code",
   "execution_count": 102,
   "metadata": {},
   "outputs": [
    {
     "data": {
      "text/html": [
       "<div>\n",
       "<style scoped>\n",
       "    .dataframe tbody tr th:only-of-type {\n",
       "        vertical-align: middle;\n",
       "    }\n",
       "\n",
       "    .dataframe tbody tr th {\n",
       "        vertical-align: top;\n",
       "    }\n",
       "\n",
       "    .dataframe thead th {\n",
       "        text-align: right;\n",
       "    }\n",
       "</style>\n",
       "<table border=\"1\" class=\"dataframe\">\n",
       "  <thead>\n",
       "    <tr style=\"text-align: right;\">\n",
       "      <th></th>\n",
       "      <th>Roll No</th>\n",
       "    </tr>\n",
       "  </thead>\n",
       "  <tbody>\n",
       "    <tr>\n",
       "      <th>0</th>\n",
       "      <td>piaic132123</td>\n",
       "    </tr>\n",
       "    <tr>\n",
       "      <th>1</th>\n",
       "      <td>piaic184298</td>\n",
       "    </tr>\n",
       "    <tr>\n",
       "      <th>2</th>\n",
       "      <td>piaic175636</td>\n",
       "    </tr>\n",
       "    <tr>\n",
       "      <th>3</th>\n",
       "      <td>piaic188401</td>\n",
       "    </tr>\n",
       "    <tr>\n",
       "      <th>4</th>\n",
       "      <td>piaic67260</td>\n",
       "    </tr>\n",
       "    <tr>\n",
       "      <th>...</th>\n",
       "      <td>...</td>\n",
       "    </tr>\n",
       "    <tr>\n",
       "      <th>111</th>\n",
       "      <td>piaic155482</td>\n",
       "    </tr>\n",
       "    <tr>\n",
       "      <th>112</th>\n",
       "      <td>piaic165097</td>\n",
       "    </tr>\n",
       "    <tr>\n",
       "      <th>113</th>\n",
       "      <td>piaic185558</td>\n",
       "    </tr>\n",
       "    <tr>\n",
       "      <th>114</th>\n",
       "      <td>piaic125164</td>\n",
       "    </tr>\n",
       "    <tr>\n",
       "      <th>115</th>\n",
       "      <td>piaic139339</td>\n",
       "    </tr>\n",
       "  </tbody>\n",
       "</table>\n",
       "<p>116 rows × 1 columns</p>\n",
       "</div>"
      ],
      "text/plain": [
       "         Roll No\n",
       "0    piaic132123\n",
       "1    piaic184298\n",
       "2    piaic175636\n",
       "3    piaic188401\n",
       "4     piaic67260\n",
       "..           ...\n",
       "111  piaic155482\n",
       "112  piaic165097\n",
       "113  piaic185558\n",
       "114  piaic125164\n",
       "115  piaic139339\n",
       "\n",
       "[116 rows x 1 columns]"
      ]
     },
     "execution_count": 102,
     "metadata": {},
     "output_type": "execute_result"
    }
   ],
   "source": [
    "import pandas as pd\n",
    "\n",
    "df = pd.DataFrame(roll_no,columns=[\"Roll No\"])\n",
    "df"
   ]
  },
  {
   "cell_type": "code",
   "execution_count": 103,
   "metadata": {},
   "outputs": [],
   "source": [
    "df.to_excel(\"last_class_attendance_23Oct2022.xlsx\",index=False)"
   ]
  },
  {
   "cell_type": "code",
   "execution_count": null,
   "metadata": {},
   "outputs": [],
   "source": []
  }
 ],
 "metadata": {
  "kernelspec": {
   "display_name": "Python 3",
   "language": "python",
   "name": "python3"
  },
  "language_info": {
   "codemirror_mode": {
    "name": "ipython",
    "version": 3
   },
   "file_extension": ".py",
   "mimetype": "text/x-python",
   "name": "python",
   "nbconvert_exporter": "python",
   "pygments_lexer": "ipython3",
   "version": "3.7.6"
  }
 },
 "nbformat": 4,
 "nbformat_minor": 4
}
