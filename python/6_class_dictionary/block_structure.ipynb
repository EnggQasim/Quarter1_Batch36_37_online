{
 "cells": [
  {
   "cell_type": "markdown",
   "metadata": {},
   "source": [
    "# controls structure\n",
    "* if\n",
    "    * else\n",
    "    * elif\n",
    "        and or not in\n",
    "* while\n",
    "    * break\n",
    "    * continue\n",
    "    * pass\n",
    "* for\n",
    "    * break\n",
    "    * continue\n",
    "    * pass\n",
    "* try\n",
    "    * except\n",
    "* def\n",
    "* class\n"
   ]
  },
  {
   "cell_type": "raw",
   "metadata": {},
   "source": [
    "https://realpython.com/lessons/reserved-keywords/"
   ]
  },
  {
   "cell_type": "markdown",
   "metadata": {},
   "source": [
    "# if \n",
    "\n",
    "```\n",
    "if True/False:\n",
    "    True_block\n",
    "```\n",
    "\n",
    "## if else\n",
    "```\n",
    "if True/False:\n",
    "    True_block\n",
    "else:\n",
    "    False_block\n",
    "```\n",
    "\n",
    "### if elif else\n",
    "\n",
    "```\n",
    "if True/False:\n",
    "    True_block\n",
    "elif True/False:\n",
    "    True_block\n",
    "elif True/False:\n",
    "    True_block\n",
    "else:\n",
    "    False_block\n",
    "```"
   ]
  },
  {
   "cell_type": "markdown",
   "metadata": {},
   "source": [
    "# if \n",
    "\n",
    "```\n",
    "if True/False:\n",
    "    True_block\n",
    "```"
   ]
  },
  {
   "cell_type": "code",
   "execution_count": 1,
   "metadata": {},
   "outputs": [
    {
     "name": "stdout",
     "output_type": "stream",
     "text": [
      "Pakistan zinda bad\n"
     ]
    }
   ],
   "source": [
    "if True:\n",
    "    print(\"Pakistan zinda bad\")"
   ]
  },
  {
   "cell_type": "code",
   "execution_count": 2,
   "metadata": {},
   "outputs": [],
   "source": [
    "if False:\n",
    "    print(\"Pakistan zinda bad\")"
   ]
  },
  {
   "cell_type": "markdown",
   "metadata": {},
   "source": [
    "## if else\n",
    "```\n",
    "if True/False:\n",
    "    True_block\n",
    "else:\n",
    "    False_block\n",
    "```"
   ]
  },
  {
   "cell_type": "code",
   "execution_count": 3,
   "metadata": {},
   "outputs": [
    {
     "name": "stdout",
     "output_type": "stream",
     "text": [
      "Pakistan\n"
     ]
    }
   ],
   "source": [
    "if True:\n",
    "    print(\"Pakistan\")# True block\n",
    "else:\n",
    "    print(\"USA\")# False block"
   ]
  },
  {
   "cell_type": "code",
   "execution_count": null,
   "metadata": {},
   "outputs": [],
   "source": [
    "print(\"Pakistan\")# True block"
   ]
  },
  {
   "cell_type": "code",
   "execution_count": 4,
   "metadata": {},
   "outputs": [
    {
     "name": "stdout",
     "output_type": "stream",
     "text": [
      "USA\n"
     ]
    }
   ],
   "source": [
    "if False:\n",
    "    print(\"Pakistan\")# True block\n",
    "else:\n",
    "    print(\"USA\")# False block"
   ]
  },
  {
   "cell_type": "code",
   "execution_count": null,
   "metadata": {},
   "outputs": [],
   "source": [
    "print(\"USA\")# False block"
   ]
  },
  {
   "cell_type": "code",
   "execution_count": 5,
   "metadata": {},
   "outputs": [
    {
     "name": "stdout",
     "output_type": "stream",
     "text": [
      "Enter userAdmin\n"
     ]
    },
    {
     "data": {
      "text/plain": [
       "'Admin'"
      ]
     },
     "execution_count": 5,
     "metadata": {},
     "output_type": "execute_result"
    }
   ],
   "source": [
    "user = input(\"Enter user\")\n",
    "\n",
    "user"
   ]
  },
  {
   "cell_type": "code",
   "execution_count": 8,
   "metadata": {},
   "outputs": [
    {
     "name": "stdout",
     "output_type": "stream",
     "text": [
      "Enter userAdmin\n"
     ]
    },
    {
     "data": {
      "text/plain": [
       "True"
      ]
     },
     "execution_count": 8,
     "metadata": {},
     "output_type": "execute_result"
    }
   ],
   "source": [
    "user = input(\"Enter user\")\n",
    "\n",
    "user == \"Admin\" # return "
   ]
  },
  {
   "cell_type": "code",
   "execution_count": 10,
   "metadata": {},
   "outputs": [
    {
     "name": "stdout",
     "output_type": "stream",
     "text": [
      "Enter userAdmin\n",
      "Valid User\n"
     ]
    }
   ],
   "source": [
    "user = input(\"Enter user\")\n",
    "\n",
    "if user == \"Admin\":\n",
    "    print(\"Valid User\")"
   ]
  },
  {
   "cell_type": "code",
   "execution_count": 11,
   "metadata": {},
   "outputs": [
    {
     "name": "stdout",
     "output_type": "stream",
     "text": [
      "Enter userAsif\n",
      "Invalid user name\n"
     ]
    }
   ],
   "source": [
    "user = input(\"Enter user\")\n",
    "\n",
    "if user == \"Admin\":\n",
    "    print(\"Valid User\")\n",
    "else:\n",
    "    print(\"Invalid user name\")"
   ]
  },
  {
   "cell_type": "code",
   "execution_count": 13,
   "metadata": {},
   "outputs": [
    {
     "name": "stdout",
     "output_type": "stream",
     "text": [
      "Enter userAdmin\n",
      "Valid User\n",
      "Welcome\n",
      "Congratulation!\n"
     ]
    }
   ],
   "source": [
    "user = input(\"Enter user\")\n",
    "\n",
    "if user == \"Admin\":\n",
    "    print(\"Valid User\")\n",
    "    print(\"Welcome\")\n",
    "    print(\"Congratulation!\")\n",
    "else:\n",
    "    print(\"Invalid user name\")"
   ]
  },
  {
   "cell_type": "code",
   "execution_count": 14,
   "metadata": {},
   "outputs": [
    {
     "name": "stdout",
     "output_type": "stream",
     "text": [
      "Enter userQasim\n",
      "Invalid user name\n"
     ]
    }
   ],
   "source": [
    "user = input(\"Enter user\")\n",
    "\n",
    "if user == \"Admin\":\n",
    "    print(\"Valid User\")\n",
    "    print(\"Welcome\")\n",
    "    print(\"Congratulation!\")\n",
    "else:\n",
    "    print(\"Invalid user name\")"
   ]
  },
  {
   "cell_type": "markdown",
   "metadata": {},
   "source": [
    "### if elif else\n",
    "\n",
    "```\n",
    "if True/False:\n",
    "    True_block\n",
    "elif True/False:\n",
    "    True_block\n",
    "elif True/False:\n",
    "    True_block\n",
    "else:\n",
    "    False_block\n",
    "```"
   ]
  },
  {
   "cell_type": "code",
   "execution_count": 15,
   "metadata": {},
   "outputs": [
    {
     "name": "stdout",
     "output_type": "stream",
     "text": [
      "89\n",
      "A+\n"
     ]
    }
   ],
   "source": [
    "per = 89\n",
    "grade = \"\"\n",
    "\n",
    "if per >= 80:\n",
    "    grade = \"A+\"\n",
    "elif per >= 70:\n",
    "    grade = \"A\"\n",
    "elif per >= 60:\n",
    "    grade = \"B\"\n",
    "elif per >= 50:\n",
    "    grade = \"C\"\n",
    "else:\n",
    "    grade = \"Fail\"\n",
    "    \n",
    "print(per)\n",
    "print(grade)"
   ]
  },
  {
   "cell_type": "code",
   "execution_count": 18,
   "metadata": {},
   "outputs": [
    {
     "name": "stdout",
     "output_type": "stream",
     "text": [
      "percentage: 70\n",
      "70\n",
      "A\n"
     ]
    }
   ],
   "source": [
    "per = int(input(\"percentage: \"))\n",
    "grade = \"\"\n",
    "\n",
    "if per >= 80:\n",
    "    grade = \"A+\"\n",
    "elif per >= 70:\n",
    "    grade = \"A\"\n",
    "elif per >= 60:\n",
    "    grade = \"B\"\n",
    "elif per >= 50:\n",
    "    grade = \"C\"\n",
    "else:\n",
    "    grade = \"Fail\"\n",
    "    \n",
    "print(per)\n",
    "print(grade)"
   ]
  },
  {
   "cell_type": "code",
   "execution_count": 21,
   "metadata": {},
   "outputs": [
    {
     "name": "stdout",
     "output_type": "stream",
     "text": [
      "abc88\n"
     ]
    },
    {
     "data": {
      "text/plain": [
       "'88'"
      ]
     },
     "execution_count": 21,
     "metadata": {},
     "output_type": "execute_result"
    }
   ],
   "source": [
    "input(\"abc\")"
   ]
  },
  {
   "cell_type": "code",
   "execution_count": 20,
   "metadata": {},
   "outputs": [
    {
     "name": "stdout",
     "output_type": "stream",
     "text": [
      "abc88\n"
     ]
    },
    {
     "data": {
      "text/plain": [
       "88"
      ]
     },
     "execution_count": 20,
     "metadata": {},
     "output_type": "execute_result"
    }
   ],
   "source": [
    "int(input(\"abc\"))\n"
   ]
  },
  {
   "cell_type": "code",
   "execution_count": 22,
   "metadata": {},
   "outputs": [
    {
     "data": {
      "text/plain": [
       "'1,3,6,abc,pakistan'"
      ]
     },
     "execution_count": 22,
     "metadata": {},
     "output_type": "execute_result"
    }
   ],
   "source": [
    "a = \"1,3,6,abc,pakistan\"\n",
    "a"
   ]
  },
  {
   "cell_type": "code",
   "execution_count": 23,
   "metadata": {},
   "outputs": [
    {
     "data": {
      "text/plain": [
       "['1', '3', '6', 'abc', 'pakistan']"
      ]
     },
     "execution_count": 23,
     "metadata": {},
     "output_type": "execute_result"
    }
   ],
   "source": [
    "a.split(\",\")"
   ]
  },
  {
   "cell_type": "code",
   "execution_count": 24,
   "metadata": {},
   "outputs": [
    {
     "data": {
      "text/plain": [
       "['pakistan', 'zinda', 'bad', 'we', 'love', 'our', 'country!']"
      ]
     },
     "execution_count": 24,
     "metadata": {},
     "output_type": "execute_result"
    }
   ],
   "source": [
    "\"pakistan zinda bad we love our country!\".split(\" \")"
   ]
  },
  {
   "cell_type": "code",
   "execution_count": 27,
   "metadata": {},
   "outputs": [
    {
     "data": {
      "text/plain": [
       "['pakistan zinda bad ', ' our country!']"
      ]
     },
     "execution_count": 27,
     "metadata": {},
     "output_type": "execute_result"
    }
   ],
   "source": [
    "\"pakistan zinda bad we love our country!\".split(\"we love\")"
   ]
  },
  {
   "cell_type": "code",
   "execution_count": 25,
   "metadata": {},
   "outputs": [
    {
     "name": "stdout",
     "output_type": "stream",
     "text": [
      "Pakistan\n"
     ]
    }
   ],
   "source": [
    "a = \"Pakistan\"\n",
    "print(a)"
   ]
  },
  {
   "cell_type": "code",
   "execution_count": 26,
   "metadata": {},
   "outputs": [
    {
     "data": {
      "text/plain": [
       "False"
      ]
     },
     "execution_count": 26,
     "metadata": {},
     "output_type": "execute_result"
    }
   ],
   "source": [
    "a == \"USA\""
   ]
  },
  {
   "cell_type": "code",
   "execution_count": 28,
   "metadata": {},
   "outputs": [
    {
     "data": {
      "text/plain": [
       "['Muhammad Qasim', ' Muhammad Aslam', ' MSDS', ' AI']"
      ]
     },
     "execution_count": 28,
     "metadata": {},
     "output_type": "execute_result"
    }
   ],
   "source": [
    "\"Muhammad Qasim; Muhammad Aslam; MSDS; AI\".split(\";\")"
   ]
  },
  {
   "cell_type": "code",
   "execution_count": 38,
   "metadata": {},
   "outputs": [
    {
     "name": "stdout",
     "output_type": "stream",
     "text": [
      "{'PIAIC185558'}\n",
      "{'PIAIC174751'}\n",
      "{'PIAIC149101'}\n",
      "set()\n",
      "set()\n",
      "{'PIAIC130669'}\n",
      "set()\n",
      "{'PIAIC185754'}\n",
      "set()\n",
      "{'PIAIC175139'}\n",
      "{'PIAIC181638'}\n",
      "{'PIAIC176945'}\n",
      "{'PIAIC107890'}\n",
      "{'PIAIC130669'}\n",
      "{'PIAIC182352'}\n",
      "{'PIAIC188401'}\n",
      "{'PIAIC170982'}\n",
      "{'PIAIC55300'}\n",
      "{'PIAIC178751'}\n",
      "set()\n",
      "set()\n",
      "{'PIAIC170982'}\n",
      "set()\n",
      "set()\n",
      "set()\n",
      "set()\n",
      "set()\n",
      "{'PIAIC188727'}\n",
      "{'PIAIC89531'}\n",
      "{'PIAIC189427'}\n",
      "{'PIAIC174416'}\n",
      "{'PIAIC133452'}\n",
      "{'PIAIC180280'}\n",
      "{'PIAIC185558'}\n",
      "set()\n",
      "{'PIAIC174016'}\n",
      "set()\n",
      "{'PIAIC133985'}\n",
      "{'PIAIC174229'}\n",
      "set()\n",
      "{'PIAIC169405'}\n",
      "{'PIAIC186218'}\n",
      "{'PIAIC179144'}\n",
      "{'PIAIC185558'}\n",
      "{'PIAIC139458'}\n",
      "{'PIAIC68513'}\n",
      "set()\n",
      "{'PIAIC91925'}\n",
      "{'PIAIC172924'}\n",
      "{'PIAIC186180'}\n",
      "{'PIAIC185213'}\n",
      "{'PIAIC170982'}\n",
      "set()\n",
      "{'PIAIC95846'}\n",
      "{'PIAIC116498'}\n",
      "{'PIAIC189416'}\n",
      "{'PIAIC189261'}\n",
      "{'PIAIC172631'}\n",
      "set()\n",
      "{'PIAIC150034'}\n",
      "set()\n",
      "set()\n",
      "{'PIAIC176190'}\n",
      "set()\n",
      "set()\n",
      "{'PIAIC154999'}\n",
      "{'PIAIC78589'}\n",
      "set()\n",
      "{'PIAIC184749'}\n",
      "{'PIAIC188720'}\n",
      "set()\n",
      "{'PIAIC185394'}\n",
      "{'PIAIC152592'}\n",
      "{'PIAIC175869'}\n",
      "{'PIAIC187742'}\n",
      "set()\n",
      "{'PIAIC134239'}\n",
      "set()\n",
      "set()\n",
      "{'PIAIC185558'}\n",
      "set()\n",
      "set()\n",
      "set()\n",
      "set()\n",
      "set()\n",
      "{'PIAIC174047'}\n",
      "set()\n",
      "set()\n",
      "set()\n",
      "{'PIAIC185558'}\n",
      "{'PIAIC185558'}\n",
      "set()\n",
      "{'PIAIC155482'}\n",
      "{'PIAIC178248'}\n",
      "{'PIAIC101207'}\n",
      "{'PIAIC66597'}\n",
      "{'PIAIC52499'}\n",
      "{'PIAIC74287'}\n",
      "set()\n",
      "{'PIAIC185558'}\n",
      "set()\n",
      "set()\n",
      "{'PIAIC175331'}\n",
      "set()\n",
      "set()\n",
      "set()\n",
      "{'PIAIC181219', 'PIAIC1812119'}\n",
      "set()\n",
      "set()\n",
      "set()\n",
      "set()\n",
      "{'PIAIC187614'}\n",
      "set()\n",
      "{'PIAIC67260'}\n",
      "set()\n",
      "{'PIAIC131496'}\n",
      "set()\n",
      "{'PIAIC185558'}\n",
      "{'PIAIC185558'}\n",
      "{'PIAIC174876'}\n",
      "{'PIAIC93205'}\n",
      "set()\n",
      "set()\n",
      "set()\n",
      "{'PIAIC113830'}\n",
      "{'PIAIC185558'}\n",
      "{'PIAIC183887'}\n",
      "{'PIAIC164763'}\n",
      "{'PIAIC184298'}\n",
      "set()\n",
      "{'PIAIC164763'}\n",
      "set()\n",
      "set()\n",
      "set()\n",
      "set()\n",
      "set()\n",
      "set()\n",
      "{'PIAIC99685'}\n",
      "{'PIAIC185558'}\n",
      "set()\n",
      "{'PIAIC185558'}\n",
      "{'PIAIC170982'}\n",
      "{'PIAIC133985'}\n",
      "{'PIAIC189416'}\n",
      "{'PIAIC96879'}\n",
      "{'PIAIC170982'}\n",
      "{'PIAIC96309'}\n",
      "{'PIAIC180996'}\n",
      "set()\n",
      "set()\n",
      "set()\n",
      "{'PIAIC173652'}\n",
      "set()\n",
      "set()\n",
      "set()\n",
      "set()\n",
      "{'PIAIC183270'}\n",
      "{'PIAIC183270'}\n",
      "set()\n",
      "set()\n",
      "set()\n",
      "set()\n",
      "{'PIAIC171658'}\n",
      "set()\n",
      "set()\n",
      "set()\n",
      "{'PIAIC149101'}\n",
      "{'PIAIC143001'}\n",
      "{'PIAIC143001'}\n",
      "set()\n",
      "{'PIAIC149101'}\n",
      "{'PIAIC181638'}\n",
      "{'PIAIC174751'}\n",
      "{'PIAIC174751'}\n",
      "set()\n",
      "set()\n",
      "set()\n",
      "{'PIAIC159833'}\n",
      "{'PIAIC185558'}\n",
      "set()\n",
      "set()\n",
      "set()\n",
      "{'PIAIC164489'}\n",
      "set()\n",
      "set()\n",
      "set()\n",
      "{'PIAIC113830'}\n",
      "set()\n",
      "set()\n",
      "set()\n",
      "{'PIAIC185558'}\n",
      "{'PIAIC172147'}\n",
      "{'PIAIC172147'}\n",
      "set()\n",
      "set()\n",
      "{'PIAIC172527'}\n",
      "{'PIAIC185213'}\n",
      "{'PIAIC128409'}\n",
      "set()\n",
      "set()\n",
      "{'PIAIC178547'}\n",
      "set()\n",
      "{'PIAIC168703'}\n",
      "set()\n",
      "set()\n",
      "set()\n",
      "set()\n",
      "set()\n",
      "set()\n",
      "set()\n",
      "set()\n",
      "{'PIAIC172941'}\n",
      "{'PIAIC113830'}\n",
      "set()\n",
      "{'PIAIC149101'}\n",
      "{'PIAIC149101'}\n",
      "{'PIAIC149101'}\n",
      "{'PIAIC149101'}\n",
      "{'PIAIC183270'}\n",
      "set()\n",
      "{'PIAIC168751'}\n",
      "{'PIAIC175331'}\n",
      "{'PIAIC168751'}\n",
      "{'PIAIC178547'}\n",
      "{'PIAIC179144'}\n",
      "{'PIAIC183270'}\n",
      "{'PIAIC176945'}\n",
      "{'PIAIC133488'}\n",
      "{'PIAIC129260'}\n",
      "{'PIAIC189261'}\n",
      "{'PIAIC168703'}\n",
      "{'PIAIC177637'}\n",
      "{'PIAIC133452'}\n",
      "{'PIAIC95349'}\n",
      "{'PIAIC188523'}\n",
      "{'PIAIC55300'}\n",
      "set()\n",
      "{'PIAIC173761'}\n",
      "{'PIAIC131496'}\n",
      "{'PIAIC172541'}\n",
      "{'PIAIC173652'}\n",
      "{'PIAIC55486'}\n",
      "{'PIAIC74287'}\n",
      "{'PIAIC155482'}\n",
      "{'PIAIC116498'}\n",
      "{'PIAIC166678'}\n",
      "{'PIAIC164763'}\n",
      "{'PIAIC175139'}\n",
      "{'PIAIC172631'}\n",
      "{'PIAIC113830'}\n",
      "{'PIAIC163577'}\n",
      "{'PIAIC172941'}\n",
      "{'PIAIC184298'}\n",
      "{'PIAIC176439'}\n",
      "{'PIAIC96020'}\n",
      "{'PIAIC187644'}\n",
      "{'PIAIC131496'}\n",
      "{'PIAIC174229'}\n",
      "set()\n",
      "{'PIAIC185099'}\n",
      "{'PIAIC186218'}\n",
      "set()\n",
      "{'PIAIC185558'}\n",
      "{'PIAIC189558'}\n",
      "{'PIAIC173431'}\n",
      "{'PIAIC166678'}\n",
      "{'PIAIC185754'}\n",
      "{'PIAIC183270'}\n",
      "{'PIAIC178950'}\n",
      "{'PIAIC175167'}\n",
      "{'PIAIC171375'}\n",
      "{'PIAIC173795'}\n",
      "{'PIAIC89531'}\n",
      "{'PIAIC170982'}\n",
      "{'PIAIC172641'}\n",
      "{'PIAIC172941'}\n",
      "{'PIAIC179203'}\n",
      "{'PIAIC187258'}\n",
      "{'PIAIC149101'}\n",
      "{'PIAIC163577'}\n",
      "{'PIAIC128409'}\n",
      "{'PIAIC177535'}\n",
      "{'PIAIC95846'}\n",
      "{'PIAIC173701'}\n",
      "{'PIAIC150585'}\n",
      "{'PIAIC184298'}\n",
      "{'PIAIC66597'}\n",
      "{'PIAIC52499'}\n",
      "{'PIAIC152592'}\n",
      "{'PIAIC68513'}\n",
      "{'PIAIC187118'}\n",
      "{'PIAIC172822'}\n",
      "{'PIAIC172527'}\n",
      "{'PIAIC184749'}\n",
      "{'PIAIC175139'}\n",
      "{'PIAIC181221'}\n",
      "{'PIAIC60925'}\n",
      "{'PIAIC159833'}\n",
      "{'PIAIC133802'}\n",
      "set()\n",
      "{'PIAIC173701'}\n",
      "{'PIAIC171658'}\n",
      "{'PIAIC130669'}\n",
      "{'PIAIC188720'}\n",
      "{'PIAIC176719'}\n",
      "{'PIAIC174751'}\n",
      "{'PIAIC174416'}\n",
      "{'PIAIC182978'}\n",
      "set()\n",
      "set()\n",
      "{'PIAIC131885'}\n",
      "{'PIAIC185099'}\n",
      "{'PIAIC172332'}\n",
      "set()\n",
      "{'PIAIC187831'}\n",
      "{'PIAIC178751'}\n",
      "{'PIAIC169405'}\n",
      "{'PIAIC125164'}\n",
      "{'PIAIC180280'}\n",
      "{'PIAIC188433'}\n",
      "{'PIAIC176697'}\n",
      "{'PIAIC183682'}\n",
      "{'PIAIC57947'}\n",
      "{'PIAIC181221'}\n",
      "{'PIAIC159833'}\n",
      "{'PIAIC187382'}\n",
      "set()\n",
      "{'PIAIC168751'}\n",
      "{'PIAIC178354'}\n",
      "{'PIAIC169327'}\n",
      "{'PIAIC175331'}\n",
      "{'PIAIC171658'}\n",
      "{'PIAIC178751'}\n",
      "{'PIAIC172328'}\n",
      "{'PIAIC179345'}\n",
      "{'PIAIC131885'}\n",
      "{'PIAIC96879'}\n",
      "{'PIAIC176190'}\n",
      "{'PIAIC142650'}\n",
      "{'PIAIC171445'}\n",
      "{'PIAIC59115'}\n",
      "{'PIAIC185122'}\n",
      "{'PIAIC62922'}\n",
      "{'PIAIC182905'}\n",
      "{'PIAIC188401'}\n",
      "{'PIAIC167854'}\n",
      "{'PIAIC169327'}\n",
      "{'PIAIC175636'}\n",
      "{'PIAIC143001'}\n",
      "{'PIAIC132619'}\n",
      "{'PIAIC168636'}\n",
      "{'PIAIC450190'}\n",
      "{'PIAIC172328'}\n",
      "{'PIAIC172527'}\n",
      "{'PIAIC62922'}\n",
      "{'PIAIC67260'}\n",
      "{'PIAIC167854'}\n",
      "{'PIAIC57947'}\n",
      "set()\n",
      "{'PIAIC173579'}\n",
      "{'PIAIC143001'}\n",
      "{'PIAIC182763'}\n",
      "{'PIAIC188433'}\n",
      "{'PIAIC91698'}\n",
      "{'PIAIC96879'}\n",
      "{'PIAIC183349'}\n",
      "{'PIAIC174016'}\n",
      "{'PIAIC173795'}\n",
      "{'PIAIC157450'}\n",
      "{'PIAIC185213'}\n",
      "{'PIAIC180057'}\n",
      "{'PIAIC154999'}\n",
      "{'PIAIC0005250'}\n",
      "set()\n",
      "{'PIAIC143001'}\n",
      "{'PIAIC107890'}\n",
      "{'PIAIC180111'}\n",
      "set()\n",
      "{'PIAIC182239'}\n",
      "{'PIAIC107890'}\n",
      "{'PIAIC139458'}\n",
      "{'PIAIC133985'}\n",
      "{'PIAIC171408'}\n",
      "{'PIAIC179727'}\n",
      "{'PIAIC182239'}\n",
      "{'PIAIC91698'}\n",
      "{'PIAIC74182'}\n",
      "{'PIAIC175646'}\n",
      "{'PIAIC177802'}\n",
      "{'PIAIC171375'}\n"
     ]
    }
   ],
   "source": [
    "import re\n",
    "with open(\"./meeting_saved_chat.txt\") as f:\n",
    "    lines = f.readlines()\n",
    "    \n",
    "for row in lines:\n",
    "    roll = set(re.findall(r\"\\bPIAIC[0-9]{5,7}\\b\",row))\n",
    "    print(roll)\n",
    "    "
   ]
  },
  {
   "cell_type": "code",
   "execution_count": null,
   "metadata": {},
   "outputs": [],
   "source": []
  }
 ],
 "metadata": {
  "kernelspec": {
   "display_name": "Python 3",
   "language": "python",
   "name": "python3"
  },
  "language_info": {
   "codemirror_mode": {
    "name": "ipython",
    "version": 3
   },
   "file_extension": ".py",
   "mimetype": "text/x-python",
   "name": "python",
   "nbconvert_exporter": "python",
   "pygments_lexer": "ipython3",
   "version": "3.7.6"
  }
 },
 "nbformat": 4,
 "nbformat_minor": 4
}
