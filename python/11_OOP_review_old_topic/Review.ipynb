{
 "cells": [
  {
   "cell_type": "code",
   "execution_count": 1,
   "metadata": {},
   "outputs": [
    {
     "name": "stdout",
     "output_type": "stream",
     "text": [
      "8\n",
      "7\n"
     ]
    }
   ],
   "source": [
    "a = 7 #global variable\n",
    "\n",
    "def abc():\n",
    "    a = 8 # local variable\n",
    "    return a\n",
    "\n",
    "print(abc())# call function and return local variable value\n",
    "print(a)"
   ]
  },
  {
   "cell_type": "code",
   "execution_count": 5,
   "metadata": {},
   "outputs": [
    {
     "name": "stdout",
     "output_type": "stream",
     "text": [
      "(8, 20)\n",
      "8 1\n"
     ]
    }
   ],
   "source": [
    "a = 7 #global variable\n",
    "b = 1\n",
    "\n",
    "def abc():\n",
    "    global a # update gobal variable using global keyword \n",
    "    a = 8 \n",
    "    b = 20\n",
    "    return a, b\n",
    "\n",
    "print(abc())# call function and return local variable value\n",
    "print(a,b)"
   ]
  },
  {
   "cell_type": "code",
   "execution_count": 15,
   "metadata": {},
   "outputs": [
    {
     "name": "stdout",
     "output_type": "stream",
     "text": [
      "(8, 20, 'Pakistan')\n",
      "7 1 Pakistan\n"
     ]
    }
   ],
   "source": [
    "a = 7 #global variable\n",
    "b = 1 # global variable\n",
    "\n",
    "\n",
    "def abc():\n",
    "    a = 8\n",
    "    b = 20\n",
    "    global c\n",
    "    c = \"Pakistan\"\n",
    "    return a, b , c\n",
    "\n",
    "print(abc())# call function and return local variable value\n",
    "print(a,b,c)"
   ]
  },
  {
   "cell_type": "code",
   "execution_count": 9,
   "metadata": {},
   "outputs": [
    {
     "name": "stdout",
     "output_type": "stream",
     "text": [
      "8\n",
      "7\n"
     ]
    }
   ],
   "source": [
    "a = 7 #global variable\n",
    "\n",
    "\n",
    "def abc():    \n",
    "    a = 8\n",
    "    \n",
    "    return a\n",
    "\n",
    "def xyz():\n",
    "    return a\n",
    "\n",
    "print(abc())# call function and return local variable value\n",
    "print(xyz())"
   ]
  },
  {
   "cell_type": "code",
   "execution_count": 11,
   "metadata": {},
   "outputs": [
    {
     "ename": "SyntaxError",
     "evalue": "name 'a' is assigned to before global declaration (<ipython-input-11-ab5bd697d2ee>, line 9)",
     "output_type": "error",
     "traceback": [
      "\u001b[0;36m  File \u001b[0;32m\"<ipython-input-11-ab5bd697d2ee>\"\u001b[0;36m, line \u001b[0;32m9\u001b[0m\n\u001b[0;31m    def xyz():\u001b[0m\n\u001b[0m              \n^\u001b[0m\n\u001b[0;31mSyntaxError\u001b[0m\u001b[0;31m:\u001b[0m name 'a' is assigned to before global declaration\n"
     ]
    }
   ],
   "source": [
    "a = 7 #global variable\n",
    "\n",
    "\n",
    "def abc():    \n",
    "    a = 8\n",
    "    global a\n",
    "    return a\n",
    "\n",
    "def xyz():\n",
    "    return a\n",
    "\n",
    "print(abc())# call function and return local variable value\n",
    "print(xyz())"
   ]
  },
  {
   "cell_type": "code",
   "execution_count": 14,
   "metadata": {},
   "outputs": [
    {
     "name": "stdout",
     "output_type": "stream",
     "text": [
      "8\n",
      "8\n"
     ]
    }
   ],
   "source": [
    "a = 7 #global variable\n",
    "\n",
    "\n",
    "def abc():    \n",
    "    global a\n",
    "    a = 8    \n",
    "    return a\n",
    "\n",
    "def xyz():\n",
    "    return a\n",
    "\n",
    "print(abc())# call function and return local variable value\n",
    "print(xyz())"
   ]
  },
  {
   "cell_type": "code",
   "execution_count": 10,
   "metadata": {},
   "outputs": [
    {
     "name": "stdout",
     "output_type": "stream",
     "text": [
      "8\n",
      "8\n"
     ]
    }
   ],
   "source": [
    "a = 7 #global variable\n",
    "\n",
    "\n",
    "def abc():\n",
    "    global a\n",
    "    a = 8\n",
    "    return a\n",
    "\n",
    "def xyz():\n",
    "    return a\n",
    "\n",
    "print(abc())# call function and return local variable value\n",
    "print(xyz())"
   ]
  },
  {
   "cell_type": "code",
   "execution_count": 8,
   "metadata": {},
   "outputs": [
    {
     "name": "stdout",
     "output_type": "stream",
     "text": [
      "XYZ\n",
      "XYZ\n"
     ]
    }
   ],
   "source": [
    "a = 7 #global variable\n",
    "b = 1 # global variable/ we can also access in any position\n",
    "z = \"XYZ\"\n",
    "\n",
    "def abc():    \n",
    "    return z\n",
    "\n",
    "print(abc())# call function and return local variable value\n",
    "print(z)"
   ]
  },
  {
   "cell_type": "code",
   "execution_count": null,
   "metadata": {},
   "outputs": [],
   "source": [
    "x = \"\"\"\n",
    "pakistan\n",
    "zinda\n",
    "bad\n",
    "\"\"\"\n",
    "\n",
    "def xyz(x):\n",
    "    x = str(x)\n",
    "    "
   ]
  },
  {
   "cell_type": "code",
   "execution_count": 16,
   "metadata": {},
   "outputs": [
    {
     "data": {
      "text/plain": [
       "True"
      ]
     },
     "execution_count": 16,
     "metadata": {},
     "output_type": "execute_result"
    }
   ],
   "source": [
    "a = 5\n",
    "b = 5\n",
    "\n",
    "a == b # compair values"
   ]
  },
  {
   "cell_type": "code",
   "execution_count": 25,
   "metadata": {},
   "outputs": [
    {
     "data": {
      "text/plain": [
       "True"
      ]
     },
     "execution_count": 25,
     "metadata": {},
     "output_type": "execute_result"
    }
   ],
   "source": [
    "a = 5\n",
    "b = 5\n",
    "\n",
    "a is b # compair values"
   ]
  },
  {
   "cell_type": "code",
   "execution_count": 17,
   "metadata": {},
   "outputs": [
    {
     "data": {
      "text/plain": [
       "True"
      ]
     },
     "execution_count": 17,
     "metadata": {},
     "output_type": "execute_result"
    }
   ],
   "source": [
    "a is b # compaire object"
   ]
  },
  {
   "cell_type": "code",
   "execution_count": 18,
   "metadata": {},
   "outputs": [
    {
     "name": "stdout",
     "output_type": "stream",
     "text": [
      "94053716665280\n",
      "94053716665280\n"
     ]
    }
   ],
   "source": [
    "xyz = 7\n",
    "abc = 7\n",
    "\n",
    "print(id(xyz)) # same object\n",
    "print(id(abc)) # same object"
   ]
  },
  {
   "cell_type": "code",
   "execution_count": 22,
   "metadata": {},
   "outputs": [
    {
     "name": "stdout",
     "output_type": "stream",
     "text": [
      "94053716665280\n",
      "94053716665216\n"
     ]
    }
   ],
   "source": [
    "xyz = 7\n",
    "abc = 5\n",
    "\n",
    "print(id(xyz)) # same object\n",
    "print(id(abc)) # same object"
   ]
  },
  {
   "cell_type": "code",
   "execution_count": 23,
   "metadata": {},
   "outputs": [
    {
     "data": {
      "text/plain": [
       "False"
      ]
     },
     "execution_count": 23,
     "metadata": {},
     "output_type": "execute_result"
    }
   ],
   "source": [
    "xyz is abc"
   ]
  },
  {
   "cell_type": "code",
   "execution_count": 24,
   "metadata": {},
   "outputs": [
    {
     "data": {
      "text/plain": [
       "False"
      ]
     },
     "execution_count": 24,
     "metadata": {},
     "output_type": "execute_result"
    }
   ],
   "source": [
    "a = \"1\"\n",
    "b = 1\n",
    "\n",
    "a == b"
   ]
  },
  {
   "cell_type": "markdown",
   "metadata": {},
   "source": [
    "# Nested condition"
   ]
  },
  {
   "cell_type": "code",
   "execution_count": 33,
   "metadata": {},
   "outputs": [
    {
     "name": "stdout",
     "output_type": "stream",
     "text": [
      "attempt 1st and last quiz\n"
     ]
    }
   ],
   "source": [
    "course = \"AI\"\n",
    "\n",
    "q1t1 = \"ai for everyone\"\n",
    "q1t2 = \"python1 test\"\n",
    "q1t3 = \"python2 test\"\n",
    "\n",
    "if course==\"AI\":\n",
    "    if q1t1 == \"ai for everyone\" and q1t3 == \"python2 test\":\n",
    "        print(\"attempt 1st and last quiz\")\n",
    "    elif q1t2 == \"python1 test1\":\n",
    "        print(\"attempt 1st and 2nd quiz\")\n",
    "    elif q1t1 =='Pakistan':\n",
    "        print(\"Pakistan zinda bad\")\n",
    "    else:\n",
    "        print(\"not attempt any quiz\")\n",
    "else:\n",
    "    print(\"He/she is not AI student\")\n",
    "    "
   ]
  },
  {
   "cell_type": "code",
   "execution_count": 36,
   "metadata": {},
   "outputs": [
    {
     "name": "stdout",
     "output_type": "stream",
     "text": [
      "15\n"
     ]
    }
   ],
   "source": [
    "x = '''\n",
    "a = 7\n",
    "b = 8\n",
    "print(a+b)\n",
    "'''\n",
    "\n",
    "result = compile(x,\"aaa\",'exec')\n",
    "exec(result)"
   ]
  },
  {
   "cell_type": "code",
   "execution_count": 37,
   "metadata": {},
   "outputs": [
    {
     "name": "stdout",
     "output_type": "stream",
     "text": [
      "15\n"
     ]
    }
   ],
   "source": [
    "exec(result)"
   ]
  },
  {
   "cell_type": "code",
   "execution_count": 41,
   "metadata": {},
   "outputs": [
    {
     "name": "stdout",
     "output_type": "stream",
     "text": [
      "[1, 2, 3, 4, 5, 5, 5]\n",
      "[1, 2, 3, 4, 5, 5]\n"
     ]
    }
   ],
   "source": [
    "numbers = [1,2,3,4,5,5,5]\n",
    "print(numbers)\n",
    "del numbers[-2]\n",
    "print(numbers)"
   ]
  },
  {
   "cell_type": "code",
   "execution_count": 44,
   "metadata": {},
   "outputs": [
    {
     "data": {
      "text/plain": [
       "[1, 2, 3, 4, 5]"
      ]
     },
     "execution_count": 44,
     "metadata": {},
     "output_type": "execute_result"
    }
   ],
   "source": [
    "numbers = [1,2,3,4,5,5,5]\n",
    "list(set(numbers))"
   ]
  },
  {
   "cell_type": "code",
   "execution_count": 45,
   "metadata": {},
   "outputs": [
    {
     "data": {
      "text/plain": [
       "['BlueRay  Zzz',\n",
       " 'BlueRay  Burp',\n",
       " 'BlueRay  Dogbone',\n",
       " 'BlueRay  Droop',\n",
       " 'Upchuck  Zzz',\n",
       " 'Upchuck  Burp',\n",
       " 'Upchuck  Dogbone',\n",
       " 'Upchuck  Droop',\n",
       " 'Lojack  Zzz',\n",
       " 'Lojack  Burp',\n",
       " 'Lojack  Dogbone',\n",
       " 'Lojack  Droop',\n",
       " 'Gizmo  Zzz',\n",
       " 'Gizmo  Burp',\n",
       " 'Gizmo  Dogbone',\n",
       " 'Gizmo  Droop',\n",
       " 'Do-Rag  Zzz',\n",
       " 'Do-Rag  Burp',\n",
       " 'Do-Rag  Dogbone',\n",
       " 'Do-Rag  Droop']"
      ]
     },
     "execution_count": 45,
     "metadata": {},
     "output_type": "execute_result"
    }
   ],
   "source": [
    "first_names = [\"BlueRay \", \"Upchuck \", \"Lojack \",\"Gizmo \", \"Do-Rag \"]\n",
    "last_names = [\"Zzz\", \"Burp\", \"Dogbone\", \"Droop\"]\n",
    "full_names = []\n",
    "for a_first_name in first_names:\n",
    "    for a_last_name in last_names:\n",
    "        full_names.append(a_first_name + \" \" +a_last_name)\n",
    "        \n",
    "full_names        "
   ]
  },
  {
   "cell_type": "code",
   "execution_count": 46,
   "metadata": {},
   "outputs": [
    {
     "data": {
      "text/plain": [
       "['Qasim Ai for everyone',\n",
       " 'Qasim python test1',\n",
       " 'Qasim python test2',\n",
       " 'Asif Ai for everyone',\n",
       " 'Asif python test1',\n",
       " 'Asif python test2',\n",
       " 'Hamza Ai for everyone',\n",
       " 'Hamza python test1',\n",
       " 'Hamza python test2']"
      ]
     },
     "execution_count": 46,
     "metadata": {},
     "output_type": "execute_result"
    }
   ],
   "source": [
    "names = [\"Qasim\",\"Asif\",\"Hamza\"]\n",
    "tests = ['Ai for everyone',\"python test1\",\"python test2\"]\n",
    "\n",
    "result = []\n",
    "for name in names:\n",
    "    for test in tests:\n",
    "        result.append(name+\" \"+test)\n",
    "        \n",
    "result\n",
    "        "
   ]
  },
  {
   "cell_type": "code",
   "execution_count": 48,
   "metadata": {},
   "outputs": [
    {
     "data": {
      "text/plain": [
       "{'id': 1,\n",
       " 'name': 'Muhammad Qasim',\n",
       " 'fname': 'Muhammad Aslam',\n",
       " 'education': 'MSDS',\n",
       " 'age': 30}"
      ]
     },
     "execution_count": 48,
     "metadata": {},
     "output_type": "execute_result"
    }
   ],
   "source": [
    "d = {\"id\":1,\n",
    "    \"name\":\"Muhammad Qasim\",\n",
    "    \"fname\":\"Muhammad Aslam\",\n",
    "    \"education\":\"MSDS\",\n",
    "    'age':30}\n",
    "\n",
    "d"
   ]
  },
  {
   "cell_type": "code",
   "execution_count": 50,
   "metadata": {},
   "outputs": [
    {
     "name": "stdout",
     "output_type": "stream",
     "text": [
      "id\n",
      "name\n",
      "fname\n",
      "education\n",
      "age\n"
     ]
    }
   ],
   "source": [
    "for abc in d: # return keys\n",
    "    print(abc)"
   ]
  },
  {
   "cell_type": "code",
   "execution_count": 57,
   "metadata": {},
   "outputs": [
    {
     "data": {
      "text/plain": [
       "dict_keys(['id', 'name', 'fname', 'education', 'age'])"
      ]
     },
     "execution_count": 57,
     "metadata": {},
     "output_type": "execute_result"
    }
   ],
   "source": [
    "d.keys()"
   ]
  },
  {
   "cell_type": "code",
   "execution_count": 58,
   "metadata": {},
   "outputs": [
    {
     "data": {
      "text/plain": [
       "dict_values([1, 'Muhammad Qasim', 'Muhammad Aslam', 'MSDS', 30])"
      ]
     },
     "execution_count": 58,
     "metadata": {},
     "output_type": "execute_result"
    }
   ],
   "source": [
    "d.values()"
   ]
  },
  {
   "cell_type": "code",
   "execution_count": 59,
   "metadata": {},
   "outputs": [
    {
     "data": {
      "text/plain": [
       "dict_items([('id', 1), ('name', 'Muhammad Qasim'), ('fname', 'Muhammad Aslam'), ('education', 'MSDS'), ('age', 30)])"
      ]
     },
     "execution_count": 59,
     "metadata": {},
     "output_type": "execute_result"
    }
   ],
   "source": [
    "d.items()"
   ]
  },
  {
   "cell_type": "code",
   "execution_count": 56,
   "metadata": {},
   "outputs": [
    {
     "name": "stdout",
     "output_type": "stream",
     "text": [
      "id\n",
      "name\n",
      "fname\n",
      "education\n",
      "age\n"
     ]
    }
   ],
   "source": [
    "for abc in d.keys(): # return keys\n",
    "    print(abc)"
   ]
  },
  {
   "cell_type": "code",
   "execution_count": 52,
   "metadata": {},
   "outputs": [
    {
     "name": "stdout",
     "output_type": "stream",
     "text": [
      "1\n",
      "Muhammad Qasim\n",
      "Muhammad Aslam\n",
      "MSDS\n",
      "30\n"
     ]
    }
   ],
   "source": [
    "for abc in d.values(): # return keys\n",
    "    print(abc)"
   ]
  },
  {
   "cell_type": "code",
   "execution_count": 53,
   "metadata": {},
   "outputs": [
    {
     "name": "stdout",
     "output_type": "stream",
     "text": [
      "('id', 1)\n",
      "('name', 'Muhammad Qasim')\n",
      "('fname', 'Muhammad Aslam')\n",
      "('education', 'MSDS')\n",
      "('age', 30)\n"
     ]
    }
   ],
   "source": [
    "for abc in d.items(): # return keys\n",
    "    print(abc)"
   ]
  },
  {
   "cell_type": "code",
   "execution_count": 55,
   "metadata": {},
   "outputs": [
    {
     "name": "stdout",
     "output_type": "stream",
     "text": [
      "id\n",
      "1\n"
     ]
    }
   ],
   "source": [
    "k,v = ('id', 1)\n",
    "print(k)\n",
    "print(v)"
   ]
  },
  {
   "cell_type": "code",
   "execution_count": 54,
   "metadata": {},
   "outputs": [
    {
     "name": "stdout",
     "output_type": "stream",
     "text": [
      "id 1\n",
      "name Muhammad Qasim\n",
      "fname Muhammad Aslam\n",
      "education MSDS\n",
      "age 30\n"
     ]
    }
   ],
   "source": [
    "for k,v in d.items(): # return keys\n",
    "    print(k,v)"
   ]
  },
  {
   "cell_type": "markdown",
   "metadata": {},
   "source": [
    "# list of dictionary"
   ]
  },
  {
   "cell_type": "code",
   "execution_count": 60,
   "metadata": {},
   "outputs": [],
   "source": [
    "students = [\n",
    "    {\"id\":1,\n",
    "    \"name\":\"Qasim\"},\n",
    "    \n",
    "    {\"id\":2,\n",
    "    \"name\":\"Asif\"},\n",
    "    \n",
    "    {\"id\":3,\n",
    "    \"name\":\"Ali\"}\n",
    "]"
   ]
  },
  {
   "cell_type": "code",
   "execution_count": 61,
   "metadata": {},
   "outputs": [
    {
     "data": {
      "text/plain": [
       "{'id': 1, 'name': 'Qasim'}"
      ]
     },
     "execution_count": 61,
     "metadata": {},
     "output_type": "execute_result"
    }
   ],
   "source": [
    "students[0]"
   ]
  },
  {
   "cell_type": "code",
   "execution_count": 62,
   "metadata": {},
   "outputs": [
    {
     "data": {
      "text/plain": [
       "'Qasim'"
      ]
     },
     "execution_count": 62,
     "metadata": {},
     "output_type": "execute_result"
    }
   ],
   "source": [
    "students[0][\"name\"]"
   ]
  },
  {
   "cell_type": "code",
   "execution_count": 64,
   "metadata": {},
   "outputs": [
    {
     "data": {
      "text/plain": [
       "[{'id': 1, 'name': 'Qasim'},\n",
       " {'id': 2, 'name': 'Asif'},\n",
       " {'id': 3, 'name': 'Ali'},\n",
       " {'id': 4, 'name': 'Konain'}]"
      ]
     },
     "execution_count": 64,
     "metadata": {},
     "output_type": "execute_result"
    }
   ],
   "source": [
    "new_st = {\"id\":4,\n",
    "          \"name\":\"Konain\"\n",
    "         }\n",
    "\n",
    "students.append(new_st)\n",
    "\n",
    "students"
   ]
  },
  {
   "cell_type": "code",
   "execution_count": 65,
   "metadata": {},
   "outputs": [
    {
     "data": {
      "text/plain": [
       "[{'id': 1, 'name': 'Qasim', 'skills': ['python', 'tensorflow', 'aws cli']},\n",
       " {'id': 2, 'name': 'Asif'},\n",
       " {'id': 3, 'name': 'Ali'},\n",
       " {'id': 4, 'name': 'Konain'}]"
      ]
     },
     "execution_count": 65,
     "metadata": {},
     "output_type": "execute_result"
    }
   ],
   "source": [
    "students[0]['skills'] = [\"python\",'tensorflow','aws cli']\n",
    "students"
   ]
  },
  {
   "cell_type": "code",
   "execution_count": 66,
   "metadata": {},
   "outputs": [
    {
     "data": {
      "text/plain": [
       "['python', 'tensorflow', 'aws cli']"
      ]
     },
     "execution_count": 66,
     "metadata": {},
     "output_type": "execute_result"
    }
   ],
   "source": [
    "students[0]['skills']"
   ]
  },
  {
   "cell_type": "code",
   "execution_count": 67,
   "metadata": {},
   "outputs": [
    {
     "data": {
      "text/plain": [
       "'tensorflow'"
      ]
     },
     "execution_count": 67,
     "metadata": {},
     "output_type": "execute_result"
    }
   ],
   "source": [
    "students[0]['skills'][1]"
   ]
  },
  {
   "cell_type": "code",
   "execution_count": 70,
   "metadata": {},
   "outputs": [
    {
     "data": {
      "text/plain": [
       "{'VTI': '7 years', 'MITI': '5 years'}"
      ]
     },
     "execution_count": 70,
     "metadata": {},
     "output_type": "execute_result"
    }
   ],
   "source": [
    "qasim = {\n",
    "    \"name\":\"Muhammad Qasim\",\n",
    "    \"fname\":\"Muhammad Aslam\",\n",
    "    \"skills\":[\"python\",\"AI\"],\n",
    "    \n",
    "    \"job experience\":{\"VTI\":\"7 years\",\n",
    "                     \"MITI\":\"5 years\"}\n",
    "}\n",
    "    \n",
    "qasim['job experience']    "
   ]
  },
  {
   "cell_type": "code",
   "execution_count": 71,
   "metadata": {},
   "outputs": [
    {
     "data": {
      "text/plain": [
       "'5 years'"
      ]
     },
     "execution_count": 71,
     "metadata": {},
     "output_type": "execute_result"
    }
   ],
   "source": [
    "qasim['job experience']['MITI']"
   ]
  },
  {
   "cell_type": "markdown",
   "metadata": {},
   "source": [
    "Paradiam \n",
    "1. linear programming\n",
    "2. structure/procedural/control_block/sub_routing\n",
    "3. Object oriented programming"
   ]
  },
  {
   "cell_type": "code",
   "execution_count": 73,
   "metadata": {},
   "outputs": [
    {
     "name": "stdout",
     "output_type": "stream",
     "text": [
      "pakistan zinda bad!\n",
      "pakistan zinda bad!\n",
      "pakistan zinda bad!\n",
      "pakistan zinda bad!\n",
      "pakistan zinda bad!\n",
      "pakistan zinda bad!\n",
      "pakistan zinda bad!\n",
      "pakistan zinda bad!\n",
      "pakistan zinda bad!\n",
      "pakistan zinda bad!\n"
     ]
    }
   ],
   "source": [
    "print(\"pakistan zinda bad!\")\n",
    "print(\"pakistan zinda bad!\")\n",
    "print(\"pakistan zinda bad!\")\n",
    "print(\"pakistan zinda bad!\")\n",
    "print(\"pakistan zinda bad!\")\n",
    "print(\"pakistan zinda bad!\")\n",
    "print(\"pakistan zinda bad!\")\n",
    "print(\"pakistan zinda bad!\")\n",
    "print(\"pakistan zinda bad!\")\n",
    "print(\"pakistan zinda bad!\")"
   ]
  },
  {
   "cell_type": "code",
   "execution_count": 74,
   "metadata": {},
   "outputs": [
    {
     "name": "stdout",
     "output_type": "stream",
     "text": [
      "pakistan zinda bad\n",
      "pakistan zinda bad\n",
      "pakistan zinda bad\n",
      "pakistan zinda bad\n",
      "pakistan zinda bad\n",
      "pakistan zinda bad\n",
      "pakistan zinda bad\n",
      "pakistan zinda bad\n",
      "pakistan zinda bad\n",
      "pakistan zinda bad\n"
     ]
    }
   ],
   "source": [
    "for i in range(10):\n",
    "    print(\"pakistan zinda bad\")"
   ]
  },
  {
   "cell_type": "code",
   "execution_count": 75,
   "metadata": {},
   "outputs": [],
   "source": [
    "def qasim_speak():\n",
    "    pass\n",
    "def qasim_listing():\n",
    "    pass\n",
    "def qasim_eating():\n",
    "    pass\n",
    "\n",
    "\n",
    "def ali_speak():\n",
    "    pass\n",
    "def ali_listing():\n",
    "    pass\n",
    "def ali_eating():\n",
    "    pass"
   ]
  },
  {
   "cell_type": "code",
   "execution_count": null,
   "metadata": {},
   "outputs": [],
   "source": []
  }
 ],
 "metadata": {
  "kernelspec": {
   "display_name": "Python 3",
   "language": "python",
   "name": "python3"
  },
  "language_info": {
   "codemirror_mode": {
    "name": "ipython",
    "version": 3
   },
   "file_extension": ".py",
   "mimetype": "text/x-python",
   "name": "python",
   "nbconvert_exporter": "python",
   "pygments_lexer": "ipython3",
   "version": "3.7.6"
  }
 },
 "nbformat": 4,
 "nbformat_minor": 4
}
