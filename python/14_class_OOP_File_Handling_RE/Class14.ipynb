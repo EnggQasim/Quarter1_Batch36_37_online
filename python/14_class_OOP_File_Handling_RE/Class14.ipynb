{
 "cells": [
  {
   "cell_type": "markdown",
   "metadata": {},
   "source": [
    "# Encapsulation\n",
    "* private\n",
    "    variables or methods we can access within a class or use through inheritance, it's never accessable out side of the class. if you want to access outside of the class then we have to create setter and getter functions(methods)<br>\n",
    "    if you want to make any attribute/method private `__` user double underscop before it name\n",
    "    * methods\n",
    "    * attributes"
   ]
  },
  {
   "cell_type": "code",
   "execution_count": 1,
   "metadata": {},
   "outputs": [],
   "source": [
    "class Facecbook():\n",
    "    def __init__(self,user):\n",
    "        self.user = user # public\n",
    "        self.__password = '123' # private\n",
    "        self.__email = None # private\n",
    "    \n",
    "\n",
    "u1 = Facecbook(\"Qasim\")\n",
    "u2 = Facecbook(\"Asif\")"
   ]
  },
  {
   "cell_type": "code",
   "execution_count": 4,
   "metadata": {},
   "outputs": [
    {
     "data": {
      "text/plain": [
       "False"
      ]
     },
     "execution_count": 4,
     "metadata": {},
     "output_type": "execute_result"
    }
   ],
   "source": [
    "\"__password\" == \"password\""
   ]
  },
  {
   "cell_type": "code",
   "execution_count": 2,
   "metadata": {},
   "outputs": [
    {
     "name": "stdout",
     "output_type": "stream",
     "text": [
      "Qasim\n"
     ]
    }
   ],
   "source": [
    "print(u1.user) # call public attribute"
   ]
  },
  {
   "cell_type": "code",
   "execution_count": 6,
   "metadata": {},
   "outputs": [
    {
     "name": "stdout",
     "output_type": "stream",
     "text": [
      "Muhammad Qasim\n"
     ]
    }
   ],
   "source": [
    "u1.user = \"Muhammad Qasim\"\n",
    "print(u1.user) # call public attribute"
   ]
  },
  {
   "cell_type": "code",
   "execution_count": 3,
   "metadata": {},
   "outputs": [
    {
     "ename": "AttributeError",
     "evalue": "'Facecbook' object has no attribute 'password'",
     "output_type": "error",
     "traceback": [
      "\u001b[0;31m----------------------------------------------------------------------\u001b[0m",
      "\u001b[0;31mAttributeError\u001b[0m                       Traceback (most recent call last)",
      "\u001b[0;32m<ipython-input-3-7c34711a6142>\u001b[0m in \u001b[0;36m<module>\u001b[0;34m\u001b[0m\n\u001b[0;32m----> 1\u001b[0;31m \u001b[0mprint\u001b[0m\u001b[0;34m(\u001b[0m\u001b[0mu1\u001b[0m\u001b[0;34m.\u001b[0m\u001b[0mpassword\u001b[0m\u001b[0;34m)\u001b[0m\u001b[0;34m\u001b[0m\u001b[0;34m\u001b[0m\u001b[0m\n\u001b[0m\u001b[1;32m      2\u001b[0m \u001b[0mprint\u001b[0m\u001b[0;34m(\u001b[0m\u001b[0mu1\u001b[0m\u001b[0;34m.\u001b[0m\u001b[0memail\u001b[0m\u001b[0;34m)\u001b[0m\u001b[0;34m\u001b[0m\u001b[0;34m\u001b[0m\u001b[0m\n",
      "\u001b[0;31mAttributeError\u001b[0m: 'Facecbook' object has no attribute 'password'"
     ]
    }
   ],
   "source": [
    "print(u1.password)# call private attribute\n",
    "print(u1.email)# call private attribute"
   ]
  },
  {
   "cell_type": "code",
   "execution_count": 5,
   "metadata": {},
   "outputs": [
    {
     "ename": "AttributeError",
     "evalue": "'Facecbook' object has no attribute '__password'",
     "output_type": "error",
     "traceback": [
      "\u001b[0;31m----------------------------------------------------------------------\u001b[0m",
      "\u001b[0;31mAttributeError\u001b[0m                       Traceback (most recent call last)",
      "\u001b[0;32m<ipython-input-5-15c174322b5f>\u001b[0m in \u001b[0;36m<module>\u001b[0;34m\u001b[0m\n\u001b[0;32m----> 1\u001b[0;31m \u001b[0mprint\u001b[0m\u001b[0;34m(\u001b[0m\u001b[0mu1\u001b[0m\u001b[0;34m.\u001b[0m\u001b[0m__password\u001b[0m\u001b[0;34m)\u001b[0m\u001b[0;31m# call private attribute\u001b[0m\u001b[0;34m\u001b[0m\u001b[0;34m\u001b[0m\u001b[0m\n\u001b[0m",
      "\u001b[0;31mAttributeError\u001b[0m: 'Facecbook' object has no attribute '__password'"
     ]
    }
   ],
   "source": [
    "print(u1.__password)# call private attribute"
   ]
  },
  {
   "cell_type": "code",
   "execution_count": 10,
   "metadata": {},
   "outputs": [
    {
     "data": {
      "text/plain": [
       "'123'"
      ]
     },
     "execution_count": 10,
     "metadata": {},
     "output_type": "execute_result"
    }
   ],
   "source": [
    "#object._ClassName__attribute\n",
    "u1._Facecbook__password # private class attribute access way"
   ]
  },
  {
   "cell_type": "markdown",
   "metadata": {},
   "source": [
    "# Getter and Setter Methods"
   ]
  },
  {
   "cell_type": "code",
   "execution_count": 14,
   "metadata": {},
   "outputs": [],
   "source": [
    "class Facecbook():\n",
    "    def __init__(self,user):\n",
    "        self.user = user # public\n",
    "        self.__password = '123' # private\n",
    "        self.__email = None # private\n",
    "        \n",
    "    # Setter method\n",
    "    def update(self,new_password, new_email):\n",
    "        self.__password = new_password\n",
    "        self.__email = new_email\n",
    "        \n",
    "    #Getter\n",
    "    def information_display(self):\n",
    "        return f\"\"\"\n",
    "Welcome Dear {self.user}\n",
    "Your Registred email address is: {self.__email}\n",
    "Your current password is: {self.__password}\n",
    "        \"\"\"\n",
    "        \n",
    "        \n",
    "    \n",
    "\n",
    "u1 = Facecbook(\"Qasim\")\n",
    "u2 = Facecbook(\"Asif\")"
   ]
  },
  {
   "cell_type": "code",
   "execution_count": 15,
   "metadata": {},
   "outputs": [
    {
     "name": "stdout",
     "output_type": "stream",
     "text": [
      "\n",
      "Welcome Dear Qasim\n",
      "Your Registred email address is: None\n",
      "Your current password is: 123\n",
      "        \n"
     ]
    }
   ],
   "source": [
    "print(u1.information_display())"
   ]
  },
  {
   "cell_type": "code",
   "execution_count": 16,
   "metadata": {},
   "outputs": [],
   "source": [
    "u1.update('abcABCxyzXyZ123!@#','m.qasim077@gmail.com')"
   ]
  },
  {
   "cell_type": "code",
   "execution_count": 17,
   "metadata": {},
   "outputs": [
    {
     "name": "stdout",
     "output_type": "stream",
     "text": [
      "\n",
      "Welcome Dear Qasim\n",
      "Your Registred email address is: m.qasim077@gmail.com\n",
      "Your current password is: abcABCxyzXyZ123!@#\n",
      "        \n"
     ]
    }
   ],
   "source": [
    "print(u1.information_display())"
   ]
  },
  {
   "cell_type": "code",
   "execution_count": 25,
   "metadata": {},
   "outputs": [],
   "source": [
    "class Facecbook():\n",
    "    def __init__(self,user):\n",
    "        self.user = user # public\n",
    "        self.__password = '123' # private\n",
    "        self.__email = None # private\n",
    "        \n",
    "    def __connectionDB(self):\n",
    "        return \"All connectivity sensitive information\"\n",
    "        \n",
    "    # Setter method\n",
    "    def update(self,new_password, new_email):\n",
    "        self.__password = new_password\n",
    "        self.__email = new_email\n",
    "        \n",
    "    #Getter\n",
    "    def information_display(self):\n",
    "        \n",
    "        return f\"\"\"\n",
    "Welcome Dear {self.user}\n",
    "Your Registred email address is: {self.__email}\n",
    "Your current password is: {self.__password}\n",
    "Hidden DB information: {self.__connectionDB()}\n",
    "        \"\"\"\n",
    "    \n",
    "    \n",
    "    \n",
    "u1 = Facecbook(\"Qasim\")\n",
    "u2 = Facecbook(\"Asif\")       "
   ]
  },
  {
   "cell_type": "code",
   "execution_count": 26,
   "metadata": {},
   "outputs": [
    {
     "ename": "AttributeError",
     "evalue": "'Facecbook' object has no attribute 'connectionDB'",
     "output_type": "error",
     "traceback": [
      "\u001b[0;31m----------------------------------------------------------------------\u001b[0m",
      "\u001b[0;31mAttributeError\u001b[0m                       Traceback (most recent call last)",
      "\u001b[0;32m<ipython-input-26-f6ec52f9b58d>\u001b[0m in \u001b[0;36m<module>\u001b[0;34m\u001b[0m\n\u001b[0;32m----> 1\u001b[0;31m \u001b[0mprint\u001b[0m\u001b[0;34m(\u001b[0m\u001b[0mu1\u001b[0m\u001b[0;34m.\u001b[0m\u001b[0mconnectionDB\u001b[0m\u001b[0;34m(\u001b[0m\u001b[0;34m)\u001b[0m\u001b[0;34m)\u001b[0m\u001b[0;34m\u001b[0m\u001b[0;34m\u001b[0m\u001b[0m\n\u001b[0m",
      "\u001b[0;31mAttributeError\u001b[0m: 'Facecbook' object has no attribute 'connectionDB'"
     ]
    }
   ],
   "source": [
    "print(u1.connectionDB())"
   ]
  },
  {
   "cell_type": "code",
   "execution_count": 28,
   "metadata": {},
   "outputs": [
    {
     "name": "stdout",
     "output_type": "stream",
     "text": [
      "\n",
      "Welcome Dear Qasim\n",
      "Your Registred email address is: None\n",
      "Your current password is: 123\n",
      "Hidden DB information: All connectivity sensitive information\n",
      "        \n"
     ]
    }
   ],
   "source": [
    "print(u1.information_display())"
   ]
  },
  {
   "cell_type": "markdown",
   "metadata": {},
   "source": [
    "# Abstract class\n",
    "* we can't create directly object from abstract class\n",
    "* we can use all attributes/methods through inheritance concept\n",
    "* we can also access in child class body"
   ]
  },
  {
   "cell_type": "raw",
   "metadata": {},
   "source": [
    "# python 2.7\n",
    "class A: \n",
    "    def __init__(self, name, age):\n",
    "        self.name = name\n",
    "        self.age = age\n",
    "\n",
    "class B(A):\n",
    "    pass\n",
    "\n",
    "\n",
    "obj1 = A('Asif',20)# Abstract\n",
    "obj2 = B('Hamza',26)\n",
    "\n",
    "print(obj1.name)\n",
    "print(obj2.name)"
   ]
  },
  {
   "cell_type": "code",
   "execution_count": 30,
   "metadata": {},
   "outputs": [
    {
     "ename": "TypeError",
     "evalue": "Can't instantiate abstract class Human with abstract methods __init__",
     "output_type": "error",
     "traceback": [
      "\u001b[0;31m----------------------------------------------------------------------\u001b[0m",
      "\u001b[0;31mTypeError\u001b[0m                            Traceback (most recent call last)",
      "\u001b[0;32m<ipython-input-30-65de56c8d87d>\u001b[0m in \u001b[0;36m<module>\u001b[0;34m\u001b[0m\n\u001b[1;32m     16\u001b[0m         \u001b[0mself\u001b[0m\u001b[0;34m.\u001b[0m\u001b[0mage\u001b[0m \u001b[0;34m=\u001b[0m \u001b[0mage\u001b[0m\u001b[0;34m\u001b[0m\u001b[0;34m\u001b[0m\u001b[0m\n\u001b[1;32m     17\u001b[0m \u001b[0;34m\u001b[0m\u001b[0m\n\u001b[0;32m---> 18\u001b[0;31m \u001b[0mp\u001b[0m \u001b[0;34m=\u001b[0m \u001b[0mHuman\u001b[0m\u001b[0;34m(\u001b[0m\u001b[0;34m\"Ali\"\u001b[0m\u001b[0;34m,\u001b[0m\u001b[0;36m20\u001b[0m\u001b[0;34m)\u001b[0m\u001b[0;34m\u001b[0m\u001b[0;34m\u001b[0m\u001b[0m\n\u001b[0m",
      "\u001b[0;31mTypeError\u001b[0m: Can't instantiate abstract class Human with abstract methods __init__"
     ]
    }
   ],
   "source": [
    "# 3.6 and above version\n",
    "from abc import ABC, abstractmethod\n",
    "\n",
    "class Human(ABC):# Abstract Class\n",
    "    @abstractmethod\n",
    "    def __init__(self, name, age):\n",
    "        self.name = name\n",
    "        self.age = age\n",
    "        \n",
    "    def hello(self):\n",
    "        return \"Hello World\"\n",
    "        \n",
    "        \n",
    "class Male(Human):#Child Class\n",
    "    def __init__(self, name, age):\n",
    "        self.name = name\n",
    "        self.age = age\n",
    "        \n",
    "p = Human(\"Ali\",20)# try to create abstract class object"
   ]
  },
  {
   "cell_type": "code",
   "execution_count": 31,
   "metadata": {},
   "outputs": [],
   "source": [
    "m1 = Male('Qasim',50)"
   ]
  },
  {
   "cell_type": "code",
   "execution_count": 32,
   "metadata": {},
   "outputs": [
    {
     "data": {
      "text/plain": [
       "'Hello World'"
      ]
     },
     "execution_count": 32,
     "metadata": {},
     "output_type": "execute_result"
    }
   ],
   "source": [
    "m1.hello()"
   ]
  },
  {
   "cell_type": "code",
   "execution_count": 33,
   "metadata": {},
   "outputs": [
    {
     "name": "stdout",
     "output_type": "stream",
     "text": [
      "Collecting saylani46165db\n",
      "  Downloading saylani46165db-0.1-py3-none-any.whl (3.4 kB)\n",
      "Installing collected packages: saylani46165db\n",
      "Successfully installed saylani46165db-0.1\n",
      "\u001b[33mWARNING: You are using pip version 21.3.1; however, version 22.3 is available.\n",
      "You should consider upgrading via the '/home/mqasim/anaconda3/bin/python -m pip install --upgrade pip' command.\u001b[0m\n"
     ]
    }
   ],
   "source": [
    "!pip install saylani46165db"
   ]
  },
  {
   "cell_type": "code",
   "execution_count": 34,
   "metadata": {},
   "outputs": [],
   "source": [
    "import saylani46165db"
   ]
  },
  {
   "cell_type": "code",
   "execution_count": null,
   "metadata": {},
   "outputs": [],
   "source": []
  }
 ],
 "metadata": {
  "kernelspec": {
   "display_name": "Python 3",
   "language": "python",
   "name": "python3"
  },
  "language_info": {
   "codemirror_mode": {
    "name": "ipython",
    "version": 3
   },
   "file_extension": ".py",
   "mimetype": "text/x-python",
   "name": "python",
   "nbconvert_exporter": "python",
   "pygments_lexer": "ipython3",
   "version": "3.7.6"
  }
 },
 "nbformat": 4,
 "nbformat_minor": 4
}
