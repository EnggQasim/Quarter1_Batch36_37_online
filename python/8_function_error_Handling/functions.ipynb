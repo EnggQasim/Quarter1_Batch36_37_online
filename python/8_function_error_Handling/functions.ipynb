{
 "cells": [
  {
   "cell_type": "markdown",
   "metadata": {},
   "source": [
    "# Functions\n",
    "* function declair/define\n",
    "    * function name\n",
    "    * arguments\n",
    "* function body\n",
    "    * set of statement\n",
    "* function calling\n",
    "    * name()\n",
    "    * pass arguments\n",
    "    \n",
    "## pre-define\n",
    "\n",
    "## user-define\n",
    "\n",
    "## return\n",
    "* if store output in variable\n",
    "## Non-return\n",
    "* if not store output in variable\n",
    "## defualt \n",
    "* not required any argument when we call\n",
    "## required arguments\n",
    "* function will not work without it\n",
    "## optional arguments\n",
    "* if we did'nt provide it function will also work with some defualt arguments value\n",
    "## Generator function\n",
    "* generate value one by one\n",
    "* alway remember old generated value\n",
    "## Lambda function\n",
    "* one line function\n",
    "* it has no name\n",
    "* one time use only\n",
    "\n",
    "## Recursive function\n",
    "* it call in own body\n"
   ]
  },
  {
   "cell_type": "markdown",
   "metadata": {},
   "source": [
    "# Pre-Define functions"
   ]
  },
  {
   "cell_type": "code",
   "execution_count": 6,
   "metadata": {},
   "outputs": [
    {
     "name": "stdout",
     "output_type": "stream",
     "text": [
      "Hello\n",
      "5\n",
      "140205416707568\n"
     ]
    }
   ],
   "source": [
    "print(\"Hello\") # function calling\n",
    "print(len(\"Hello\"))# function calling\n",
    "print(id(\"Hello\"))# function calling"
   ]
  },
  {
   "cell_type": "markdown",
   "metadata": {},
   "source": [
    "# Return/None-return function"
   ]
  },
  {
   "cell_type": "code",
   "execution_count": 3,
   "metadata": {},
   "outputs": [
    {
     "name": "stdout",
     "output_type": "stream",
     "text": [
      "Pakistan zinda bad!\n",
      "None\n"
     ]
    }
   ],
   "source": [
    "a = print(\"Pakistan zinda bad!\") # none-return\n",
    "print(a)# unable to store value in variable"
   ]
  },
  {
   "cell_type": "code",
   "execution_count": 4,
   "metadata": {},
   "outputs": [
    {
     "name": "stdout",
     "output_type": "stream",
     "text": [
      "140205400903232\n"
     ]
    }
   ],
   "source": [
    "a = id(\"Pakistan zinda bad\")# return\n",
    "print(a) #successfully store in variable"
   ]
  },
  {
   "cell_type": "code",
   "execution_count": 5,
   "metadata": {},
   "outputs": [
    {
     "name": "stdout",
     "output_type": "stream",
     "text": [
      "18\n"
     ]
    }
   ],
   "source": [
    "a = len(\"Pakistan zinda bad\")# return\n",
    "print(a)"
   ]
  },
  {
   "cell_type": "markdown",
   "metadata": {},
   "source": [
    "# User define function\n",
    "```\n",
    "def function_word(arg1, arg2,..):\n",
    "    statement1\n",
    "    statement2\n",
    "   \n",
    "function_word(arg1, arg2)\n",
    "```"
   ]
  },
  {
   "cell_type": "code",
   "execution_count": 7,
   "metadata": {},
   "outputs": [
    {
     "name": "stdout",
     "output_type": "stream",
     "text": [
      "PIAIC\n",
      "courses\n",
      "\t AI\n",
      "\t Blockchain\n"
     ]
    }
   ],
   "source": [
    "def piaic_introduction(): # function declair\n",
    "    print(\"PIAIC\")# statement1\n",
    "    print('courses')#2\n",
    "    print(\"\\t AI\")#3\n",
    "    print(\"\\t Blockchain\")#\n",
    "    \n",
    "    \n",
    "piaic_introduction()    "
   ]
  },
  {
   "cell_type": "code",
   "execution_count": 8,
   "metadata": {},
   "outputs": [
    {
     "name": "stdout",
     "output_type": "stream",
     "text": [
      "PIAIC\n",
      "courses\n",
      "\t AI\n",
      "\t Blockchain\n"
     ]
    }
   ],
   "source": [
    "piaic_introduction()"
   ]
  },
  {
   "cell_type": "code",
   "execution_count": 12,
   "metadata": {},
   "outputs": [
    {
     "name": "stdout",
     "output_type": "stream",
     "text": [
      "\n",
      "    PIAIC\n",
      "    Course offer\n",
      "        AI\n",
      "        Blockchain\n",
      "        Cloud computing\n",
      "        Metaverse\n",
      "    \n"
     ]
    }
   ],
   "source": [
    "def piaic_introduction(): # function declair\n",
    "    txt = \"\"\"\n",
    "    PIAIC\n",
    "    Course offer\n",
    "        AI\n",
    "        Blockchain\n",
    "        Cloud computing\n",
    "        Metaverse\n",
    "    \"\"\"\n",
    "    return txt\n",
    "    \n",
    "    \n",
    "print(piaic_introduction())# return function"
   ]
  },
  {
   "cell_type": "code",
   "execution_count": 13,
   "metadata": {},
   "outputs": [
    {
     "name": "stdout",
     "output_type": "stream",
     "text": [
      "\n",
      "    PIAIC\n",
      "    Course offer\n",
      "        AI\n",
      "        Blockchain\n",
      "        Cloud computing\n",
      "        Metaverse\n",
      "    \n",
      "\n",
      "    PIAIC\n",
      "    Course offer\n",
      "        AI\n",
      "        Blockchain\n",
      "        Cloud computing\n",
      "        Metaverse\n",
      "    \n"
     ]
    }
   ],
   "source": [
    "print(piaic_introduction())\n",
    "print(piaic_introduction())"
   ]
  },
  {
   "cell_type": "markdown",
   "metadata": {},
   "source": [
    "# required arguments"
   ]
  },
  {
   "cell_type": "code",
   "execution_count": 15,
   "metadata": {},
   "outputs": [
    {
     "name": "stdout",
     "output_type": "stream",
     "text": [
      "27\n",
      "25\n",
      "15\n"
     ]
    }
   ],
   "source": [
    "def addtion(num1, num2):\n",
    "    return num1 + num2\n",
    "\n",
    "print(addtion(7,20))\n",
    "print(addtion(5,20))\n",
    "print(addtion(6,9))"
   ]
  },
  {
   "cell_type": "code",
   "execution_count": 16,
   "metadata": {},
   "outputs": [
    {
     "ename": "TypeError",
     "evalue": "addtion() missing 1 required positional argument: 'num2'",
     "output_type": "error",
     "traceback": [
      "\u001b[0;31m----------------------------------------------------------------------\u001b[0m",
      "\u001b[0;31mTypeError\u001b[0m                            Traceback (most recent call last)",
      "\u001b[0;32m<ipython-input-16-5eab5b413eab>\u001b[0m in \u001b[0;36m<module>\u001b[0;34m\u001b[0m\n\u001b[0;32m----> 1\u001b[0;31m \u001b[0maddtion\u001b[0m\u001b[0;34m(\u001b[0m\u001b[0;36m7\u001b[0m\u001b[0;34m)\u001b[0m\u001b[0;34m\u001b[0m\u001b[0;34m\u001b[0m\u001b[0m\n\u001b[0m",
      "\u001b[0;31mTypeError\u001b[0m: addtion() missing 1 required positional argument: 'num2'"
     ]
    }
   ],
   "source": [
    "addtion(7)"
   ]
  },
  {
   "cell_type": "markdown",
   "metadata": {},
   "source": [
    "# Optional arguments"
   ]
  },
  {
   "cell_type": "code",
   "execution_count": 18,
   "metadata": {},
   "outputs": [
    {
     "name": "stdout",
     "output_type": "stream",
     "text": [
      "0\n",
      "1\n",
      "5\n"
     ]
    }
   ],
   "source": [
    "def addtion(num1=0, num2=0): #arg=value\n",
    "    return num1 + num2\n",
    "\n",
    "print(addtion())\n",
    "print(addtion(1))\n",
    "print(addtion(2,3))\n"
   ]
  },
  {
   "cell_type": "markdown",
   "metadata": {},
   "source": [
    "# required and optional arguments"
   ]
  },
  {
   "cell_type": "code",
   "execution_count": 25,
   "metadata": {},
   "outputs": [
    {
     "name": "stdout",
     "output_type": "stream",
     "text": [
      "\n",
      "    Boiling Sehla rice...\n",
      "    making qorma with chiken meat...\n",
      "    mixing tamato 0.5 KG...\n",
      "    Now you enjoy biryani :)\n",
      "    \n",
      "\n",
      "    Boiling Sehla rice...\n",
      "    making qorma with chiken meat...\n",
      "    mixing tamato 0.5 KG...\n",
      "    Now you enjoy biryani :)\n",
      "    \n",
      "\n",
      "    Boiling Sehla rice...\n",
      "    making qorma with chiken meat...\n",
      "    mixing tamato 0.5 KG...\n",
      "    Now you enjoy biryani :)\n",
      "    \n"
     ]
    }
   ],
   "source": [
    "def making_biryani(rice,meat, tamato=\"0.5 KG\"):\n",
    "    txt = f\"\"\"\n",
    "    Boiling {rice} rice...\n",
    "    making qorma with {meat} meat...\n",
    "    mixing tamato {tamato}...\n",
    "    Now you enjoy biryani :)\n",
    "    \"\"\"\n",
    "    \n",
    "    return txt\n",
    "\n",
    "a = making_biryani(\"Sehla\",'chiken')\n",
    "print(a)\n",
    "print(a)\n",
    "print(a)"
   ]
  },
  {
   "cell_type": "code",
   "execution_count": 24,
   "metadata": {},
   "outputs": [
    {
     "name": "stdout",
     "output_type": "stream",
     "text": [
      "Pakistan\n",
      "None\n"
     ]
    }
   ],
   "source": [
    "print(print(\"Pakistan\"))"
   ]
  },
  {
   "cell_type": "code",
   "execution_count": 26,
   "metadata": {},
   "outputs": [
    {
     "name": "stdout",
     "output_type": "stream",
     "text": [
      "\n",
      "    Boiling Basmati rice...\n",
      "    making qorma with beaf meat...\n",
      "    mixing tamato 1 KG...\n",
      "    Now you enjoy biryani :)\n",
      "    \n"
     ]
    }
   ],
   "source": [
    "print(making_biryani(\"Basmati\",'beaf','1 KG'))"
   ]
  },
  {
   "cell_type": "markdown",
   "metadata": {},
   "source": [
    "# optional argument2 unlimited"
   ]
  },
  {
   "cell_type": "code",
   "execution_count": 33,
   "metadata": {},
   "outputs": [
    {
     "name": "stdout",
     "output_type": "stream",
     "text": [
      "7 (2, 2, 3, 4, 5)\n"
     ]
    },
    {
     "data": {
      "text/plain": [
       "23"
      ]
     },
     "execution_count": 33,
     "metadata": {},
     "output_type": "execute_result"
    }
   ],
   "source": [
    "def my_sum(num1,*num): # *num \n",
    "    print(num1,num)\n",
    "    return num1 + sum(num)\n",
    "\n",
    "my_sum(7,2,2,3,4,5)"
   ]
  },
  {
   "cell_type": "code",
   "execution_count": 2,
   "metadata": {},
   "outputs": [
    {
     "ename": "TypeError",
     "evalue": "unsupported operand type(s) for +: 'int' and 'tuple'",
     "output_type": "error",
     "traceback": [
      "\u001b[0;31m----------------------------------------------------------------------\u001b[0m",
      "\u001b[0;31mTypeError\u001b[0m                            Traceback (most recent call last)",
      "\u001b[0;32m<ipython-input-2-ab532027b8ee>\u001b[0m in \u001b[0;36m<module>\u001b[0;34m\u001b[0m\n\u001b[1;32m      1\u001b[0m \u001b[0mnum\u001b[0m \u001b[0;34m=\u001b[0m \u001b[0;34m(\u001b[0m\u001b[0;36m2\u001b[0m\u001b[0;34m,\u001b[0m\u001b[0;36m2\u001b[0m\u001b[0;34m,\u001b[0m\u001b[0;36m3\u001b[0m\u001b[0;34m,\u001b[0m\u001b[0;36m4\u001b[0m\u001b[0;34m,\u001b[0m\u001b[0;36m5\u001b[0m\u001b[0;34m)\u001b[0m\u001b[0;34m\u001b[0m\u001b[0;34m\u001b[0m\u001b[0m\n\u001b[0;32m----> 2\u001b[0;31m \u001b[0;36m7\u001b[0m \u001b[0;34m+\u001b[0m \u001b[0mnum\u001b[0m\u001b[0;34m\u001b[0m\u001b[0;34m\u001b[0m\u001b[0m\n\u001b[0m",
      "\u001b[0;31mTypeError\u001b[0m: unsupported operand type(s) for +: 'int' and 'tuple'"
     ]
    }
   ],
   "source": [
    "num = (2,2,3,4,5)\n",
    "7 + num"
   ]
  },
  {
   "cell_type": "code",
   "execution_count": 3,
   "metadata": {},
   "outputs": [
    {
     "data": {
      "text/plain": [
       "array([ 9,  9, 10, 11, 12])"
      ]
     },
     "execution_count": 3,
     "metadata": {},
     "output_type": "execute_result"
    }
   ],
   "source": [
    "import numpy as np\n",
    "num = np.array((2,2,3,4,5))\n",
    "7 + num"
   ]
  },
  {
   "cell_type": "code",
   "execution_count": 1,
   "metadata": {},
   "outputs": [
    {
     "name": "stdout",
     "output_type": "stream",
     "text": [
      "7 (2, 2, 3, 4, 5)\n"
     ]
    },
    {
     "data": {
      "text/plain": [
       "23"
      ]
     },
     "execution_count": 1,
     "metadata": {},
     "output_type": "execute_result"
    }
   ],
   "source": [
    "def my_sum(num1,*num): # *num \n",
    "    print(num1,num)\n",
    "    \n",
    "    result = num1 # resutl = 7+2+2+3+4+5=23\n",
    "    \n",
    "    for n in num:\n",
    "        result += n\n",
    "        \n",
    "    \n",
    "    \n",
    "    return result\n",
    "\n",
    "my_sum(7,2,2,3,4,5)"
   ]
  },
  {
   "cell_type": "code",
   "execution_count": 34,
   "metadata": {},
   "outputs": [
    {
     "name": "stdout",
     "output_type": "stream",
     "text": [
      "7 2 (2, 3, 4, 5)\n"
     ]
    },
    {
     "data": {
      "text/plain": [
       "23"
      ]
     },
     "execution_count": 34,
     "metadata": {},
     "output_type": "execute_result"
    }
   ],
   "source": [
    "def my_sum(num1,num2,*num): # *num \n",
    "    print(num1,num2,num)\n",
    "    return num1 + num2 +sum(num)\n",
    "\n",
    "my_sum(7,2,2,3,4,5)"
   ]
  },
  {
   "cell_type": "code",
   "execution_count": 35,
   "metadata": {},
   "outputs": [
    {
     "name": "stdout",
     "output_type": "stream",
     "text": [
      "(7, 2, 2, 3, 4, 5)\n"
     ]
    },
    {
     "data": {
      "text/plain": [
       "23"
      ]
     },
     "execution_count": 35,
     "metadata": {},
     "output_type": "execute_result"
    }
   ],
   "source": [
    "def my_sum(*num): # *num during define = tuple\n",
    "    print(num)\n",
    "    return sum(num)\n",
    "\n",
    "my_sum(7,2,2,3,4,5)"
   ]
  },
  {
   "cell_type": "code",
   "execution_count": 36,
   "metadata": {},
   "outputs": [
    {
     "name": "stdout",
     "output_type": "stream",
     "text": [
      "20\n",
      "25\n"
     ]
    }
   ],
   "source": [
    "a, b = [20,25] # unzip\n",
    "print(a)\n",
    "print(b)"
   ]
  },
  {
   "cell_type": "code",
   "execution_count": 41,
   "metadata": {},
   "outputs": [
    {
     "name": "stdout",
     "output_type": "stream",
     "text": [
      "1 20 30 50 100\n",
      "1 20 30 50 100\n",
      "1 20 30 50 100\n",
      "[1, 20, 30, 50, 100]\n"
     ]
    }
   ],
   "source": [
    "l = [1,20,30,50,100]\n",
    "print(l[0],l[1],l[2],l[3],l[4])\n",
    "print(*l) #during call * before iterated datatype = unzip values\n",
    "print(1,20,30,50,100)\n",
    "print(l)"
   ]
  },
  {
   "cell_type": "code",
   "execution_count": 43,
   "metadata": {},
   "outputs": [
    {
     "name": "stdout",
     "output_type": "stream",
     "text": [
      "(1, 20, 30, 50, 100)\n"
     ]
    },
    {
     "data": {
      "text/plain": [
       "201"
      ]
     },
     "execution_count": 43,
     "metadata": {},
     "output_type": "execute_result"
    }
   ],
   "source": [
    "my_sum(*l)"
   ]
  },
  {
   "cell_type": "code",
   "execution_count": 53,
   "metadata": {},
   "outputs": [
    {
     "data": {
      "text/plain": [
       "130"
      ]
     },
     "execution_count": 53,
     "metadata": {},
     "output_type": "execute_result"
    }
   ],
   "source": [
    "def my_new_sum(num1,num2,num3,num4):\n",
    "    return num1 + num2 + num3 + num4\n",
    "\n",
    "l = [10,20,30,40]\n",
    "\n",
    "# my_new_sum(*l)\n",
    "# my_new_sum(l[0],l[1],l[2],l[3])\n",
    "my_new_sum(50,l[0],*l[-2:])"
   ]
  },
  {
   "cell_type": "code",
   "execution_count": 57,
   "metadata": {},
   "outputs": [
    {
     "name": "stdout",
     "output_type": "stream",
     "text": [
      "50 10 [30, 40]\n",
      "50 10 30 40\n"
     ]
    }
   ],
   "source": [
    "print(50,l[0],l[-2:])\n",
    "print(50,l[0],*l[-2:])"
   ]
  },
  {
   "cell_type": "markdown",
   "metadata": {},
   "source": [
    "# calling function with keyword arguments"
   ]
  },
  {
   "cell_type": "code",
   "execution_count": 61,
   "metadata": {},
   "outputs": [
    {
     "name": "stdout",
     "output_type": "stream",
     "text": [
      "\n",
      "    PIAIC Student idientity card\n",
      "    Roll no: 1\n",
      "    Name: Hamza , Fathre's Name: Abid\n",
      "    course: AI\n",
      "    \n",
      "\n",
      "    PIAIC Student idientity card\n",
      "    Roll no: 2\n",
      "    Name: Konain , Fathre's Name: Rashid\n",
      "    course: AI\n",
      "    \n"
     ]
    }
   ],
   "source": [
    "def student_card(rollno, name, fname, course):\n",
    "    card = f\"\"\"\n",
    "    PIAIC Student idientity card\n",
    "    Roll no: {rollno}\n",
    "    Name: {name} , Fathre's Name: {fname}\n",
    "    course: {course}\n",
    "    \"\"\"\n",
    "    \n",
    "    return card\n",
    "\n",
    "print(student_card(1,'Hamza',\"Abid\",\"AI\"))\n",
    "print(student_card(2,'Konain',\"Rashid\",\"AI\"))\n"
   ]
  },
  {
   "cell_type": "code",
   "execution_count": 63,
   "metadata": {},
   "outputs": [
    {
     "name": "stdout",
     "output_type": "stream",
     "text": [
      "\n",
      "    PIAIC Student idientity card\n",
      "    Roll no: muhammad qasim\n",
      "    Name: muhammad Aslam , Fathre's Name: 12\n",
      "    course: AI\n",
      "    \n"
     ]
    }
   ],
   "source": [
    "def student_card(rollno, name, fname, course):\n",
    "    card = f\"\"\"\n",
    "    PIAIC Student idientity card\n",
    "    Roll no: {rollno}\n",
    "    Name: {name} , Fathre's Name: {fname}\n",
    "    course: {course}\n",
    "    \"\"\"\n",
    "    \n",
    "    return card\n",
    "\n",
    "print(student_card(\"muhammad qasim\",\"muhammad Aslam\",12, \"AI\"))"
   ]
  },
  {
   "cell_type": "code",
   "execution_count": 64,
   "metadata": {},
   "outputs": [
    {
     "name": "stdout",
     "output_type": "stream",
     "text": [
      "\n",
      "    PIAIC Student idientity card\n",
      "    Roll no: 12\n",
      "    Name: muhammad qasim , Fathre's Name: muhammad Aslam\n",
      "    course: AI\n",
      "    \n"
     ]
    }
   ],
   "source": [
    "print(student_card(name=\"muhammad qasim\",fname=\"muhammad Aslam\",rollno=12, course=\"AI\"))"
   ]
  },
  {
   "cell_type": "code",
   "execution_count": 66,
   "metadata": {},
   "outputs": [
    {
     "name": "stdout",
     "output_type": "stream",
     "text": [
      "\n",
      "    PIAIC Student idientity card\n",
      "    Roll no: 1\n",
      "    Name: Muhammad Qasim , Fathre's Name: Muhammad Aslam\n",
      "    course: AI\n",
      "    \n"
     ]
    }
   ],
   "source": [
    "l = [1,\"Muhammad Qasim\",\"Muhammad Aslam\",\"AI\"]\n",
    "\n",
    "print(student_card(*l))# if we pass postional argument with list = *list\n"
   ]
  },
  {
   "cell_type": "code",
   "execution_count": 71,
   "metadata": {},
   "outputs": [
    {
     "name": "stdout",
     "output_type": "stream",
     "text": [
      "\n",
      "    PIAIC Student idientity card\n",
      "    Roll no: 123\n",
      "    Name: Muhammad Qasim , Fathre's Name: Muhammad Aslam\n",
      "    course: AI\n",
      "    \n"
     ]
    }
   ],
   "source": [
    "d1 = {\"name\":\"Muhammad Qasim\",\n",
    "     \"fname\":\"Muhammad Aslam\",\n",
    "     \"rollno\":123,\n",
    "     \"course\":\"AI\"}\n",
    "\n",
    "print(student_card(**d1))# pass keyword argument = **dictionary\n",
    " \n",
    "    "
   ]
  },
  {
   "cell_type": "code",
   "execution_count": 72,
   "metadata": {},
   "outputs": [
    {
     "name": "stdout",
     "output_type": "stream",
     "text": [
      "\n",
      "    PIAIC Student idientity card\n",
      "    Roll no: 123\n",
      "    Name: Muhammad Qasim , Fathre's Name: Muhammmad Aslam\n",
      "    course: AI\n",
      "    \n"
     ]
    }
   ],
   "source": [
    "\n",
    "print(student_card(name=\"Muhammad Qasim\",\n",
    "                  fname=\"Muhammmad Aslam\",\n",
    "                  rollno=123,\n",
    "                  course=\"AI\"))"
   ]
  },
  {
   "cell_type": "markdown",
   "metadata": {},
   "source": [
    "# create keyword argument unlimited"
   ]
  },
  {
   "cell_type": "code",
   "execution_count": 69,
   "metadata": {},
   "outputs": [
    {
     "name": "stdout",
     "output_type": "stream",
     "text": [
      "7 20 {'len': 20, 'age': 30, 'course': 'AI'}\n"
     ]
    }
   ],
   "source": [
    "def my_fn(num1,num2, **abc):# ** dictionary\n",
    "    print(num1,num2,abc)\n",
    "    \n",
    "my_fn(7,20,len=20, age=30, course=\"AI\")\n",
    "    "
   ]
  },
  {
   "cell_type": "code",
   "execution_count": 70,
   "metadata": {},
   "outputs": [
    {
     "name": "stdout",
     "output_type": "stream",
     "text": [
      "1 2 ('a', 'b', 'c') {'age': 20, 'course': 'AI', 'rollno': 1}\n"
     ]
    }
   ],
   "source": [
    "def my_fn1(num1,num3,*l1,**d1):\n",
    "    print(num1,num3,l1,d1)\n",
    "    \n",
    "my_fn1(1,2,'a','b','c',age=20,course=\"AI\",rollno=1)"
   ]
  },
  {
   "cell_type": "markdown",
   "metadata": {},
   "source": [
    "# Lambda function"
   ]
  },
  {
   "cell_type": "code",
   "execution_count": 73,
   "metadata": {},
   "outputs": [
    {
     "data": {
      "text/plain": [
       "22"
      ]
     },
     "execution_count": 73,
     "metadata": {},
     "output_type": "execute_result"
    }
   ],
   "source": [
    "def add(num1,num2):\n",
    "    return num1 + num2\n",
    "\n",
    "add(2,20)"
   ]
  },
  {
   "cell_type": "code",
   "execution_count": 111,
   "metadata": {},
   "outputs": [
    {
     "data": {
      "text/plain": [
       "2"
      ]
     },
     "execution_count": 111,
     "metadata": {},
     "output_type": "execute_result"
    }
   ],
   "source": [
    "def add(num1):\n",
    "    return num1 \n",
    "\n",
    "a = lambda x: x[1]\n",
    "a([1,2])"
   ]
  },
  {
   "cell_type": "code",
   "execution_count": 74,
   "metadata": {},
   "outputs": [
    {
     "data": {
      "text/plain": [
       "22"
      ]
     },
     "execution_count": 74,
     "metadata": {},
     "output_type": "execute_result"
    }
   ],
   "source": [
    "# lambda arg1,arg2: function_body\n",
    "a = lambda num1,num2: num1 + num2\n",
    "a(2,20)"
   ]
  },
  {
   "cell_type": "code",
   "execution_count": 77,
   "metadata": {},
   "outputs": [
    {
     "data": {
      "text/plain": [
       "[[3, 'X', 'C'], [2, 'Y', 'B'], [1, 'Z', 'A']]"
      ]
     },
     "execution_count": 77,
     "metadata": {},
     "output_type": "execute_result"
    }
   ],
   "source": [
    "data = [[1,'Z',\"A\"],\n",
    "       [2,'Y',\"B\"],\n",
    "       [3,'X',\"C\"]]\n",
    "\n",
    "sorted(data, key=lambda x:x[1])# ascending based on second col"
   ]
  },
  {
   "cell_type": "code",
   "execution_count": 76,
   "metadata": {},
   "outputs": [
    {
     "data": {
      "text/plain": [
       "[[1, 'Z'], [2, 'Y'], [3, 'X']]"
      ]
     },
     "execution_count": 76,
     "metadata": {},
     "output_type": "execute_result"
    }
   ],
   "source": [
    "sorted(data, key=lambda x:x[0])# ascending"
   ]
  },
  {
   "cell_type": "code",
   "execution_count": 78,
   "metadata": {},
   "outputs": [
    {
     "data": {
      "text/plain": [
       "[[3, 'X', 'C'], [2, 'Y', 'B'], [1, 'Z', 'A']]"
      ]
     },
     "execution_count": 78,
     "metadata": {},
     "output_type": "execute_result"
    }
   ],
   "source": [
    "sorted(data, key=lambda x:x[2], reverse=True)"
   ]
  },
  {
   "cell_type": "markdown",
   "metadata": {},
   "source": [
    "# Generator Function"
   ]
  },
  {
   "cell_type": "code",
   "execution_count": 79,
   "metadata": {},
   "outputs": [
    {
     "data": {
      "text/plain": [
       "range(1, 11)"
      ]
     },
     "execution_count": 79,
     "metadata": {},
     "output_type": "execute_result"
    }
   ],
   "source": [
    "range(1,11)"
   ]
  },
  {
   "cell_type": "code",
   "execution_count": 81,
   "metadata": {},
   "outputs": [
    {
     "data": {
      "text/plain": [
       "[1, 2, 3, 4, 5, 6, 7, 8, 9, 10]"
      ]
     },
     "execution_count": 81,
     "metadata": {},
     "output_type": "execute_result"
    }
   ],
   "source": [
    "list(range(1,11))"
   ]
  },
  {
   "cell_type": "code",
   "execution_count": 83,
   "metadata": {},
   "outputs": [
    {
     "name": "stdout",
     "output_type": "stream",
     "text": [
      "1\n",
      "2\n",
      "3\n",
      "4\n",
      "5\n",
      "6\n",
      "7\n",
      "8\n",
      "9\n",
      "10\n"
     ]
    }
   ],
   "source": [
    "for i in range(1,11):\n",
    "    print(i)"
   ]
  },
  {
   "cell_type": "code",
   "execution_count": 85,
   "metadata": {},
   "outputs": [
    {
     "data": {
      "text/plain": [
       "<zip at 0x7f841e0282d0>"
      ]
     },
     "execution_count": 85,
     "metadata": {},
     "output_type": "execute_result"
    }
   ],
   "source": [
    "l1 = [1,2,3]\n",
    "l2 = ['a','b','c']\n",
    "l3 = zip(l1,l2)\n",
    "l3"
   ]
  },
  {
   "cell_type": "code",
   "execution_count": 88,
   "metadata": {},
   "outputs": [
    {
     "name": "stdout",
     "output_type": "stream",
     "text": [
      "<zip object at 0x7f841d896410>\n",
      "(1, 'a')\n",
      "(2, 'b')\n"
     ]
    }
   ],
   "source": [
    "l3 = zip(l1,l2)\n",
    "print(l3)\n",
    "print(next(l3))\n",
    "print(next(l3))"
   ]
  },
  {
   "cell_type": "code",
   "execution_count": null,
   "metadata": {},
   "outputs": [],
   "source": []
  },
  {
   "cell_type": "code",
   "execution_count": 82,
   "metadata": {},
   "outputs": [
    {
     "data": {
      "text/plain": [
       "[(1, 'a'), (2, 'b'), (3, 'c')]"
      ]
     },
     "execution_count": 82,
     "metadata": {},
     "output_type": "execute_result"
    }
   ],
   "source": [
    "list(zip(l1,l2))"
   ]
  },
  {
   "cell_type": "code",
   "execution_count": 84,
   "metadata": {},
   "outputs": [
    {
     "name": "stdout",
     "output_type": "stream",
     "text": [
      "(1, 'a')\n",
      "(2, 'b')\n",
      "(3, 'c')\n"
     ]
    }
   ],
   "source": [
    "for i in zip(l1,l2):\n",
    "    print(i)"
   ]
  },
  {
   "cell_type": "code",
   "execution_count": 97,
   "metadata": {},
   "outputs": [
    {
     "name": "stdout",
     "output_type": "stream",
     "text": [
      "<generator object my_gen at 0x7f841d4d50d0>\n",
      "1\n",
      "2\n",
      "3\n",
      "4\n",
      "5\n",
      "6\n",
      "7\n",
      "8\n",
      "9\n",
      "10\n"
     ]
    }
   ],
   "source": [
    "def my_gen(s,e):\n",
    "    for i in range(s,e+1):\n",
    "        yield i\n",
    "        \n",
    "        \n",
    "abc = my_gen(1,10)\n",
    "print(abc)\n",
    "print(next(abc))\n",
    "print(next(abc))\n",
    "print(next(abc))\n",
    "print(next(abc))\n",
    "print(next(abc))\n",
    "print(next(abc))\n",
    "print(next(abc))\n",
    "print(next(abc))\n",
    "print(next(abc))\n",
    "print(next(abc))"
   ]
  },
  {
   "cell_type": "code",
   "execution_count": 98,
   "metadata": {},
   "outputs": [
    {
     "name": "stdout",
     "output_type": "stream",
     "text": [
      "1\n",
      "2\n",
      "3\n",
      "4\n",
      "5\n",
      "6\n",
      "7\n",
      "8\n",
      "9\n",
      "10\n"
     ]
    }
   ],
   "source": [
    "for i in  my_gen(1,10):\n",
    "    print(i)"
   ]
  },
  {
   "cell_type": "markdown",
   "metadata": {},
   "source": [
    "# Recursive"
   ]
  },
  {
   "cell_type": "code",
   "execution_count": 105,
   "metadata": {},
   "outputs": [
    {
     "name": "stdout",
     "output_type": "stream",
     "text": [
      "5\n",
      "4\n",
      "3\n",
      "2\n",
      "1\n",
      "0\n"
     ]
    }
   ],
   "source": [
    "def countdown(n):\n",
    "    print(n)\n",
    "    if n == 0:\n",
    "        return             # Terminate recursio\n",
    "    else:\n",
    "        countdown(n - 1) \n",
    "countdown(5)"
   ]
  },
  {
   "cell_type": "code",
   "execution_count": 113,
   "metadata": {},
   "outputs": [
    {
     "data": {
      "text/plain": [
       "[5, 7, 9]"
      ]
     },
     "execution_count": 113,
     "metadata": {},
     "output_type": "execute_result"
    }
   ],
   "source": [
    "l1 = [1,2,3]\n",
    "l2 = [4,5,6]\n",
    "list(map(lambda x,y:x+y, l1,l2))"
   ]
  },
  {
   "cell_type": "code",
   "execution_count": 4,
   "metadata": {},
   "outputs": [
    {
     "data": {
      "text/plain": [
       "['Student1', 'Student2', 'Student3']"
      ]
     },
     "execution_count": 4,
     "metadata": {},
     "output_type": "execute_result"
    }
   ],
   "source": [
    "l=[\"1\",\"2\",\"3\"]\n",
    "\n",
    "list(map(lambda x:\"Student\"+x,l))"
   ]
  },
  {
   "cell_type": "code",
   "execution_count": 5,
   "metadata": {},
   "outputs": [
    {
     "data": {
      "text/plain": [
       "['Teacher1', 'Teacher2', 'Teacher3']"
      ]
     },
     "execution_count": 5,
     "metadata": {},
     "output_type": "execute_result"
    }
   ],
   "source": [
    "l=[\"1\",\"2\",\"3\"]\n",
    "\n",
    "def abc(x):\n",
    "    return \"Teacher\" + str(x)\n",
    "\n",
    "list(map(abc,l))"
   ]
  },
  {
   "cell_type": "code",
   "execution_count": 8,
   "metadata": {},
   "outputs": [
    {
     "data": {
      "text/plain": [
       "['Teacher1', 'Teacher2', 'Teacher3', 'Teacher4', 'Teacher5']"
      ]
     },
     "execution_count": 8,
     "metadata": {},
     "output_type": "execute_result"
    }
   ],
   "source": [
    "l=[1,2,3,4,5]\n",
    "\n",
    "def abc(x):\n",
    "    return \"Teacher\" + str(x)\n",
    "\n",
    "list(map(abc,l))"
   ]
  },
  {
   "cell_type": "code",
   "execution_count": 10,
   "metadata": {},
   "outputs": [
    {
     "data": {
      "text/plain": [
       "[3, 4, 5, 6, 7]"
      ]
     },
     "execution_count": 10,
     "metadata": {},
     "output_type": "execute_result"
    }
   ],
   "source": [
    "[i+2 for i in l]"
   ]
  },
  {
   "cell_type": "code",
   "execution_count": 11,
   "metadata": {},
   "outputs": [
    {
     "data": {
      "text/plain": [
       "[3, 4, 5, 6, 7]"
      ]
     },
     "execution_count": 11,
     "metadata": {},
     "output_type": "execute_result"
    }
   ],
   "source": [
    "list(map(lambda x:x+2, l))"
   ]
  },
  {
   "cell_type": "code",
   "execution_count": null,
   "metadata": {},
   "outputs": [],
   "source": [
    "7[]"
   ]
  }
 ],
 "metadata": {
  "kernelspec": {
   "display_name": "Python 3",
   "language": "python",
   "name": "python3"
  },
  "language_info": {
   "codemirror_mode": {
    "name": "ipython",
    "version": 3
   },
   "file_extension": ".py",
   "mimetype": "text/x-python",
   "name": "python",
   "nbconvert_exporter": "python",
   "pygments_lexer": "ipython3",
   "version": "3.7.6"
  }
 },
 "nbformat": 4,
 "nbformat_minor": 4
}
