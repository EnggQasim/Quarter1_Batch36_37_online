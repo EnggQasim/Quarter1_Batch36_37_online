{
 "cells": [
  {
   "cell_type": "markdown",
   "metadata": {},
   "source": [
    "# OOP\n",
    "* object\n",
    "    * everything in the world which has name that is called object\n",
    "        * Methods (function, procedure, sub routine)\n",
    "            * performe any action\n",
    "                * must be change some attribute\n",
    "                * or return something\n",
    "        * Attributes (properties, fields, characterstics)\n",
    "            * store some values for perticular time\n",
    " \n",
    " # Class\n",
    " * Blue print\n",
    " * Capitalize each word (ClassName)\n",
    " * constructor (Method)\n",
    "     * always call when we create new object\n"
   ]
  },
  {
   "cell_type": "markdown",
   "metadata": {},
   "source": [
    "## Linear programming"
   ]
  },
  {
   "cell_type": "code",
   "execution_count": 1,
   "metadata": {},
   "outputs": [],
   "source": [
    "qasim_name = \"Muhammad qasim\"\n",
    "qasim_fname= \"Muhammad Aslam\"\n",
    "qasim_education = \"MSDS\"\n",
    "\n",
    "def qasim_speak():pass\n",
    "def qasim_eat():pass\n",
    "def qasim_sleep():pass\n",
    "\n",
    "\n",
    "\n",
    "asim_name = \"Muhammad Asim\"\n",
    "asim_fname= \"Muhammad Aslam\"\n",
    "asim_education = \"MSDS\"\n",
    "\n",
    "def asim_speak():pass\n",
    "def asim_eat():pass\n",
    "def asim_sleep():pass\n",
    "\n",
    "\n",
    "asif_name = \"Muhammad Asif\"\n",
    "asif_fname= \"Muhammad Aslam\"\n",
    "asif_education = \"MSDS\"\n",
    "\n",
    "def asif_speak():pass\n",
    "def asif_eat():pass\n",
    "def asif_sleep():pass"
   ]
  },
  {
   "cell_type": "markdown",
   "metadata": {},
   "source": [
    "# OOP\n",
    "* compress code\n",
    "* less computing power/ less storage consume\n",
    "* code management too much simple"
   ]
  },
  {
   "cell_type": "markdown",
   "metadata": {},
   "source": [
    "# Class\n",
    " * Blue print/model/structe/template\n",
    " * Capitalize each word (ClassName) `class Class():pass`\n",
    " * constructor (Method)\n",
    "     * always call when we create new object\n",
    "     * old programming lanugages \n",
    "         * same function name as class\n",
    "     * Python\n",
    "         * `def __init__(self):`\n",
    "         * first argument:\n",
    "             * first argument should be any name\n",
    "                 * always keep this during creating time\n",
    "                 * but always ingore during calling\n",
    "                 * always manage each object with individual memory blocks\n",
    "                 * self\n",
    "                 * this\n",
    "                 * abc\n",
    "                 * xyz\n",
    "         * all attribute should be write in constructor body\n",
    "             * `self.attribute_name` (within a class)\n",
    "             \n",
    " * destructor (method)\n",
    "     * always call when we delete object\n",
    "     \n",
    "\n",
    " * Method\n",
    "     * `def method_name(self,arg1,arg2,..):pass`\n",
    "     * calling time `method_name(arg1,arg2)`\n",
    "         * always ignore self\n",
    "     * object action performed \n",
    "         * always return something or change some attribute value\n",
    " * Attribute\n",
    " * class variable"
   ]
  },
  {
   "cell_type": "markdown",
   "metadata": {},
   "source": [
    "# MarkDown\n",
    "https://github.com/adam-p/markdown-here/wiki/Markdown-Cheatsheet"
   ]
  },
  {
   "cell_type": "code",
   "execution_count": 4,
   "metadata": {},
   "outputs": [],
   "source": [
    "class Student(): # class\n",
    "    def __init__(self, sid, sname): # constructor method\n",
    "        #self.attribute_name = constructor_local_variable\n",
    "        self.id = sid \n",
    "        self.name = sname # attribute\n",
    "        self.education = None # attribute\n",
    "        self.address = None # attribute\n",
    "        self.age = None # attribute\n",
    "        self.user = sname\n",
    "        self.password = \"123\"\n",
    "    \n",
    "    def login(self,user,pws): # Method\n",
    "        if self.user == user and self.password == pws:\n",
    "            return \"Valid User\"\n",
    "        else:\n",
    "            return \"Not Valid user\"\n",
    "        \n",
    "    def display_information(self): # method\n",
    "        cards = f\"\"\"\n",
    "        PIAIC Student Card\n",
    "        Registration No: {self.id}\n",
    "        Name: {self.name}\n",
    "        Education : {self.education}\n",
    "        \"\"\"\n",
    "        \n",
    "        return cards\n"
   ]
  },
  {
   "cell_type": "code",
   "execution_count": 7,
   "metadata": {},
   "outputs": [],
   "source": [
    "# ClassName(arg1,arg2,..) we ignore slef argument calling time\n",
    "\n",
    "s1 = Student(1,\"Muhammad Qasim\") # create s1 new object\n",
    "s2 = Student(2,\"Asim\")# create s2 new object\n",
    "s3 = Student(3,\"Asif Khan\")# create s3 new object\n",
    "s4 = Student(4,\"Konain\")\n",
    "s5 = Student(5,\"Kamran\")"
   ]
  },
  {
   "cell_type": "code",
   "execution_count": 8,
   "metadata": {},
   "outputs": [
    {
     "name": "stdout",
     "output_type": "stream",
     "text": [
      "Muhammad Qasim 1\n",
      "Asim 2\n",
      "Asif Khan 3\n",
      "Kamran 5\n"
     ]
    }
   ],
   "source": [
    "print(s1.name, s1.id) # call attributes values\n",
    "print(s2.name, s2.id) # object_name.attribute\n",
    "print(s3.name, s3.id)\n",
    "print(s5.name, s5.id)"
   ]
  },
  {
   "cell_type": "code",
   "execution_count": 12,
   "metadata": {},
   "outputs": [
    {
     "data": {
      "text/plain": [
       "'Valid User'"
      ]
     },
     "execution_count": 12,
     "metadata": {},
     "output_type": "execute_result"
    }
   ],
   "source": [
    "s1.login(\"Muhammad Qasim\",\"123\")# call object methods\n",
    "#           object_name.method_name()"
   ]
  },
  {
   "cell_type": "code",
   "execution_count": 15,
   "metadata": {},
   "outputs": [
    {
     "data": {
      "text/plain": [
       "'Not Valid user'"
      ]
     },
     "execution_count": 15,
     "metadata": {},
     "output_type": "execute_result"
    }
   ],
   "source": [
    "s1.login(\"Asim\",\"12345\")"
   ]
  },
  {
   "cell_type": "code",
   "execution_count": 16,
   "metadata": {},
   "outputs": [
    {
     "data": {
      "text/plain": [
       "'Valid User'"
      ]
     },
     "execution_count": 16,
     "metadata": {},
     "output_type": "execute_result"
    }
   ],
   "source": [
    "s2.login(\"Asim\",\"123\")"
   ]
  },
  {
   "cell_type": "code",
   "execution_count": 17,
   "metadata": {},
   "outputs": [
    {
     "data": {
      "text/plain": [
       "'Not Valid user'"
      ]
     },
     "execution_count": 17,
     "metadata": {},
     "output_type": "execute_result"
    }
   ],
   "source": [
    "s2.login(\"Asim\",\"1222223\")"
   ]
  },
  {
   "cell_type": "code",
   "execution_count": 19,
   "metadata": {},
   "outputs": [
    {
     "name": "stdout",
     "output_type": "stream",
     "text": [
      "\n",
      "        PIAIC Student Card\n",
      "        Registration No: 1\n",
      "        Name: Muhammad Qasim\n",
      "        Education : None\n",
      "        \n"
     ]
    }
   ],
   "source": [
    "print(s1.display_information())"
   ]
  },
  {
   "cell_type": "code",
   "execution_count": 20,
   "metadata": {},
   "outputs": [],
   "source": [
    "s1.education = \"MSDS\""
   ]
  },
  {
   "cell_type": "code",
   "execution_count": 21,
   "metadata": {},
   "outputs": [
    {
     "name": "stdout",
     "output_type": "stream",
     "text": [
      "\n",
      "        PIAIC Student Card\n",
      "        Registration No: 1\n",
      "        Name: Muhammad Qasim\n",
      "        Education : MSDS\n",
      "        \n"
     ]
    }
   ],
   "source": [
    "print(s1.display_information())"
   ]
  },
  {
   "cell_type": "code",
   "execution_count": 24,
   "metadata": {},
   "outputs": [
    {
     "data": {
      "text/plain": [
       "['__class__',\n",
       " '__delattr__',\n",
       " '__dict__',\n",
       " '__dir__',\n",
       " '__doc__',\n",
       " '__eq__',\n",
       " '__format__',\n",
       " '__ge__',\n",
       " '__getattribute__',\n",
       " '__gt__',\n",
       " '__hash__',\n",
       " '__init__',\n",
       " '__init_subclass__',\n",
       " '__le__',\n",
       " '__lt__',\n",
       " '__module__',\n",
       " '__ne__',\n",
       " '__new__',\n",
       " '__reduce__',\n",
       " '__reduce_ex__',\n",
       " '__repr__',\n",
       " '__setattr__',\n",
       " '__sizeof__',\n",
       " '__str__',\n",
       " '__subclasshook__',\n",
       " '__weakref__',\n",
       " 'address',\n",
       " 'age',\n",
       " 'display_information',\n",
       " 'education',\n",
       " 'id',\n",
       " 'login',\n",
       " 'name',\n",
       " 'password',\n",
       " 'user']"
      ]
     },
     "execution_count": 24,
     "metadata": {},
     "output_type": "execute_result"
    }
   ],
   "source": [
    "dir(s1)"
   ]
  },
  {
   "cell_type": "code",
   "execution_count": 30,
   "metadata": {},
   "outputs": [
    {
     "name": "stdout",
     "output_type": "stream",
     "text": [
      "['address', 'age', 'education', 'id', 'login', 'name', 'password', 'user']\n",
      "['address', 'age', 'education', 'id', 'login', 'name', 'password', 'user']\n",
      "['address', 'age', 'education', 'id', 'login', 'name', 'password', 'user']\n",
      "['address', 'age', 'education', 'id', 'login', 'name', 'password', 'user']\n",
      "['address', 'age', 'education', 'id', 'login', 'name', 'password', 'user']\n"
     ]
    }
   ],
   "source": [
    "print([i for i in dir(s1) if \"_\" not in i])\n",
    "print([i for i in dir(s2) if \"_\" not in i])\n",
    "print([i for i in dir(s3) if \"_\" not in i])\n",
    "print([i for i in dir(s4) if \"_\" not in i])\n",
    "print([i for i in dir(s5) if \"_\" not in i])"
   ]
  },
  {
   "cell_type": "code",
   "execution_count": 31,
   "metadata": {},
   "outputs": [],
   "source": [
    "s1.password = \"abc123\""
   ]
  },
  {
   "cell_type": "code",
   "execution_count": 32,
   "metadata": {},
   "outputs": [
    {
     "name": "stdout",
     "output_type": "stream",
     "text": [
      "abc123\n"
     ]
    }
   ],
   "source": [
    "print(s1.password)"
   ]
  },
  {
   "cell_type": "markdown",
   "metadata": {},
   "source": [
    "# Class Variable\n",
    "* always create in class body\n",
    "* calling `ClassName.variable_name`\n",
    "* always same value value"
   ]
  },
  {
   "cell_type": "code",
   "execution_count": 72,
   "metadata": {},
   "outputs": [],
   "source": [
    "class Student(): # class\n",
    "    \n",
    "    counter = 0 # class variable\n",
    "    subject = \"Artificial Intelligence\"# class variable\n",
    "    time = \"11:19 am\"# class variable\n",
    "    \n",
    "    def __init__(self, sid, sname): # constructor method\n",
    "        #self.attribute_name = constructor_local_variable\n",
    "        self.id = sid \n",
    "        self.name = sname # attribute\n",
    "        self.education = None # attribute\n",
    "        self.address = None # attribute\n",
    "        self.age = None # attribute\n",
    "        self.user = sname\n",
    "        self.password = \"123\"\n",
    "        Student.counter += 1 # calling class variable\n",
    "    \n",
    "    def login(self,user,pws): # Method\n",
    "        if self.user == user and self.password == pws:\n",
    "            return \"Valid User\"\n",
    "        else:\n",
    "            return \"Not Valid user\"\n",
    "        \n",
    "    def display_information(self): # method\n",
    "        cards = f\"\"\"\n",
    "        PIAIC Student Card\n",
    "        Registration No: {self.id}\n",
    "        Name: {self.name}\n",
    "        Education : {self.education}\n",
    "        \"\"\"\n",
    "        \n",
    "        return cards\n"
   ]
  },
  {
   "cell_type": "code",
   "execution_count": 73,
   "metadata": {},
   "outputs": [
    {
     "name": "stdout",
     "output_type": "stream",
     "text": [
      "1 1 Artificial Intelligence\n",
      "2 2 Artificial Intelligence\n",
      "3 3 Artificial Intelligence\n",
      "4 4 Artificial Intelligence\n",
      "5 5 Artificial Intelligence\n"
     ]
    }
   ],
   "source": [
    "s1 = Student(1,\"Muhammad Qasim\") # create s1 new object\n",
    "print(Student.counter, s1.counter, Student.subject)\n",
    "s2 = Student(2,\"Asim\")# create s2 new object\n",
    "print(Student.counter, s1.counter, Student.subject)\n",
    "s3 = Student(3,\"Asif Khan\")# create s3 new object\n",
    "print(Student.counter, s1.counter, Student.subject)\n",
    "s4 = Student(4,\"Konain\")\n",
    "print(Student.counter, s1.counter, Student.subject)\n",
    "s5 = Student(5,\"Kamran\")\n",
    "print(Student.counter, s1.counter, Student.subject)"
   ]
  },
  {
   "cell_type": "code",
   "execution_count": 74,
   "metadata": {},
   "outputs": [
    {
     "name": "stdout",
     "output_type": "stream",
     "text": [
      "11:19 am\n",
      "11:19 am\n",
      "11:19 am\n",
      "11:19 am\n",
      "11:19 am\n",
      "5\n",
      "Artificial Intelligence\n",
      "11:19 am\n"
     ]
    }
   ],
   "source": [
    "print(s1.time)\n",
    "print(s2.time)\n",
    "print(s3.time)\n",
    "print(s4.time)\n",
    "print(s5.time)\n",
    "\n",
    "print(Student.counter)\n",
    "print(Student.subject)\n",
    "print(Student.time)"
   ]
  },
  {
   "cell_type": "markdown",
   "metadata": {},
   "source": [
    "# Class13 02 Oct 2022\n",
    "## Inheritance"
   ]
  },
  {
   "cell_type": "raw",
   "metadata": {},
   "source": [
    "https://peps.python.org/pep-0008/"
   ]
  },
  {
   "cell_type": "code",
   "execution_count": 6,
   "metadata": {},
   "outputs": [],
   "source": [
    "class Parent():\n",
    "    def __init__(self):\n",
    "        self.id = None\n",
    "        self.name = None\n",
    "        self.fname = None\n",
    "        \n",
    "    def eat(self,food):\n",
    "        return f\"{self.name} is eating {food}\"\n",
    "    \n",
    "    def speak(self, words, language=\"Urdu\"):\n",
    "        return f\"{words}. language = {language}\"\n",
    "\n",
    "class Child(Parent):\n",
    "    pass"
   ]
  },
  {
   "cell_type": "code",
   "execution_count": 7,
   "metadata": {},
   "outputs": [
    {
     "name": "stdout",
     "output_type": "stream",
     "text": [
      "Muhammad Qasim\n",
      "1\n",
      "Muhammad Aslam\n",
      "Muhammad Qasim is eating Pizza\n",
      "Pakistan zinda Bad!. language = Urdu\n"
     ]
    }
   ],
   "source": [
    "p1 = Parent()\n",
    "p1.id = 1\n",
    "p1.name = \"Muhammad Qasim\"\n",
    "p1.fname = \"Muhammad Aslam\"\n",
    "\n",
    "print(p1.name)\n",
    "print(p1.id)\n",
    "print(p1.fname)\n",
    "print(p1.eat(\"Pizza\"))\n",
    "print(p1.speak(\"Pakistan zinda Bad!\"))"
   ]
  },
  {
   "cell_type": "code",
   "execution_count": 8,
   "metadata": {},
   "outputs": [
    {
     "name": "stdout",
     "output_type": "stream",
     "text": [
      "Ahtisham\n",
      "1\n",
      "Muhammad Qasim\n",
      "Ahtisham is eating Pizza\n"
     ]
    }
   ],
   "source": [
    "c1 = Child() # child class intance (object)\n",
    "c1.id = 1\n",
    "c1.name = \"Ahtisham\"\n",
    "c1.fname = \"Muhammad Qasim\"\n",
    "\n",
    "print(c1.name)\n",
    "print(c1.id)\n",
    "print(c1.fname)\n",
    "print(c1.eat(\"Pizza\"))"
   ]
  },
  {
   "cell_type": "markdown",
   "metadata": {},
   "source": [
    "### Inheritance example2\n",
    "* add some new methods in Child class"
   ]
  },
  {
   "cell_type": "code",
   "execution_count": 9,
   "metadata": {},
   "outputs": [],
   "source": [
    "class Parent():\n",
    "    def __init__(self):\n",
    "        self.id = None\n",
    "        self.name = None\n",
    "        self.fname = None\n",
    "        \n",
    "    def eat(self,food):\n",
    "        return f\"{self.name} is eating {food}\"\n",
    "    \n",
    "    def speak(self, words, language=\"Urdu\"):\n",
    "        return f\"{words}. language = {language}\"\n",
    "\n",
    "class Child(Parent):\n",
    "    def walk(self, distance):\n",
    "        return f\"{self.name} has covered {distance}\"\n",
    "    \n",
    "    def play(self, game):\n",
    "        return f\"{self.name} is playing {game}\""
   ]
  },
  {
   "cell_type": "code",
   "execution_count": 13,
   "metadata": {},
   "outputs": [
    {
     "name": "stdout",
     "output_type": "stream",
     "text": [
      "['eat', 'fname', 'id', 'name', 'speak']\n"
     ]
    }
   ],
   "source": [
    "p1 = Parent()\n",
    "\n",
    "print([i for i in dir(p1) if '_' not in i])# methods and attributes"
   ]
  },
  {
   "cell_type": "code",
   "execution_count": 14,
   "metadata": {},
   "outputs": [
    {
     "name": "stdout",
     "output_type": "stream",
     "text": [
      "['eat', 'fname', 'id', 'name', 'play', 'speak', 'walk']\n"
     ]
    }
   ],
   "source": [
    "c1 = Child()\n",
    "\n",
    "print([i for i in dir(c1) if '_' not in i])# methods and attributes"
   ]
  },
  {
   "cell_type": "code",
   "execution_count": 15,
   "metadata": {},
   "outputs": [
    {
     "name": "stdout",
     "output_type": "stream",
     "text": [
      "Muhammad Qasim\n",
      "1\n",
      "Muhammad Aslam\n",
      "Muhammad Qasim is eating Pizza\n",
      "Pakistan zinda Bad!. language = Urdu\n"
     ]
    }
   ],
   "source": [
    "p1 = Parent()\n",
    "p1.id = 1\n",
    "p1.name = \"Muhammad Qasim\"\n",
    "p1.fname = \"Muhammad Aslam\"\n",
    "\n",
    "print(p1.name)\n",
    "print(p1.id)\n",
    "print(p1.fname)\n",
    "print(p1.eat(\"Pizza\"))\n",
    "print(p1.speak(\"Pakistan zinda Bad!\"))"
   ]
  },
  {
   "cell_type": "code",
   "execution_count": 17,
   "metadata": {},
   "outputs": [
    {
     "ename": "AttributeError",
     "evalue": "'Parent' object has no attribute 'play'",
     "output_type": "error",
     "traceback": [
      "\u001b[0;31m----------------------------------------------------------------------\u001b[0m",
      "\u001b[0;31mAttributeError\u001b[0m                       Traceback (most recent call last)",
      "\u001b[0;32m<ipython-input-17-6871b4e1d9e8>\u001b[0m in \u001b[0;36m<module>\u001b[0;34m\u001b[0m\n\u001b[0;32m----> 1\u001b[0;31m \u001b[0mp1\u001b[0m\u001b[0;34m.\u001b[0m\u001b[0mplay\u001b[0m\u001b[0;34m(\u001b[0m\u001b[0;34m\"cricket\"\u001b[0m\u001b[0;34m)\u001b[0m\u001b[0;34m\u001b[0m\u001b[0;34m\u001b[0m\u001b[0m\n\u001b[0m",
      "\u001b[0;31mAttributeError\u001b[0m: 'Parent' object has no attribute 'play'"
     ]
    }
   ],
   "source": [
    "p1.play(\"cricket\")"
   ]
  },
  {
   "cell_type": "code",
   "execution_count": 16,
   "metadata": {},
   "outputs": [
    {
     "name": "stdout",
     "output_type": "stream",
     "text": [
      "Ahtisham\n",
      "1\n",
      "Muhammad Qasim\n",
      "Ahtisham is eating Pizza\n"
     ]
    }
   ],
   "source": [
    "c1 = Child() # child class intance (object)\n",
    "c1.id = 1\n",
    "c1.name = \"Ahtisham\"\n",
    "c1.fname = \"Muhammad Qasim\"\n",
    "\n",
    "print(c1.name)\n",
    "print(c1.id)\n",
    "print(c1.fname)\n",
    "print(c1.eat(\"Pizza\"))"
   ]
  },
  {
   "cell_type": "code",
   "execution_count": 18,
   "metadata": {},
   "outputs": [
    {
     "data": {
      "text/plain": [
       "'Ahtisham is playing Cricket'"
      ]
     },
     "execution_count": 18,
     "metadata": {},
     "output_type": "execute_result"
    }
   ],
   "source": [
    "c1.play(\"Cricket\")"
   ]
  },
  {
   "cell_type": "code",
   "execution_count": 19,
   "metadata": {},
   "outputs": [
    {
     "data": {
      "text/plain": [
       "'Ahtisham has covered 3 KM'"
      ]
     },
     "execution_count": 19,
     "metadata": {},
     "output_type": "execute_result"
    }
   ],
   "source": [
    "c1.walk(\"3 KM\")"
   ]
  },
  {
   "cell_type": "markdown",
   "metadata": {},
   "source": [
    "### Inheritance example2\n",
    "* add some new <b>Attibute</b> in Child class\n",
    "* `super().parent_methods()"
   ]
  },
  {
   "cell_type": "code",
   "execution_count": 15,
   "metadata": {},
   "outputs": [
    {
     "ename": "AttributeError",
     "evalue": "'Child' object has no attribute 'id'",
     "output_type": "error",
     "traceback": [
      "\u001b[0;31m----------------------------------------------------------------------\u001b[0m",
      "\u001b[0;31mAttributeError\u001b[0m                       Traceback (most recent call last)",
      "\u001b[0;32m<ipython-input-15-61c59a9dcadd>\u001b[0m in \u001b[0;36m<module>\u001b[0;34m\u001b[0m\n\u001b[1;32m     17\u001b[0m \u001b[0;34m\u001b[0m\u001b[0m\n\u001b[1;32m     18\u001b[0m \u001b[0mc1\u001b[0m \u001b[0;34m=\u001b[0m \u001b[0mChild\u001b[0m\u001b[0;34m(\u001b[0m\u001b[0;34m)\u001b[0m\u001b[0;34m\u001b[0m\u001b[0;34m\u001b[0m\u001b[0m\n\u001b[0;32m---> 19\u001b[0;31m \u001b[0mprint\u001b[0m\u001b[0;34m(\u001b[0m\u001b[0mc1\u001b[0m\u001b[0;34m.\u001b[0m\u001b[0mid\u001b[0m\u001b[0;34m)\u001b[0m\u001b[0;34m\u001b[0m\u001b[0;34m\u001b[0m\u001b[0m\n\u001b[0m\u001b[1;32m     20\u001b[0m \u001b[0mprint\u001b[0m\u001b[0;34m(\u001b[0m\u001b[0mc1\u001b[0m\u001b[0;34m.\u001b[0m\u001b[0mname\u001b[0m\u001b[0;34m)\u001b[0m\u001b[0;34m\u001b[0m\u001b[0;34m\u001b[0m\u001b[0m\n\u001b[1;32m     21\u001b[0m \u001b[0mprint\u001b[0m\u001b[0;34m(\u001b[0m\u001b[0mc1\u001b[0m\u001b[0;34m.\u001b[0m\u001b[0mfname\u001b[0m\u001b[0;34m)\u001b[0m\u001b[0;34m\u001b[0m\u001b[0;34m\u001b[0m\u001b[0m\n",
      "\u001b[0;31mAttributeError\u001b[0m: 'Child' object has no attribute 'id'"
     ]
    }
   ],
   "source": [
    "class Parent():\n",
    "    def __init__(self):\n",
    "        self.id = None\n",
    "        self.name = None\n",
    "        self.fname = None\n",
    "        \n",
    "    def eat(self,food):\n",
    "        return f\"{self.name} is eating {food}\"\n",
    "    \n",
    "    def speak(self, words, language=\"Urdu\"):\n",
    "        return f\"{words}. language = {language}\"\n",
    "\n",
    "class Child(Parent):\n",
    "    def __init__(self):# Create new child constructor\n",
    "        self.education = None # addtional attribute\n",
    "        self.height = None # additional attribute\n",
    "    \n",
    "c1 = Child()\n",
    "print(c1.id)\n",
    "print(c1.name)\n",
    "print(c1.fname)\n"
   ]
  },
  {
   "cell_type": "code",
   "execution_count": 24,
   "metadata": {},
   "outputs": [],
   "source": [
    "class Parent():\n",
    "    def __init__(self):\n",
    "        self.id = None\n",
    "        self.name = None\n",
    "        self.fname = None\n",
    "        \n",
    "    def eat(self,food):\n",
    "        return f\"{self.name} is eating {food}\"\n",
    "    \n",
    "    def speak(self, words, language=\"Urdu\"):\n",
    "        return f\"{words}. language = {language}\"\n",
    "\n",
    "class Child(Parent):\n",
    "    def __init__(self):# Create new child constructor\n",
    "        super().__init__() # call parent attributes\n",
    "        self.education = None # addtional attribute\n",
    "        self.height = None # additional attribute\n",
    "        \n",
    "    def play(self,game):\n",
    "        return f'{self.name} is playing {game}'\n",
    "    \n",
    "\n"
   ]
  },
  {
   "cell_type": "code",
   "execution_count": 30,
   "metadata": {},
   "outputs": [
    {
     "data": {
      "text/plain": [
       "['__class__',\n",
       " '__delattr__',\n",
       " '__dict__',\n",
       " '__dir__',\n",
       " '__doc__',\n",
       " '__eq__',\n",
       " '__format__',\n",
       " '__ge__',\n",
       " '__getattribute__',\n",
       " '__gt__',\n",
       " '__hash__',\n",
       " '__init__',\n",
       " '__init_subclass__',\n",
       " '__le__',\n",
       " '__lt__',\n",
       " '__module__',\n",
       " '__ne__',\n",
       " '__new__',\n",
       " '__reduce__',\n",
       " '__reduce_ex__',\n",
       " '__repr__',\n",
       " '__setattr__',\n",
       " '__sizeof__',\n",
       " '__str__',\n",
       " '__subclasshook__',\n",
       " '__weakref__',\n",
       " 'eat',\n",
       " 'fname',\n",
       " 'id',\n",
       " 'name',\n",
       " 'speak']"
      ]
     },
     "execution_count": 30,
     "metadata": {},
     "output_type": "execute_result"
    }
   ],
   "source": [
    "dir(p1)"
   ]
  },
  {
   "cell_type": "code",
   "execution_count": 25,
   "metadata": {},
   "outputs": [
    {
     "name": "stdout",
     "output_type": "stream",
     "text": [
      "['eat', 'fname', 'id', 'name', 'speak']\n"
     ]
    }
   ],
   "source": [
    "p1 = Parent()\n",
    "\n",
    "print([i for i in dir(p1) if '_' not in i])# methods and attributes"
   ]
  },
  {
   "cell_type": "code",
   "execution_count": 26,
   "metadata": {},
   "outputs": [
    {
     "name": "stdout",
     "output_type": "stream",
     "text": [
      "['eat', 'education', 'fname', 'height', 'id', 'name', 'play', 'speak']\n"
     ]
    }
   ],
   "source": [
    "c1 = Child()\n",
    "\n",
    "\n",
    "print([i for i in dir(c1) if '_' not in i])# methods and attributes"
   ]
  },
  {
   "cell_type": "code",
   "execution_count": 28,
   "metadata": {},
   "outputs": [],
   "source": [
    "c1.name = \"Ahtisham\""
   ]
  },
  {
   "cell_type": "code",
   "execution_count": 29,
   "metadata": {},
   "outputs": [
    {
     "data": {
      "text/plain": [
       "'Ahtisham is playing Cricket'"
      ]
     },
     "execution_count": 29,
     "metadata": {},
     "output_type": "execute_result"
    }
   ],
   "source": [
    "c1.play(\"Cricket\")"
   ]
  },
  {
   "cell_type": "code",
   "execution_count": 4,
   "metadata": {},
   "outputs": [
    {
     "name": "stdout",
     "output_type": "stream",
     "text": [
      "Muhammad Qasim\n"
     ]
    }
   ],
   "source": [
    "p1.name = \"Muhammad Qasim\"\n",
    "print(p1.name)\n"
   ]
  },
  {
   "cell_type": "code",
   "execution_count": 5,
   "metadata": {},
   "outputs": [
    {
     "ename": "AttributeError",
     "evalue": "'Parent' object has no attribute 'height'",
     "output_type": "error",
     "traceback": [
      "\u001b[0;31m----------------------------------------------------------------------\u001b[0m",
      "\u001b[0;31mAttributeError\u001b[0m                       Traceback (most recent call last)",
      "\u001b[0;32m<ipython-input-5-333bce72ea70>\u001b[0m in \u001b[0;36m<module>\u001b[0;34m\u001b[0m\n\u001b[0;32m----> 1\u001b[0;31m \u001b[0mp1\u001b[0m\u001b[0;34m.\u001b[0m\u001b[0mheight\u001b[0m\u001b[0;34m\u001b[0m\u001b[0;34m\u001b[0m\u001b[0m\n\u001b[0m",
      "\u001b[0;31mAttributeError\u001b[0m: 'Parent' object has no attribute 'height'"
     ]
    }
   ],
   "source": [
    "p1.height "
   ]
  },
  {
   "cell_type": "code",
   "execution_count": 11,
   "metadata": {},
   "outputs": [],
   "source": [
    "c1.education"
   ]
  },
  {
   "cell_type": "code",
   "execution_count": 12,
   "metadata": {},
   "outputs": [
    {
     "name": "stdout",
     "output_type": "stream",
     "text": [
      "MSDS\n"
     ]
    }
   ],
   "source": [
    "c1.education = \"MSDS\"\n",
    "print(c1.education)"
   ]
  },
  {
   "cell_type": "code",
   "execution_count": 13,
   "metadata": {},
   "outputs": [],
   "source": [
    "c1.height "
   ]
  },
  {
   "cell_type": "code",
   "execution_count": 14,
   "metadata": {},
   "outputs": [
    {
     "name": "stdout",
     "output_type": "stream",
     "text": [
      "7 feet\n"
     ]
    }
   ],
   "source": [
    "c1.height = \"7 feet\"\n",
    "print(c1.height)"
   ]
  },
  {
   "cell_type": "markdown",
   "metadata": {},
   "source": [
    "# Multi level Inheritance"
   ]
  },
  {
   "cell_type": "code",
   "execution_count": 44,
   "metadata": {},
   "outputs": [],
   "source": [
    "class Father():\n",
    "    def __init__(self,name):\n",
    "        self.name = name\n",
    "        self.fname = None\n",
    "        self.color = 'whitish'\n",
    "        self.hair_color = 'dark brown'\n",
    "        \n",
    "    def speak(self):\n",
    "        return \"Hahahah!\"\n",
    "    \n",
    "    \n",
    "class Mother():\n",
    "    def __init__(self):\n",
    "        self.height = '5.8 feet'\n",
    "        self.color = 'white'\n",
    "        \n",
    "    def slient(self):\n",
    "        return \"...\"\n",
    "    \n",
    "class Child(Father,Monther):\n",
    "    pass\n",
    "        "
   ]
  },
  {
   "cell_type": "code",
   "execution_count": 47,
   "metadata": {},
   "outputs": [
    {
     "name": "stdout",
     "output_type": "stream",
     "text": [
      "['color', 'fname', 'hair_color', 'name', 'slient', 'speak']\n"
     ]
    }
   ],
   "source": [
    "c1 = Child(\"Qasim\")\n",
    "print([i for i in dir(c1) if \"__\" not in i])"
   ]
  },
  {
   "cell_type": "code",
   "execution_count": 51,
   "metadata": {},
   "outputs": [
    {
     "name": "stdout",
     "output_type": "stream",
     "text": [
      "['color', 'height', 'slient', 'speak']\n"
     ]
    }
   ],
   "source": [
    "class Father():\n",
    "    def __init__(self):\n",
    "        self.name = None\n",
    "        self.fname = None\n",
    "        self.color = 'whitish'\n",
    "        self.hair_color = 'dark brown'\n",
    "        \n",
    "    def speak(self):\n",
    "        return \"Hahahah!\"\n",
    "    \n",
    "    \n",
    "class Mother():\n",
    "    def __init__(self):\n",
    "        self.height = '5.8 feet'\n",
    "        self.color = 'white'\n",
    "        \n",
    "    def slient(self):\n",
    "        return \"...\"\n",
    "    \n",
    "class Child(Mother,Father):\n",
    "    pass\n",
    "        \n",
    "c1 = Child()\n",
    "print([i for i in dir(c1) if \"__\" not in i])"
   ]
  },
  {
   "cell_type": "code",
   "execution_count": null,
   "metadata": {},
   "outputs": [],
   "source": [
    "1. import mother and father attribute\n",
    "2. add two new attributes in child constructor\n"
   ]
  },
  {
   "cell_type": "markdown",
   "metadata": {},
   "source": [
    "# Polymorphism\n",
    "if object behave multiple behaviours, with same method name or operator\n",
    "* Overloading\n",
    "    * within same class\n",
    "    * method name same but pass arguments with different data types or numbers of arguments veriation, pass 1 or many\n",
    "        * old programming syntax<br>\n",
    "        `def add(int num1, int num2): reutrn num1+num2`<br>\n",
    "        `def add(float num1, float num2): reutrn num1+num2`<br>\n",
    "        `def add(int num1, float num2): reutrn num1+num2`<br>\n",
    "        `def add(float num1, int num2): reutrn num1+num2`<br>\n",
    "        \n",
    "* Overriding\n",
    "    * with parent and child "
   ]
  },
  {
   "cell_type": "code",
   "execution_count": 65,
   "metadata": {},
   "outputs": [
    {
     "name": "stdout",
     "output_type": "stream",
     "text": [
      "5\n",
      "5.2\n",
      "5.8\n",
      "5.8\n",
      "10\n",
      "23\n"
     ]
    }
   ],
   "source": [
    "class MyMath():\n",
    "    def __init__(self):\n",
    "        pass\n",
    "    \n",
    "    def my_sum(self,*num):# overloading\n",
    "#         print(num)\n",
    "        return sum(num)\n",
    "\n",
    "    def __del__(self):\n",
    "        print(\"Pakistan zinda bad!\")\n",
    "    \n",
    "    \n",
    "m1 = MyMath()\n",
    "print(m1.my_sum(2,3))# two\n",
    "print(m1.my_sum(2.0,3.2))# two\n",
    "print(m1.my_sum(2,3.8))# two\n",
    "print(m1.my_sum(2.8,3))# two\n",
    "print(m1.my_sum(2,3,5))# three\n",
    "print(m1.my_sum(2,3,9,9))# four\n",
    "\n"
   ]
  },
  {
   "cell_type": "code",
   "execution_count": 66,
   "metadata": {},
   "outputs": [
    {
     "name": "stdout",
     "output_type": "stream",
     "text": [
      "Pakistan zinda bad!\n"
     ]
    }
   ],
   "source": [
    "del m1"
   ]
  },
  {
   "cell_type": "code",
   "execution_count": 67,
   "metadata": {},
   "outputs": [
    {
     "ename": "NameError",
     "evalue": "name 'm1' is not defined",
     "output_type": "error",
     "traceback": [
      "\u001b[0;31m----------------------------------------------------------------------\u001b[0m",
      "\u001b[0;31mNameError\u001b[0m                            Traceback (most recent call last)",
      "\u001b[0;32m<ipython-input-67-7b4f1e4c8b97>\u001b[0m in \u001b[0;36m<module>\u001b[0;34m\u001b[0m\n\u001b[0;32m----> 1\u001b[0;31m \u001b[0mm1\u001b[0m\u001b[0;34m\u001b[0m\u001b[0;34m\u001b[0m\u001b[0m\n\u001b[0m",
      "\u001b[0;31mNameError\u001b[0m: name 'm1' is not defined"
     ]
    }
   ],
   "source": [
    "m1"
   ]
  },
  {
   "cell_type": "markdown",
   "metadata": {},
   "source": [
    "# Overriding"
   ]
  },
  {
   "cell_type": "code",
   "execution_count": 68,
   "metadata": {},
   "outputs": [
    {
     "data": {
      "text/plain": [
       "'Pakistan!'"
      ]
     },
     "execution_count": 68,
     "metadata": {},
     "output_type": "execute_result"
    }
   ],
   "source": [
    "class Mother():\n",
    "    def speak(self):# parent method\n",
    "        return \"hahaha!\" # original line\n",
    "\n",
    "class Child(Mother):\n",
    "    def speak(self):# child method overriding\n",
    "        return \"Pakistan!\"# update line\n",
    "    class SubChild():\n",
    "        pass\n",
    "\n",
    "\n",
    "c1 = Child()\n",
    "c1.speak()"
   ]
  },
  {
   "cell_type": "code",
   "execution_count": 69,
   "metadata": {},
   "outputs": [
    {
     "data": {
      "text/plain": [
       "'hahaha!'"
      ]
     },
     "execution_count": 69,
     "metadata": {},
     "output_type": "execute_result"
    }
   ],
   "source": [
    "m1 = Mother()\n",
    "m1.speak()"
   ]
  },
  {
   "cell_type": "code",
   "execution_count": 70,
   "metadata": {},
   "outputs": [
    {
     "name": "stdout",
     "output_type": "stream",
     "text": [
      "1\n",
      "7\n",
      "9\n"
     ]
    }
   ],
   "source": [
    "a = 1\n",
    "print(a)\n",
    "a = 7\n",
    "print(a)\n",
    "a = 9\n",
    "print(a)"
   ]
  },
  {
   "cell_type": "code",
   "execution_count": 71,
   "metadata": {},
   "outputs": [
    {
     "data": {
      "text/plain": [
       "9"
      ]
     },
     "execution_count": 71,
     "metadata": {},
     "output_type": "execute_result"
    }
   ],
   "source": [
    "a"
   ]
  },
  {
   "cell_type": "code",
   "execution_count": 55,
   "metadata": {},
   "outputs": [
    {
     "data": {
      "text/plain": [
       "__main__.MyMath"
      ]
     },
     "execution_count": 55,
     "metadata": {},
     "output_type": "execute_result"
    }
   ],
   "source": [
    "m1.__class__"
   ]
  },
  {
   "cell_type": "code",
   "execution_count": null,
   "metadata": {},
   "outputs": [],
   "source": []
  },
  {
   "cell_type": "code",
   "execution_count": 54,
   "metadata": {},
   "outputs": [
    {
     "data": {
      "text/plain": [
       "['__class__',\n",
       " '__delattr__',\n",
       " '__dict__',\n",
       " '__dir__',\n",
       " '__doc__',\n",
       " '__eq__',\n",
       " '__format__',\n",
       " '__ge__',\n",
       " '__getattribute__',\n",
       " '__gt__',\n",
       " '__hash__',\n",
       " '__init__',\n",
       " '__init_subclass__',\n",
       " '__le__',\n",
       " '__lt__',\n",
       " '__module__',\n",
       " '__ne__',\n",
       " '__new__',\n",
       " '__reduce__',\n",
       " '__reduce_ex__',\n",
       " '__repr__',\n",
       " '__setattr__',\n",
       " '__sizeof__',\n",
       " '__str__',\n",
       " '__subclasshook__',\n",
       " '__weakref__',\n",
       " 'my_sum']"
      ]
     },
     "execution_count": 54,
     "metadata": {},
     "output_type": "execute_result"
    }
   ],
   "source": [
    "dir(m1)"
   ]
  },
  {
   "cell_type": "code",
   "execution_count": null,
   "metadata": {},
   "outputs": [],
   "source": []
  },
  {
   "cell_type": "markdown",
   "metadata": {},
   "source": [
    "# Attendance"
   ]
  },
  {
   "cell_type": "code",
   "execution_count": 41,
   "metadata": {},
   "outputs": [
    {
     "name": "stdout",
     "output_type": "stream",
     "text": [
      "130\n"
     ]
    }
   ],
   "source": [
    "x = \"\"\"\n",
    "09:04:16 From junaid ali To Everyone : PIAIC174125\n",
    "Junaid ali bhatti\n",
    "09:04:40 From Muhammad Furqan(PIAIC183270) To Everyone : Assalam O Alaikum\n",
    "09:04:51 From Shoaib PIAIC-178354 To Everyone : Shoaib PIAIC178354\n",
    "09:04:52 From Nasrullah (PIAIC 180162) To Everyone : PIAIC180162\n",
    "09:04:58 From Usman Noor PIAIC-188401 To Everyone : PIAIC 188401\n",
    "09:04:59 From Amir Rashid To Everyone : aoa\n",
    "09:05:04 From Sadia To Everyone : piaic180028\n",
    "09:05:08 From Mohammad Javed To Everyone : PIAIC185754\n",
    "MOHAMMAD JAVED\n",
    "09:05:15 From ASIF ALI To Everyone : ASIF ALI\n",
    "09:05:20 From Mohammad Javed To Everyone : Assalamo Alykum\n",
    "09:05:25 From PIAIC172478 To Everyone : PIAIC172478\n",
    "09:05:25 From Amir Rashid To Everyone : PIAIC107890\n",
    "09:06:24 From Raashid To Everyone : quarter k end main show hoga\n",
    "09:06:25 From ASIF ALI To Everyone : ASIF ALI\n",
    "PIAIC183730\n",
    "09:07:56 From Sadia To Everyone : voice to low\n",
    "09:08:09 From Muhammad Furqan(PIAIC183270) To Everyone : PIAIC183270\n",
    "09:08:42 From Gulshan Ali To Everyone : Gulshan Ali PIAIC176719\n",
    "09:08:50 From Syed Amir PIAIC128409 To Everyone : PIAIC128409\n",
    "09:09:01 From Humera Naz To Everyone : PIAIC 173431\n",
    "09:09:36 From Saeed To Everyone : PIAIC131885\n",
    "09:09:38 From PIAIC177535 To Everyone : PIAIC177535\n",
    "09:10:02 From Faizan Muhammad To Everyone : PIAIC189427\n",
    "09:10:20 From Haider Ali-PIAIC179345 To Everyone : PIAIC179345\n",
    "09:10:35 From Syed Jawad [PIAIC185558] To Everyone : PIAIC185558\n",
    "09:13:05 From Muhammad Sadullah - PIAIC178950 To Everyone : PIAIC178950\n",
    "09:13:13 From Mohammad Ali Asif Khan - PIAIC-57947 To Everyone : Mohammad Ali Asif Khan - PIAIC-57947\n",
    "09:13:24 From SHEHZAD PIAIC180057 To Everyone : PIAIC180057\n",
    "09:14:37 From ALI ISMAIL HUSSAIN To Everyone : IOT048687\n",
    "09:14:45 From Shahid PIAIC134239 To Everyone : PIAIC-134239\n",
    "09:15:22 From Ihsan iphone To Everyone : Nida yaseen (PIAIC-183444)\n",
    "09:16:19 From PIAIC183349 Muahhamd Waseem To Everyone : PIAIC183349\n",
    "09:16:22 From RIMSHA KHAN To Everyone : PIAIC174812\n",
    "09:16:51 From PIAIC188523 - Subhan Ahmed To Everyone : PIAIC188523\n",
    "09:17:13 From Moattar Khanum(PIAIC170982) To Everyone : Moattar Khanum - PIAIC170982\n",
    "09:18:05 From Zeeshan Asim : PIAIC55300 To Everyone : PIAIC55300\n",
    "09:19:09 From Neelum Javaid PIAIC 172527 To Everyone : neelum javaid PIAIC 172527\n",
    "09:19:33 From Amna Liaqat PIAIC 133452 To Everyone : Amna Liaqat PIAIC133452\n",
    "09:20:49 From A.Rahman PIAIC150034 To Everyone : PIAIC150034\n",
    "09:21:02 From Ali Raza To Everyone : PIAIC62922\n",
    "09:21:28 From Irtiza Khan [PIAIC 171375] To Everyone : PIAIC171375\n",
    "09:21:30 From Muhammad Farhan Ahsan PIAIC-168894 To Everyone : PIAIC168894\n",
    "09:21:40 From Muhammad Owais PIAIC139392 To Everyone : PIAIC139392\n",
    "09:21:53 From PIAIC149101 sana To Everyone : PIAIC149101\n",
    "09:21:59 From vivo 1901 To Everyone : PIAIC74287\n",
    "09:22:00 From Ali Azam-PIAIC66597 To Everyone : PIAIC66597\n",
    "09:22:03 From Samina-PIAIC52499 To Everyone : PIAIC52499\n",
    "09:23:05 From Zeenat Zakir: Piaic 133802 To Everyone : volume is low\n",
    "09:23:59 From Humera Naz To Everyone : sir, can't hear you well\n",
    "09:24:39 From MOHAMMAD JAVED To Everyone : PIAIC185754\n",
    "09:25:38 From ABDUL BASIT To Everyone : PIAIC 59115\n",
    "09:25:45 From Muhammad Owais PIAIC139392 To Everyone : PIAIC139392\n",
    "09:25:56 From Samsung SM-A325F To Everyone : PIAIC178248\n",
    "09:26:31 From Maah Noor PIAIC168751 To Everyone : PIAIC168751\n",
    "09:27:17 From Kainat PIAIC182352 To Everyone : PIAIC 182352\n",
    "09:27:28 From Syed PIAIC168703 To Everyone : PIAIC 168703\n",
    "09:27:39 From Muhammad Sheraz-PIAIC68522 To Everyone : PIAIC68522\n",
    "09:29:03 From MUHAMMAD USMAN MANZOOR To Everyone : PIAIC119347\n",
    "09:31:07 From Mohammad Ali Asif Khan - PIAIC-57947 To Everyone : PIAIC57947\n",
    "09:36:26 From Asif Rehman PIAIC93717 To Everyone : PIAIC93717\n",
    "09:37:21 From Uzair Ullah To Everyone : PIAIC169405\n",
    "09:37:58 From Asim sharif(PIAIC172797) To Everyone : PIAIC172797\n",
    "09:38:29 From Maha Ilyas 2874 To Everyone : PIAIC 177982\n",
    "09:41:08 From Syed Jawad [PIAIC185558] To Everyone : best practice\n",
    "09:42:15 From M.Qasim(Teacher) To Everyone : https://peps.python.org/pep-0008/\n",
    "09:43:32 From Noman Saleem khan PIAIC-131844 To Everyone : PIAIC-131844\n",
    "09:44:08 From Adnan Ul Haq (PIAIC-103786) To Everyone : PIAIC103786\n",
    "09:44:43 From kashif.parvez To Everyone : Kashif PIAIC101207\n",
    "09:45:45 From Sheeraz PIAIC 132123 To Everyone : PIAIC132123\n",
    "09:46:48 From Noman Ali PIAIC 180111 To Everyone : PIAIC180111\n",
    "09:48:18 From Ali Raza To Everyone : PIAIC62922\n",
    "09:50:32 From M ADNAN SAEED (PIAIC-174751) To Everyone : PIAIC174751\n",
    "09:52:28 From M ADNAN SAEED (PIAIC-174751) To M.Qasim(Teacher)(Privately) : AoA, Sir, kindly accept my emg. class leaving. Thanks\n",
    "09:53:03 From Muhammad Shahid-AIC005259 To Everyone : PIAIC005259\n",
    "09:53:17 From Salman Nayyer To Everyone : PIAIC180996\n",
    "10:01:58 From LITTLE SPARROW To Everyone : Sir additional k spell theek kr lijiye\n",
    "10:05:07 From Saeed To M.Qasim(Teacher)(Privately) : ctrl forward ki konsi key hai\n",
    "10:06:19 From PIAIC172478 To Everyone : PIAIC172478\n",
    "10:07:51 From M.Qasim(Teacher) To Everyone : https://github.com/adam-p/markdown-here/wiki/Markdown-Cheatsheet\n",
    "10:08:35 From Mehdi Abbas To Everyone : https://us06web.zoom.us/j/85906490886?pwd=VExtSG92UjRsakd5ejZtVWk3NEUvUT09\n",
    "10:08:52 From Ali Raza To Everyone : PIAIC62922\n",
    "10:09:15 From M. Noman Farooq To Everyone : BCC001845\n",
    "10:09:25 From MOHAMMAD JAVED To Everyone : SIR your voice is clear hay\n",
    "10:09:37 From Syed Jawad [PIAIC185558] To Everyone : voice a kha rhe h\n",
    "10:09:48 From khurshed To Everyone : no voice\n",
    "10:11:18 From ZIA (PIAIC125141) To Everyone : fine\n",
    "10:11:23 From MOHAMMAD JAVED To Everyone : yes sir\n",
    "10:14:16 From Kashif Khan 143001 To Everyone : PIAIC 143001\n",
    "10:14:29 From Amir Rashid To Everyone : ok\n",
    "10:15:36 From Muhammad Mehroz To Everyone : PIAIC131496\n",
    "10:17:27 From Abdul rafiu To Everyone : PIAIC164489\n",
    "10:17:30 From Muhammad Sadullah - PIAIC178950 To Everyone : PIAIC178950\n",
    "10:18:52 From PIAIC177535 To Everyone : PIAIC177535\n",
    "10:21:25 From PIAIC172478 To Everyone : PIAIC172478\n",
    "10:28:19 From Raashid To Everyone : PIAIC55486\n",
    "10:28:42 From MOHAMMAD JAVED To Everyone : self mean?\n",
    "10:28:46 From Yousaf-173795 To Everyone : PIAIC173795\n",
    "10:29:43 From Mohsin Naseer PIAIC68513 To Everyone : PIAIC68513\n",
    "10:30:11 From Zaki To Everyone : PIAIC 172541\n",
    "10:33:40 From Syed Jawad [PIAIC185558] To Everyone : PIAIC185558\n",
    "10:38:51 From Agha ALi PIAIC164763 To Everyone : PIAIC164763\n",
    "10:40:44 From Ali Raza To Everyone : PIAIC62922\n",
    "10:40:46 From Muhammad Sheraz-PIAIC68522 To Everyone : PIAIC68522\n",
    "10:40:50 From PIAIC172478 To Everyone : PIAIC172478\n",
    "10:40:53 From Syed PIAIC168703 To Everyone : PIAIC168703\n",
    "10:40:58 From Assad Mahmood (PIAIC179144) To Everyone : PIAIC179144\n",
    "10:40:58 From Moeed Masood PIAIC185253 To Everyone : PIAIC185253\n",
    "10:40:59 From Salman Nayyer To Everyone : PIAIC180996\n",
    "10:40:59 From Amna Liaqat PIAIC 133452 To Everyone : PIAIC133452\n",
    "10:41:00 From Taqwa Khaliq To Everyone : PIAIC_173701 Taqwa\n",
    "10:41:01 From (PIAIC-189416) Muhammad Murtaza Khan To Everyone : PIAIC189416\n",
    "10:41:01 From PIAIC172478 To Everyone : PIAIC172478\n",
    "10:41:02 From Saeed To Everyone : PIAIC131885\n",
    "10:41:02 From Usman Noor PIAIC-188401 To Everyone : PIAIC 188401\n",
    "10:41:02 From PIAIC149101 sana To Everyone : PIAIC149101\n",
    "10:41:03 From Muhammad Mehroz To Everyone : PIAIC131496\n",
    "10:41:03 From Muhammad Sheraz-PIAIC68522 To Everyone : PIAIC68522\n",
    "10:41:03 From Amir Rashid To Everyone : PIAIC107890\n",
    "10:41:04 From Samina-PIAIC52499 To Everyone : PIAIC52499\n",
    "10:41:04 From Zaki To Everyone : PIAIC 172541\n",
    "10:41:04 From Muhammad Mehroz To Everyone : PIAIC131496\n",
    "10:41:04 From Nadeem ali Jamro PIAIC166522 To Everyone : PIAIC166522\n",
    "10:41:05 From Syed Jawad [PIAIC185558] To Everyone : PIAIC185558\n",
    "10:41:05 From Assad Mahmood (PIAIC179144) To Everyone : PIAIC179144\n",
    "10:41:06 From Muhammad Sheraz-PIAIC68522 To Everyone : PIAIC68522\n",
    "10:41:06 From Maah Noor PIAIC168751 To Everyone : PIAIC168751\n",
    "10:41:06 From Muhammad Sadullah - PIAIC178950 To Everyone : PIAIC178950\n",
    "10:41:07 From Farhan-PIAIC186218 To Everyone : PIAIC186218\n",
    "10:41:07 From Zeeshan : PIAIC55300 To Everyone : PIAIC55300\n",
    "10:41:08 From Saeed To Everyone : PIAIC131885\n",
    "10:41:08 From Majid Naru PIAIC-187644 To Everyone : PIAIC187644\n",
    "10:41:08 From PIAIC183349 Muahhamd Waseem To Everyone : PIAIC183349\n",
    "10:41:09 From SHEHZAD PIAIC180057 To Everyone : PIAIC180057\n",
    "10:41:09 From fozia-shareen-piaic-165097 To Everyone : PIAIC 165097 Fozia\n",
    "10:41:09 From Talha Munir To Everyone : PIAIC173761\n",
    "10:41:10 From Syed Amir PIAIC128409 To Everyone : PIAIC128409\n",
    "10:41:10 From Hamza To Everyone : PIAIC173652\n",
    "10:41:11 From Yousaf-173795 To Everyone : PIAIC173795\n",
    "10:41:11 From Uzair Ullah To Everyone : PIAIC169405\n",
    "10:41:11 From Kashif To Everyone : PIAIC181638\n",
    "10:41:11 From Ali Asar To Everyone : PIAIC188720\n",
    "10:41:13 From Muhammad Sadullah - PIAIC178950 To Everyone : PIAIC178950\n",
    "10:41:13 From Homesaira mehmood To Everyone : PIAIC176439\n",
    "10:41:13 From Muhammad Sheraz-PIAIC68522 To Everyone : PIAIC68522\n",
    "10:41:14 From Sehrish Fatima To Everyone : PIAIC174229\n",
    "10:41:15 From PIAIC-99685 To Everyone : PIAIC-99685\n",
    "10:41:15 From Sadia To Everyone : Piaic180028\n",
    "10:41:16 From Amna Liaqat PIAIC 133452 To Everyone : PIAIC133452\n",
    "10:41:17 From Asif Rehman PIAIC93717 To Everyone : PIAIC93717\n",
    "10:41:17 From Muhammad Shahid-AIC005259 To Everyone : PIAIC005259\n",
    "10:41:18 From Muhammad Faizan To Everyone : piaic172328\n",
    "10:41:18 From Muhammad Furqan(PIAIC183270) To Everyone : PIAIC183270\n",
    "10:41:18 From Zeeshan : PIAIC55300 To Everyone : PIAIC55300\n",
    "10:41:18 From Muhammad Sheraz-PIAIC68522 To Everyone : PIAIC68522\n",
    "10:41:19 From MUHAMMAD USMAN MANZOOR To Everyone : PIAIC119347\n",
    "10:41:19 From Wardah(PIAIC172641) To Everyone : PIAIC172641\n",
    "10:41:19 From Aisha Siddiqua To Everyone : PIAIC181221\n",
    "10:41:20 From PIAIC149101 sana To Everyone : PIAIC149101\n",
    "10:41:20 From Mehdi Abbas To Everyone : PIAIC187382\n",
    "10:41:21 From MOHAMMAD JAVED To Everyone : piAIC185754\n",
    "10:41:21 From Muhammad Uzair-177637 To Everyone : PIAIC177637\n",
    "10:41:21 From vivo 1901 To Everyone : PIAIC74287\n",
    "10:41:21 From Muneeb(PIAIC173219) To Everyone : PIAIC173219\n",
    "10:41:22 From (PIAIC-189416) Muhammad Murtaza Khan To Everyone : PIAIC189416\n",
    "10:41:22 From Ashraf Makhdoom Syed To Everyone : PIAIC155482\n",
    "10:41:22 From Afrooz Alam (PIAIC89531) To Everyone : PIAIC89531\n",
    "10:41:22 From Shoaib Ahmed Khan To Everyone : PIAIC159833\n",
    "10:41:22 From Asim sharif(PIAIC172797) To Everyone : PIAIC172797\n",
    "10:41:23 From Salma Asif To Everyone : PIAIC176945\n",
    "10:41:23 From Muhammad Sheraz-PIAIC68522 To Everyone : PIAIC68522\n",
    "10:41:24 From Faisal Bashir To Everyone : PIAIC177802\n",
    "10:41:24 From Shahid PIAIC134239 To Everyone : PIAIC-134239\n",
    "10:41:24 From Muhammad Furqan(PIAIC183270) To Everyone : PIAIC183270\n",
    "10:41:25 From Afrooz Alam (PIAIC89531) To Everyone : PIAIC89531\n",
    "10:41:25 From Wajeeha Ayaz To Everyone : PIAIC 175646\n",
    "10:41:26 From Moattar Khanum(PIAIC170982) To Everyone : PIAIC170982\n",
    "10:41:27 From PIAIC-99685 To Everyone : PIAIC-99685\n",
    "10:41:27 From Shoaib PIAIC-178354 To Everyone : Shoaib PIAIC178354\n",
    "10:41:28 From Aneeq To Everyone : PIAIC172924\n",
    "10:41:29 From Nasrullah (PIAIC 180162) To Everyone : PIAIC180162\n",
    "10:41:29 From Muhammad’s iPhone To Everyone : PIAIC49583\n",
    "10:41:30 From Naeem Balagam To Everyone : IOT045587\n",
    "10:41:30 From Muhammad Faizan To Everyone : piaic172328\n",
    "10:41:31 From syed ibad ur rehman To Everyone : PIAIC166678\n",
    "10:41:31 From piaic 178547 To Everyone : PIAIC178547\n",
    "10:41:32 From Ashraf Makhdoom Syed To Everyone : PIAIC155482\n",
    "10:41:32 From Zeenat Zakir: Piaic 133802 To Everyone : PIAIC133802\n",
    "10:41:32 From Qadeer Ahmed - 163577 To Everyone : PIAIC163577\n",
    "10:41:33 From 187118-Muhammad  Imran Wali - To Everyone : PIAIC187118\n",
    "10:41:34 From Azhar Piaic179898 To Everyone : Azhar Piaic179898\n",
    "10:41:34 From Agha ALi PIAIC164763 To Everyone : PIAIC164763\n",
    "10:41:34 From Moattar Khanum(PIAIC170982) To Everyone : PIAIC170982\n",
    "10:41:34 From Neelum Javaid 0828716 To Everyone : PIAIC 172527\n",
    "10:41:34 From PIAIC177535 To Everyone : PIAIC177535\n",
    "10:41:36 From ZIA (PIAIC125141) To Everyone : PIAIC125141\n",
    "10:41:37 From HuzaifaTahir PIAIC60925 To Everyone : PIAIC60925\n",
    "10:41:37 From khurshed To Everyone : PIAIC157450\n",
    "10:41:38 From Muhammad’s iPhone To Everyone : PIAIC49583\n",
    "10:41:38 From Aisha Siddiqua To Everyone : PIAIC181221\n",
    "10:41:38 From Muhammad Furqan(PIAIC183270) To Everyone : PIAIC183270\n",
    "10:41:38 From syed ibad ur rehman To Everyone : PIAIC166678\n",
    "10:41:39 From MOHAMMAD JAVED To Everyone : PIAIC185754\n",
    "10:41:39 From Ali Asar To Everyone : PIAIC187258\n",
    "10:41:40 From Maha Ilyas 2874 To Everyone : PIAIC 177982\n",
    "10:41:41 From Asim sharif(PIAIC172797) To Everyone : PIAIC172797\n",
    "10:41:41 From Haseeb Iqbal -PIAIC 180144 To Everyone : PIAIC180144\n",
    "10:41:43 From Afnan 182978 To Everyone : piaic 182978\n",
    "10:41:46 From Usama Rehman To Everyone : PIAIC171408\n",
    "10:41:47 From Abdul rafiu To Everyone : PIAIC164489\n",
    "10:41:47 From Ali Raza To Everyone : PIAIC6222\n",
    "10:41:48 From Muhammad Sadullah - PIAIC178950 To Everyone : PIAIC178950\n",
    "10:41:50 From PIAIC188523 - Subhan Ahmed To Everyone : PIAIC188523\n",
    "10:41:51 From Sadia To Everyone : PIAIC180028\n",
    "10:41:57 From Ali Raza To Everyone : PIAIC62922\n",
    "10:41:57 From Adil Naveed PIAIC167854 To Everyone : PIAIC167854\n",
    "10:41:57 From MOHAMMAD JAVED To Everyone : PIAIC185754\n",
    "10:41:59 From Aisha Siddiqua To Everyone : PIAIC181221\n",
    "10:42:03 From Ali Azam-PIAIC66597 To Everyone : PIAIC66597\n",
    "10:42:06 From Adil Naveed PIAIC167854 To Everyone : PIAIC167854\n",
    "10:42:13 From Zeenat Zakir: Piaic 133802 To Everyone : PIAIC133802\n",
    "10:42:14 From Maaz-PIAIC182239 To Everyone : PIAIC182239\n",
    "10:42:14 From cz 3 To Everyone : PIAIC 125164\n",
    "10:42:20 From Ali Azam-PIAIC66597 To Everyone : PIAIC66597\n",
    "10:42:21 From Muhammad Sheraz-PIAIC68522 To Everyone : PIAIC68522\n",
    "10:42:26 From Neelum Javaid 0828716 To Everyone : PIAIC172527\n",
    "10:42:31 From Hasnain Munir To Everyone : PIAIC187272\n",
    "10:42:32 From Sehrish Fatima To Everyone : PIAIC174229\n",
    "10:42:37 From Hasnain Munir To Everyone : PIAIC-187272\n",
    "10:42:42 From Aamna waheed To Everyone : PIAIC 177022\n",
    "10:42:45 From Hassan Ahmed - PIAIC 180140 To Everyone : PIAIC180140\n",
    "10:43:07 From vivo 1901 To Everyone : PIAIC74287\n",
    "10:43:17 From Irtiza Khan [PIAIC 171375] To Everyone : PIAIC171375\n",
    "10:43:55 From Jawad Ahmed PIAIC96020 To Everyone : piaic 96020\n",
    "10:43:56 From Humera Naz To Everyone : piaic 173431\n",
    "10:43:58 From Assad Mahmood (PIAIC179144) To Everyone : PIAIC179144\n",
    "10:44:17 From Samsung SM-A325F To Everyone : PIAIC178248\n",
    "10:44:22 From Shehzad Anjum 185122 To Everyone : PIAIC185122\n",
    "10:44:26 From Shehzad Anjum 185122 To Everyone : sorry having some issue\n",
    "10:44:28 From Ali Raza To Everyone : PIAIC62922\n",
    "10:44:28 From Musa Abkr To Everyone : PIAIC116498\n",
    "10:44:31 From Jawad Ahmed PIAIC96020 To Everyone : piaic96020\n",
    "10:44:39 From PIAIC172478 To Everyone : PIAIC172478\n",
    "10:44:42 From Zeeshan : PIAIC55300 To Everyone : PIAIC55300\n",
    "10:44:45 From Mohsin Naseer PIAIC68513 To Everyone : PIAIC68513\n",
    "10:45:07 From Irfan Ahmed - (PIAIC178547) To Everyone : PIAIC178547\n",
    "10:45:10 From Imran Khalid To Everyone : PIAIC185636\n",
    "10:45:12 From Dr. Engr. Bhagwan Das To Everyone : PIAIC96879\n",
    "10:45:46 From ALI ISMAIL HUSSAIN To Everyone : IOT048687\n",
    "10:46:04 From Muhammad Zubair (29) To Everyone : PIAIC178520\n",
    "10:46:08 From Raashid To Everyone : PIAIC55486\n",
    "10:46:53 From Bilal Chaudhry PIAIC176168 To Everyone : PIAIC176168\n",
    "10:46:56 From Abdul Qadar To Everyone : PIAIC172941\n",
    "10:47:03 From Muhammad Owais PIAIC139392 To Everyone : PIAIC139392\n",
    "10:47:04 From PIAIC 183459 Irfan Ahmed To Everyone : 183459\n",
    "10:47:44 From Syed PIAIC168703 To Everyone : .* u inserted *.\n",
    "10:48:21 From Irfan Ahmed - (PIAIC178547) To Everyone : () brakets missing\n",
    "10:48:30 From Abdul Saboor Zaman To Everyone : PIAIC189261\n",
    "10:49:35 From Irfan Ahmed - (PIAIC178547) To Everyone : * = 0 or any times\n",
    "10:49:45 From Kainat PIAIC182352 To Everyone : piaic182352\n",
    "10:50:18 From Irfan Ahmed To Everyone : 183459\n",
    "10:50:43 From ASIF ALI To Everyone : ASIF ALI\n",
    "PIAIC 183730\n",
    "10:51:49 From ALI ISMAIL HUSSAIN To Everyone : IOT048687\n",
    "10:52:21 From Bilal Chaudhry PIAIC176168 To Everyone : PIAIC176168\n",
    "10:52:23 From ALI ISMAIL HUSSAIN To Everyone : IOT048687\n",
    "10:52:25 From Kainat PIAIC182352 To Everyone : piaic 182352\n",
    "10:52:26 From Abdul Saboor Zaman To Everyone : PIAIC189261\n",
    "10:52:27 From Irfan Ahmed To Everyone : 183459\n",
    "10:52:30 From Muhammad Uzair-177637 To Everyone : 177637\n",
    "10:52:32 From Muhammad Zubair (29) To Everyone : PIAIC 178520\n",
    "10:52:33 From Wardah(PIAIC172641) To Everyone : PIAIC172641\n",
    "10:52:36 From HuzaifaTahir PIAIC60925 To Everyone : PIAIC60925\n",
    "10:52:44 From Uzair Ullah To Everyone : 169405\n",
    "10:52:44 From Irfan Ahmed To Everyone : PIAIC183459\n",
    "10:52:46 From Muhammad Shahid-AIC005259 To Everyone : PIAIC005259\n",
    "10:52:50 From Abdul Saboor Zaman To Everyone : electricity disconnected\n",
    "10:52:58 From Nasrullah (PIAIC 180162) To Everyone : PIAIC180162\n",
    "10:53:04 From Uzair Ullah To Everyone : PIAIC169405\n",
    "10:53:04 From Abdul Qadar To Everyone : PIAIC172941\n",
    "10:53:05 From Irfan Ahmed To Everyone : signal problem\n",
    "10:53:08 From Muhammad Owais PIAIC139392 To Everyone : PIAIC139392\n",
    "10:53:10 From Muhammad Owais PIAIC139392 To Everyone : PIAIC139392\n",
    "10:53:14 From sohaib PIAIC67260 To Everyone : PIAIC67260\n",
    "10:53:25 From Muhammad Owais PIAIC139392 To Everyone : PIAIC139392\n",
    "10:53:25 From Irtiza Khan [PIAIC 171375] To Everyone : PIAIC171375\n",
    "10:53:27 From Raashid To Everyone : PIAIC55486\n",
    "10:53:29 From Bilal Chaudhry PIAIC176168 To Everyone : PIAIC176168\n",
    "10:53:30 From ASIF ALI To Everyone : ASIF ALI\n",
    "PIAIC183730\n",
    "10:53:31 From Syed Jawad [PIAIC185558] To Everyone : PIAIC185558\n",
    "10:53:32 From Aneeq To Everyone : PIAIC172924\n",
    "10:53:34 From Ali Asar To Everyone : PIAIC187258\n",
    "\"\"\"\n",
    "\n",
    "import re\n",
    "\n",
    "numbers = list(set(re.findall(r'(\\d{5,6})\\b',x)))\n",
    "print(len(numbers))"
   ]
  },
  {
   "cell_type": "code",
   "execution_count": null,
   "metadata": {},
   "outputs": [],
   "source": []
  }
 ],
 "metadata": {
  "kernelspec": {
   "display_name": "Python 3",
   "language": "python",
   "name": "python3"
  },
  "language_info": {
   "codemirror_mode": {
    "name": "ipython",
    "version": 3
   },
   "file_extension": ".py",
   "mimetype": "text/x-python",
   "name": "python",
   "nbconvert_exporter": "python",
   "pygments_lexer": "ipython3",
   "version": "3.7.6"
  }
 },
 "nbformat": 4,
 "nbformat_minor": 4
}
