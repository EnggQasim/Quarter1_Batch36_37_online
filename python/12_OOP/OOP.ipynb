{
 "cells": [
  {
   "cell_type": "markdown",
   "metadata": {},
   "source": [
    "# OOP\n",
    "* object\n",
    "    * everything in the world which has name that is called object\n",
    "        * Methods (function, procedure, sub routine)\n",
    "            * performe any action\n",
    "                * must be change some attribute\n",
    "                * or return something\n",
    "        * Attributes (properties, fields, characterstics)\n",
    "            * store some values for perticular time\n",
    " \n",
    " # Class\n",
    " * Blue print\n",
    " * Capitalize each word (ClassName)\n",
    " * constructor (Method)\n",
    "     * always call when we create new object\n"
   ]
  },
  {
   "cell_type": "markdown",
   "metadata": {},
   "source": [
    "## Linear programming"
   ]
  },
  {
   "cell_type": "code",
   "execution_count": 1,
   "metadata": {},
   "outputs": [],
   "source": [
    "qasim_name = \"Muhammad qasim\"\n",
    "qasim_fname= \"Muhammad Aslam\"\n",
    "qasim_education = \"MSDS\"\n",
    "\n",
    "def qasim_speak():pass\n",
    "def qasim_eat():pass\n",
    "def qasim_sleep():pass\n",
    "\n",
    "\n",
    "\n",
    "asim_name = \"Muhammad Asim\"\n",
    "asim_fname= \"Muhammad Aslam\"\n",
    "asim_education = \"MSDS\"\n",
    "\n",
    "def asim_speak():pass\n",
    "def asim_eat():pass\n",
    "def asim_sleep():pass\n",
    "\n",
    "\n",
    "asif_name = \"Muhammad Asif\"\n",
    "asif_fname= \"Muhammad Aslam\"\n",
    "asif_education = \"MSDS\"\n",
    "\n",
    "def asif_speak():pass\n",
    "def asif_eat():pass\n",
    "def asif_sleep():pass"
   ]
  },
  {
   "cell_type": "markdown",
   "metadata": {},
   "source": [
    "# OOP\n",
    "* compress code\n",
    "* less computing power/ less storage consume\n",
    "* code management too much simple"
   ]
  },
  {
   "cell_type": "markdown",
   "metadata": {},
   "source": [
    "# Class\n",
    " * Blue print/model/structe/template\n",
    " * Capitalize each word (ClassName) `class Class():pass`\n",
    " * constructor (Method)\n",
    "     * always call when we create new object\n",
    "     * old programming lanugages \n",
    "         * same function name as class\n",
    "     * Python\n",
    "         * `def __init__(self):`\n",
    "         * first argument:\n",
    "             * first argument should be any name\n",
    "                 * always keep this during creating time\n",
    "                 * but always ingore during calling\n",
    "                 * always manage each object with individual memory blocks\n",
    "                 * self\n",
    "                 * this\n",
    "                 * abc\n",
    "                 * xyz\n",
    "         * all attribute should be write in constructor body\n",
    "             * `self.attribute_name` (within a class)\n",
    "             \n",
    " * destructor (method)\n",
    "     * always call when we delete object\n",
    "     \n",
    "\n",
    " * Method\n",
    " * Attribute\n",
    " * class variable"
   ]
  },
  {
   "cell_type": "code",
   "execution_count": 4,
   "metadata": {},
   "outputs": [],
   "source": [
    "class Student(): # class\n",
    "    def __init__(self, sid, sname): # constructor method\n",
    "        #self.attribute_name = constructor_local_variable\n",
    "        self.id = sid \n",
    "        self.name = sname # attribute\n",
    "        self.education = None # attribute\n",
    "        self.address = None # attribute\n",
    "        self.age = None # attribute\n",
    "        self.user = sname\n",
    "        self.password = \"123\"\n",
    "    \n",
    "    def login(self,user,pws): # Method\n",
    "        if self.user == user and self.password == pws:\n",
    "            return \"Valid User\"\n",
    "        else:\n",
    "            return \"Not Valid user\"\n",
    "        \n",
    "    def display_information(self): # method\n",
    "        cards = f\"\"\"\n",
    "        PIAIC Student Card\n",
    "        Registration No: {self.id}\n",
    "        Name: {self.name}\n",
    "        Education : {self.education}\n",
    "        \"\"\"\n",
    "        \n",
    "        return cards\n"
   ]
  },
  {
   "cell_type": "code",
   "execution_count": 7,
   "metadata": {},
   "outputs": [],
   "source": [
    "# ClassName(arg1,arg2,..) we ignore slef argument calling time\n",
    "\n",
    "s1 = Student(1,\"Muhammad Qasim\") # create s1 new object\n",
    "s2 = Student(2,\"Asim\")# create s2 new object\n",
    "s3 = Student(3,\"Asif Khan\")# create s3 new object\n",
    "s4 = Student(4,\"Konain\")\n",
    "s5 = Student(5,\"Kamran\")"
   ]
  },
  {
   "cell_type": "code",
   "execution_count": 8,
   "metadata": {},
   "outputs": [
    {
     "name": "stdout",
     "output_type": "stream",
     "text": [
      "Muhammad Qasim 1\n",
      "Asim 2\n",
      "Asif Khan 3\n",
      "Kamran 5\n"
     ]
    }
   ],
   "source": [
    "print(s1.name, s1.id) # call attributes values\n",
    "print(s2.name, s2.id) # object_name.attribute\n",
    "print(s3.name, s3.id)\n",
    "print(s5.name, s5.id)"
   ]
  },
  {
   "cell_type": "code",
   "execution_count": 12,
   "metadata": {},
   "outputs": [
    {
     "data": {
      "text/plain": [
       "'Valid User'"
      ]
     },
     "execution_count": 12,
     "metadata": {},
     "output_type": "execute_result"
    }
   ],
   "source": [
    "s1.login(\"Muhammad Qasim\",\"123\")# call object methods\n",
    "#           object_name.method_name()"
   ]
  },
  {
   "cell_type": "code",
   "execution_count": 15,
   "metadata": {},
   "outputs": [
    {
     "data": {
      "text/plain": [
       "'Not Valid user'"
      ]
     },
     "execution_count": 15,
     "metadata": {},
     "output_type": "execute_result"
    }
   ],
   "source": [
    "s1.login(\"Asim\",\"12345\")"
   ]
  },
  {
   "cell_type": "code",
   "execution_count": 16,
   "metadata": {},
   "outputs": [
    {
     "data": {
      "text/plain": [
       "'Valid User'"
      ]
     },
     "execution_count": 16,
     "metadata": {},
     "output_type": "execute_result"
    }
   ],
   "source": [
    "s2.login(\"Asim\",\"123\")"
   ]
  },
  {
   "cell_type": "code",
   "execution_count": 17,
   "metadata": {},
   "outputs": [
    {
     "data": {
      "text/plain": [
       "'Not Valid user'"
      ]
     },
     "execution_count": 17,
     "metadata": {},
     "output_type": "execute_result"
    }
   ],
   "source": [
    "s2.login(\"Asim\",\"1222223\")"
   ]
  },
  {
   "cell_type": "code",
   "execution_count": 19,
   "metadata": {},
   "outputs": [
    {
     "name": "stdout",
     "output_type": "stream",
     "text": [
      "\n",
      "        PIAIC Student Card\n",
      "        Registration No: 1\n",
      "        Name: Muhammad Qasim\n",
      "        Education : None\n",
      "        \n"
     ]
    }
   ],
   "source": [
    "print(s1.display_information())"
   ]
  },
  {
   "cell_type": "code",
   "execution_count": 20,
   "metadata": {},
   "outputs": [],
   "source": [
    "s1.education = \"MSDS\""
   ]
  },
  {
   "cell_type": "code",
   "execution_count": 21,
   "metadata": {},
   "outputs": [
    {
     "name": "stdout",
     "output_type": "stream",
     "text": [
      "\n",
      "        PIAIC Student Card\n",
      "        Registration No: 1\n",
      "        Name: Muhammad Qasim\n",
      "        Education : MSDS\n",
      "        \n"
     ]
    }
   ],
   "source": [
    "print(s1.display_information())"
   ]
  },
  {
   "cell_type": "code",
   "execution_count": 24,
   "metadata": {},
   "outputs": [
    {
     "data": {
      "text/plain": [
       "['__class__',\n",
       " '__delattr__',\n",
       " '__dict__',\n",
       " '__dir__',\n",
       " '__doc__',\n",
       " '__eq__',\n",
       " '__format__',\n",
       " '__ge__',\n",
       " '__getattribute__',\n",
       " '__gt__',\n",
       " '__hash__',\n",
       " '__init__',\n",
       " '__init_subclass__',\n",
       " '__le__',\n",
       " '__lt__',\n",
       " '__module__',\n",
       " '__ne__',\n",
       " '__new__',\n",
       " '__reduce__',\n",
       " '__reduce_ex__',\n",
       " '__repr__',\n",
       " '__setattr__',\n",
       " '__sizeof__',\n",
       " '__str__',\n",
       " '__subclasshook__',\n",
       " '__weakref__',\n",
       " 'address',\n",
       " 'age',\n",
       " 'display_information',\n",
       " 'education',\n",
       " 'id',\n",
       " 'login',\n",
       " 'name',\n",
       " 'password',\n",
       " 'user']"
      ]
     },
     "execution_count": 24,
     "metadata": {},
     "output_type": "execute_result"
    }
   ],
   "source": [
    "dir(s1)"
   ]
  },
  {
   "cell_type": "code",
   "execution_count": 30,
   "metadata": {},
   "outputs": [
    {
     "name": "stdout",
     "output_type": "stream",
     "text": [
      "['address', 'age', 'education', 'id', 'login', 'name', 'password', 'user']\n",
      "['address', 'age', 'education', 'id', 'login', 'name', 'password', 'user']\n",
      "['address', 'age', 'education', 'id', 'login', 'name', 'password', 'user']\n",
      "['address', 'age', 'education', 'id', 'login', 'name', 'password', 'user']\n",
      "['address', 'age', 'education', 'id', 'login', 'name', 'password', 'user']\n"
     ]
    }
   ],
   "source": [
    "print([i for i in dir(s1) if \"_\" not in i])\n",
    "print([i for i in dir(s2) if \"_\" not in i])\n",
    "print([i for i in dir(s3) if \"_\" not in i])\n",
    "print([i for i in dir(s4) if \"_\" not in i])\n",
    "print([i for i in dir(s5) if \"_\" not in i])"
   ]
  },
  {
   "cell_type": "code",
   "execution_count": 31,
   "metadata": {},
   "outputs": [],
   "source": [
    "s1.password = \"abc123\""
   ]
  },
  {
   "cell_type": "code",
   "execution_count": 32,
   "metadata": {},
   "outputs": [
    {
     "name": "stdout",
     "output_type": "stream",
     "text": [
      "abc123\n"
     ]
    }
   ],
   "source": [
    "print(s1.password)"
   ]
  },
  {
   "cell_type": "markdown",
   "metadata": {},
   "source": [
    "# Class Variable\n",
    "* always create in class body\n",
    "* calling `ClassName.variable_name`\n",
    "* always same value value"
   ]
  },
  {
   "cell_type": "code",
   "execution_count": 72,
   "metadata": {},
   "outputs": [],
   "source": [
    "class Student(): # class\n",
    "    \n",
    "    counter = 0\n",
    "    subject = \"Artificial Intelligence\"\n",
    "    time = \"11:19 am\"\n",
    "    \n",
    "    def __init__(self, sid, sname): # constructor method\n",
    "        #self.attribute_name = constructor_local_variable\n",
    "        self.id = sid \n",
    "        self.name = sname # attribute\n",
    "        self.education = None # attribute\n",
    "        self.address = None # attribute\n",
    "        self.age = None # attribute\n",
    "        self.user = sname\n",
    "        self.password = \"123\"\n",
    "        Student.counter += 1 # calling class variable\n",
    "    \n",
    "    def login(self,user,pws): # Method\n",
    "        if self.user == user and self.password == pws:\n",
    "            return \"Valid User\"\n",
    "        else:\n",
    "            return \"Not Valid user\"\n",
    "        \n",
    "    def display_information(self): # method\n",
    "        cards = f\"\"\"\n",
    "        PIAIC Student Card\n",
    "        Registration No: {self.id}\n",
    "        Name: {self.name}\n",
    "        Education : {self.education}\n",
    "        \"\"\"\n",
    "        \n",
    "        return cards\n"
   ]
  },
  {
   "cell_type": "code",
   "execution_count": 73,
   "metadata": {},
   "outputs": [
    {
     "name": "stdout",
     "output_type": "stream",
     "text": [
      "1 1 Artificial Intelligence\n",
      "2 2 Artificial Intelligence\n",
      "3 3 Artificial Intelligence\n",
      "4 4 Artificial Intelligence\n",
      "5 5 Artificial Intelligence\n"
     ]
    }
   ],
   "source": [
    "s1 = Student(1,\"Muhammad Qasim\") # create s1 new object\n",
    "print(Student.counter, s1.counter, Student.subject)\n",
    "s2 = Student(2,\"Asim\")# create s2 new object\n",
    "print(Student.counter, s1.counter, Student.subject)\n",
    "s3 = Student(3,\"Asif Khan\")# create s3 new object\n",
    "print(Student.counter, s1.counter, Student.subject)\n",
    "s4 = Student(4,\"Konain\")\n",
    "print(Student.counter, s1.counter, Student.subject)\n",
    "s5 = Student(5,\"Kamran\")\n",
    "print(Student.counter, s1.counter, Student.subject)"
   ]
  },
  {
   "cell_type": "code",
   "execution_count": 74,
   "metadata": {},
   "outputs": [
    {
     "name": "stdout",
     "output_type": "stream",
     "text": [
      "11:19 am\n",
      "11:19 am\n",
      "11:19 am\n",
      "11:19 am\n",
      "11:19 am\n",
      "5\n",
      "Artificial Intelligence\n",
      "11:19 am\n"
     ]
    }
   ],
   "source": [
    "print(s1.time)\n",
    "print(s2.time)\n",
    "print(s3.time)\n",
    "print(s4.time)\n",
    "print(s5.time)\n",
    "\n",
    "print(Student.counter)\n",
    "print(Student.subject)\n",
    "print(Student.time)"
   ]
  },
  {
   "cell_type": "code",
   "execution_count": 82,
   "metadata": {},
   "outputs": [
    {
     "name": "stdout",
     "output_type": "stream",
     "text": [
      "115\n"
     ]
    },
    {
     "data": {
      "text/plain": [
       "['164763',\n",
       " '133488',\n",
       " '163577',\n",
       " '116364',\n",
       " '133802',\n",
       " '93717',\n",
       " '180057',\n",
       " '49583',\n",
       " '177982',\n",
       " '159833',\n",
       " '134239',\n",
       " '131885',\n",
       " '174416',\n",
       " '152592',\n",
       " '188720',\n",
       " '173701',\n",
       " '173219',\n",
       " '189416',\n",
       " '179123',\n",
       " '113830',\n",
       " '180144',\n",
       " '168751',\n",
       " '184298',\n",
       " '12356',\n",
       " '173431',\n",
       " '189261',\n",
       " '167854',\n",
       " '99685',\n",
       " '181221',\n",
       " '180028',\n",
       " '187272',\n",
       " '157450',\n",
       " '185636',\n",
       " '139392',\n",
       " '177625',\n",
       " '55486',\n",
       " '133985',\n",
       " '166522',\n",
       " '183444',\n",
       " '045587',\n",
       " '175646',\n",
       " '186180',\n",
       " '172541',\n",
       " '182905',\n",
       " '188401',\n",
       " '172147',\n",
       " '89531',\n",
       " '149101',\n",
       " '179898',\n",
       " '180148',\n",
       " '185754',\n",
       " '168636',\n",
       " '129260',\n",
       " '143001',\n",
       " '185253',\n",
       " '183459',\n",
       " '180996',\n",
       " '179345',\n",
       " '172924',\n",
       " '187118',\n",
       " '68522',\n",
       " '173795',\n",
       " '166678',\n",
       " '178751',\n",
       " '183730',\n",
       " '176439',\n",
       " '185122',\n",
       " '172235',\n",
       " '172332',\n",
       " '182978',\n",
       " '177535',\n",
       " '169405',\n",
       " '172527',\n",
       " '142650',\n",
       " '103786',\n",
       " '173761',\n",
       " '185558',\n",
       " '133544',\n",
       " '74182',\n",
       " '74287',\n",
       " '188433',\n",
       " '128409',\n",
       " '96020',\n",
       " '188259',\n",
       " '187644',\n",
       " '178354',\n",
       " '187831',\n",
       " '182641',\n",
       " '175636',\n",
       " '187258',\n",
       " '181638',\n",
       " '174229',\n",
       " '173579',\n",
       " '172328',\n",
       " '174751',\n",
       " '95846',\n",
       " '178950',\n",
       " '183270',\n",
       " '181896',\n",
       " '176719',\n",
       " '62922',\n",
       " '182239',\n",
       " '179144',\n",
       " '168703',\n",
       " '172941',\n",
       " '182352',\n",
       " '107890',\n",
       " '96879',\n",
       " '177637',\n",
       " '55300',\n",
       " '176945',\n",
       " '68513',\n",
       " '155482',\n",
       " '60925',\n",
       " '178547']"
      ]
     },
     "execution_count": 82,
     "metadata": {},
     "output_type": "execute_result"
    }
   ],
   "source": [
    "x = \"\"\"\n",
    "11:25:04 From Azhar Piaic179898 To Everyone : Azhar Piaic179898\n",
    "11:26:33 From Kashif To Everyone : Counter tells us that how many students registered in the class\n",
    "11:27:11 From Muhammad Sheraz-PIAIC68522 To Everyone : PIAIC68522\n",
    "11:27:19 From Muhammad Sheraz-PIAIC68522 To Everyone : PIAIC68522\n",
    "11:27:25 From Mohammad Javed To Everyone : PIAIC185754\n",
    "11:27:26 From Imran Ahmed To Everyone : Imran Ahmed_PIAIC95846\n",
    "11:27:30 From Saeed To Everyone : PIAIC-131885\n",
    "11:28:11 From 187118 Muhammad Imran Wali To Everyone : PIAIC187118\n",
    "11:28:14 From Muhammad Sheraz-PIAIC68522 To Everyone : PIAIC68522\n",
    "11:29:12 From Shoaib PIAIC-178354 To Everyone : Shoaib PIAIC178354\n",
    "11:29:25 From Muhammad Sadullah - PIAIC178950 To Everyone : PIAIC178950\n",
    "11:29:28 From Fareeha To Everyone : PIAIC142650\n",
    "11:29:44 From Muhammad Sheraz-PIAIC68522 To Everyone : PIAIC68522\n",
    "11:30:03 From Asif Rehman PIAIC93717 To Everyone : Asif Rehman PIAIC93717\n",
    "11:30:40 From Hasnain Munir To Everyone : PIAIC187272\n",
    "11:30:43 From Ureb Ahmad To Everyone : PIAIC-172235 Ureb Ahmad\n",
    "11:30:48 From Umer Ghaffar PIAIC184298 To Everyone : PIAIC184298\n",
    "11:31:13 From Dr. Engr. Bhagwan Das To Everyone : PIAIC96879\n",
    "11:32:12 From Abdullah Arif 129260 To Everyone : PIAIC129260\n",
    "11:32:21 From Saeed To Everyone : how to read and edit excel files??\n",
    "11:32:29 From Hifza Ansari To M.Qasim(Teacher)(Privately) : PIAIC177625\n",
    "11:32:38 From Mashal Zahra To Everyone : PIAIC178751\n",
    "11:32:40 From Hifza Ansari To Everyone : PIAIC177625\n",
    "11:32:45 From Muhammad Sheraz-PIAIC68522 To Everyone : PIAIC68522\n",
    "11:32:54 From Ahmad Mudassar PIAIC113830 To Everyone : when is the quiz\n",
    "11:33:11 From Saeed To Everyone : 29/30 sep\n",
    "11:33:24 From Ahmad Mudassar PIAIC113830 To Everyone : ok thankyou\n",
    "11:33:33 From Muhammad Sheraz-PIAIC68522 To Everyone : PIAIC68522\n",
    "11:33:33 From PIAIC183459 Irfan Ahmed To Everyone : PIAIC183459\n",
    "11:33:38 From Humera Naz To Everyone : PIAIC 173431\n",
    "11:33:41 From Saeed To Everyone : for AI, for CNC-27/28\n",
    "11:33:48 From Ali Raza To Everyone : PIAIC62922\n",
    "11:33:56 From Muhammad Uzair-177637 To Everyone : PIAIC177637\n",
    "11:33:59 From PIAIC183459 Irfan Ahmed To Everyone : PIAIC183459\n",
    "11:34:08 From PIAIC183459 Irfan Ahmed To Everyone : PIAIC183459\n",
    "11:34:08 From Saeed To Everyone : PIAIC131885\n",
    "11:34:09 From Syed Amir PIAIC128409 To Everyone : PIAIC128409\n",
    "11:34:12 From Huzaifa Tahir PIAIC-60925 To Everyone : PIAIC60925\n",
    "11:34:14 From Maaz-PIAIC182239 To Everyone : PIAIC182239\n",
    "11:34:14 From Assad Mahmood (PIAIC179144) To Everyone : PIAIC179144\n",
    "11:34:16 From Kabeer Rajput To Everyone : PIAIC133488\n",
    "11:34:17 From Talha Munir To Everyone : PIAIC173761\n",
    "11:34:18 From Amir Rashid To Everyone : PIAIC107890\n",
    "11:34:18 From Shoaib Ahmed Khan To Everyone : PIAIC159833\n",
    "11:34:19 From Muhammad Furqan(PIAIC183270) To Everyone : PIAIC183270\n",
    "11:34:19 From Syed Jawad [PIAIC185558] To Everyone : PIAIC185558\n",
    "11:34:20 From Agha ALi PIAIC164763 To Everyone : PIAIC164763\n",
    "11:34:20 From Muhammad Sadullah - PIAIC178950 To Everyone : PIAIC178950\n",
    "11:34:20 From PIAIC175636 - M. Ziad Khan To Everyone : PIAIC175636\n",
    "11:34:21 From arijraees To Everyone : PIAIC186180\n",
    "11:34:21 From Taqwa Khaliq To Everyone : PIAIC_173701\n",
    "11:34:22 From Akbar Ali To Everyone : PIAIC168636\n",
    "11:34:22 From Dr. Engr. Bhagwan Das To Everyone : PIAIC96879\n",
    "11:34:23 From Sehrish Fatima To Everyone : PIAIC174229\n",
    "11:34:24 From Assad Mahmood (PIAIC179144) To Everyone : PIAIC179144\n",
    "11:34:24 From Sadia To Everyone : piaic180028\n",
    "11:34:24 From (PIAIC-189416) Muhammad Murtaza Khan To Everyone : PIAIC189416\n",
    "11:34:24 From Wajeeha Ayaz To Everyone : PIAIC 175646\n",
    "11:34:25 From Ahmad Mudassar PIAIC113830 To Everyone : PIAIC113830\n",
    "11:34:25 From GSTAR GROUP To Everyone : PIAIC172332\n",
    "11:34:26 From M. ADNAN SAEED, PIAIC 174751 To Everyone : PIAIC174751\n",
    "11:34:26 From ASIF ALI To Everyone : ASIF ALI\n",
    "PIAIC183730\n",
    "11:34:27 From Maah Noor PIAIC168751 To Everyone : PIAIC168751\n",
    "11:34:27 From Humera Naz To Everyone : PIAIC 173431\n",
    "11:34:27 From Raashid To Everyone : PIAIC55486\n",
    "11:34:27 From Mashal Zahra To Everyone : PIAIC178751\n",
    "11:34:27 From Nadeem ali Jamro PIAIC166522 To Everyone : PIAIC166522\n",
    "11:34:28 From Muneeb(PIAIC173219) To Everyone : PIAIC173219\n",
    "11:34:28 From Uzair Ullah To Everyone : PIAIC169405\n",
    "11:34:29 From Ashraf Makhdoom Syed To Everyone : Syed Makhdoom Ahmed Ashraf PIAIC155482\n",
    "11:34:29 From Adnan Ul Haq (PIAIC-103786) To Everyone : PIAIC103786\n",
    "11:34:29 From Dr. Engr. Bhagwan Das To Everyone : PIAIC96879\n",
    "11:34:30 From Afrooz Alam (PIAIC89531) To Everyone : PIAIC89531\n",
    "11:34:30 From Muhammad Adrees To Everyone : PIAIC74182\n",
    "11:34:31 From SHEHZAD PIAIC180057 To Everyone : PIAIC180057\n",
    "11:34:32 From Sm To Everyone : PIAIC176439\n",
    "11:34:32 From Saad PIAIC174416 To Everyone : PIAIC174416\n",
    "11:34:32 From Mohammad Javed To Everyone : PIAIC185754\n",
    "11:34:33 From 133544-Matee To Everyone : PIAIC133544\n",
    "11:34:33 From Irfan Ahmed - (PIAIC178547) To Everyone : PIAIC178547\n",
    "11:34:33 From PIAIC149101 sana To Everyone : PIAIC149101 SANA NOUSHEEN\n",
    "11:34:35 From Aqeel-PIAIC116364 To Everyone : PIAIC116364\n",
    "11:34:36 From Syed Sajjad Hussain PIAIC152592 To Everyone : PIAIC152592\n",
    "11:34:38 From Afrooz Alam (PIAIC89531) To Everyone : PIAIC89531\n",
    "11:34:38 From Usman Noor PIAIC-188401 To Everyone : PIAIC188401\n",
    "11:34:39 From Ali Raza To Everyone : PIAIC62922\n",
    "11:34:40 From Mashal Zahra To Everyone : PIAIC178751\n",
    "11:34:41 From Ashraf Makhdoom Syed To Everyone : PIAIC155482\n",
    "11:34:41 From 187118 Muhammad Imran Wali To Everyone : PIAIC187118\n",
    "11:34:42 From Fareeha To Everyone : PIAIC142650\n",
    "11:34:43 From Saeed To Everyone : PIAIC131885\n",
    "11:34:43 From Salma Asif To Everyone : PIAIC176945\n",
    "11:34:44 From Asif Rehman PIAIC93717 To Everyone : Asif Rehman PIAIC93717\n",
    "11:34:44 From Jawad Ahmed PIAIC96020 To Everyone : PIAIC96020\n",
    "11:34:44 From Gulshan Ali To Everyone : PIAIC176719\n",
    "11:34:45 From Aneeq To Everyone : PIAIC172924\n",
    "11:34:45 From Aisha Siddiqua To Everyone : PIAIC181221\n",
    "11:34:46 From 133544-Matee To Everyone : PIAIC133544\n",
    "11:34:47 From PIAIC175636 - M. Ziad Khan To Everyone : PIAIC175636\n",
    "11:34:50 From Adil Naveed PIAIC167854 To Everyone : PIAIC167854\n",
    "11:34:50 From Kabeer Rajput To Everyone : PIAIC133488\n",
    "11:34:50 From Zeeshan Asim : PIAIC55300 To Everyone : PIAIC55300 - Zeeshan Asim\n",
    "11:34:50 From Muhammad Uzair-177637 To Everyone : PIAIC177637\n",
    "11:34:51 From Saad Aslam To Everyone : PIAIC187831\n",
    "11:34:51 From Mohsin Naseer PIAIC68513 To Everyone : PIAIC68513\n",
    "11:34:51 From Assad Mahmood (PIAIC179144) To Everyone : PIAIC179144\n",
    "11:34:51 From Salman Nayyer To Everyone : PIAIC180996\n",
    "11:34:51 From Zaki To Everyone : PIAIC 172541\n",
    "11:34:52 From syed ibad ur rehman To Everyone : PIAIC166678\n",
    "11:34:52 From Talha Munir To Everyone : PIAIC173761\n",
    "11:34:53 From Haider Ali-PIAIC179345 To Everyone : PIAIC179345\n",
    "11:34:54 From Amir Rashid To Everyone : PIAIC107890\n",
    "11:34:55 From Muhammad Sadullah - PIAIC178950 To Everyone : PIAIC178950\n",
    "11:34:55 From Muhammad’s iPhone To Everyone : PIAIC49583\n",
    "11:34:56 From Zeenat Zakir: Piaic 133802 To Everyone : PIAIC133802\n",
    "11:34:56 From Irfan Ahmed To Everyone : PIAIC172147\n",
    "11:34:56 From PIAIC181896 To Everyone : PIAIC181896\n",
    "11:34:57 From PIAIC183459 Irfan Ahmed To Everyone : PIAIC183459\n",
    "11:34:58 From Yousaf-PIAIC173795 To Everyone : PIAIC173795\n",
    "11:34:59 From Irfan Ahmed To Everyone : PIAIC172147\n",
    "11:34:59 From PIAIC 177535 To Everyone : PIAIC 177535\n",
    "11:35:00 From Qadeer Ahmed To Everyone : PIAIC163577\n",
    "11:35:02 From Syed PIAIC168703 To Everyone : PIAIC168703\n",
    "11:35:03 From Uzair Ullah To Everyone : PIAIC169405\n",
    "11:35:05 From Sehrish Fatima To Everyone : PIAIC174229\n",
    "11:35:05 From Syed Sajjad Hussain PIAIC152592 To Everyone : PIAIC152592\n",
    "11:35:05 From Mohammad Javed To Everyone : PIAIC185754\n",
    "11:35:05 From Syed Jawad [PIAIC185558] To Everyone : PIAIC185558\n",
    "11:35:05 From syed ibad ur rehman To Everyone : PIAIC166678\n",
    "11:35:07 From Rabiya Raees_PIAIC 188259 To Everyone : PIAIC188259\n",
    "11:35:07 From Imran Khalid PIAIC185636 To Everyone : yes\n",
    "11:35:08 From ASIF ALI To Everyone : ASIF ALI\n",
    "PIAIC183730\n",
    "11:35:09 From Akbar Ali To Everyone : PIAIC168636\n",
    "11:35:09 From PIAIC183459 Irfan Ahmed To Everyone : PIAIC183459\n",
    "11:35:09 From Muneeb(PIAIC173219) To Everyone : PIAIC173219\n",
    "11:35:09 From Hasnain Munir To Everyone : PIAIC187272\n",
    "11:35:10 From Salma Asif To Everyone : PIAIC176945\n",
    "11:35:11 From PIAIC-99685 To Everyone : PIAIC-99685\n",
    "11:35:12 From Sm To Everyone : PIAIC176439\n",
    "11:35:13 From Huzaifa Tahir PIAIC-60925 To Everyone : PIAIC60925\n",
    "11:35:13 From Muhammad Hawaris To Everyone : PIAIC188433\n",
    "11:35:15 From Nadeem Hussain Koondhar To Everyone : PIAIC-182905\n",
    "11:35:15 From Haseeb Iqbal -PIAIC 180144 To Everyone : Haseeb Iqbal PIAIC-180144\n",
    "11:35:16 From Abdul Saboor Zaman To Everyone : PIAIC189261\n",
    "11:35:18 From PIAIC183459 Irfan Ahmed To Everyone : PIAIC183459\n",
    "11:35:18 From Shahid PIAIC134239 To Everyone : PIAIC134239 Muhammed Shahid\n",
    "11:35:19 From daud To Everyone : PIAIC173579\n",
    "11:35:19 From syed ibad ur rehman To Everyone : PIAIC166678\n",
    "11:35:19 From Muhammad Owais To Everyone : Name: MUHAMMAD OWAIS\n",
    "\n",
    "Roll No: PIAIC139392\n",
    "11:35:21 From Shoaib Ahmed Khan To Everyone : PIAIC159833\n",
    "11:35:23 From Adil Naveed PIAIC167854 To Everyone : PIAIC167854\n",
    "11:35:23 From Agha ALi PIAIC164763 To Everyone : PIAIC164763\n",
    "11:35:23 From Muhammad Adrees To Everyone : PIAIC74182\n",
    "11:35:24 From Aisha Siddiqua To Everyone : PIAIC181221\n",
    "11:35:27 From Muhammad Ashraf To Everyone : PIAC 179123\n",
    "11:35:28 From Naeem Balagam To Everyone : IOT045587\n",
    "11:35:31 From Abdul Qadar To Everyone : PIAIC172941\n",
    "11:35:32 From Muhammad Owais To Everyone : Name: MUHAMMAD OWAIS\n",
    "\n",
    "Roll No: PIAIC139392\n",
    "11:35:33 From khurshed To Everyone : PIAIC157450\n",
    "11:35:33 From Hasnain Munir To Everyone : PIAIC187272\n",
    "11:35:33 From Maha Ilyas 2874 To Everyone : PIAIC 177982\n",
    "11:35:36 From Muhammad Sadullah - PIAIC178950 To Everyone : PIAIC178950\n",
    "11:35:38 From PIAIC149101 sana To Everyone : PIAIC149101\n",
    "11:35:40 From Nehal To Everyone : PIAIC182641\n",
    "11:35:41 From Muhammad Faizan To Everyone : piaic 172328\n",
    "11:35:43 From Mohammad Javed To Everyone : Piaic185754\n",
    "11:35:45 From 187118 Muhammad Imran Wali To Everyone : PIAIC187118\n",
    "11:35:45 From Salman Nayyer To Everyone : Piaic180996\n",
    "11:35:45 From Afnan 182978 To Everyone : PIAIC 182978\n",
    "11:35:47 From (PIAIC-189416) Muhammad Murtaza Khan To Everyone : PIAIC189416\n",
    "11:35:52 From Ali Raza To Everyone : PIAIC 62922\n",
    "11:35:55 From Kashif To Everyone : PIAIC181638\n",
    "11:35:57 From M. ADNAN SAEED, PIAIC 174751 To Everyone : 143001\n",
    "11:36:01 From Muhammad Faizan To Everyone : PIAIC172328\n",
    "11:36:08 From Muhammad Ashraf To Everyone : PIAIC179123\n",
    "11:36:08 From Mohammad Javed To Everyone : Piaic185754\n",
    "11:36:09 From PIAIC183459 Irfan Ahmed To Everyone : PIAIC183459\n",
    "11:36:10 From Muhammad Sarim Effendi To Everyone : PIAIC188720\n",
    "11:36:10 From Hassan Ahmed - PIAIC 180148 To Everyone : Hassan Ahmed PIAIC 180148\n",
    "11:36:18 From 1998 To Everyone : PIAIC 99685\n",
    "11:36:19 From PIAIC133985 Muhammad Naveed To Everyone : PIAIC133985\n",
    "11:36:20 From Muhammad Sarim Effendi To Everyone : PIAIC187258\n",
    "11:36:22 From vivo 1901 To Everyone : PIAIC74287\n",
    "11:36:25 From Nida yaseen 183444 To Everyone : Nida yaseen PIAIC 183444\n",
    "11:36:28 From Neelum Javaid 172527 To Everyone : PIAIC172527\n",
    "11:36:32 From Jawad Ahmed PIAIC96020 To Everyone : PIAIC96020\n",
    "11:36:35 From PIAIC133985 Muhammad Naveed To Everyone : PIAIC133985\n",
    "11:36:38 From Umer Ghaffar PIAIC184298 To Everyone : PIAIC184298\n",
    "11:36:39 From Imran Khalid PIAIC185636 To Everyone : PIAIC185636\n",
    "11:36:42 From Mohammad Javed To Everyone : sir not yet\n",
    "11:36:49 From 1998 To Everyone : PIAIC 99685\n",
    "11:36:54 From TechSupport.OOBCon To Everyone : piaic185122 shehzad\n",
    "11:36:55 From Neelum Javaid 172527 To Everyone : Neelum Javaid PIAIC 172527\n",
    "11:36:58 From Moeed Masood PIAIC185253 To Everyone : PIAIC185253\n",
    "11:37:03 From Mohammad Javed To Everyone : Piaic185754\n",
    "11:37:06 From Majid Naru PIAIC-187644 To Everyone : PIAIC187644\n",
    "11:37:10 From cz 3 To Everyone : PIAIC12356\n",
    "11:37:26 From PIAIC183459 Irfan Ahmed To Everyone : PIAIC183459\n",
    "11:38:05 From Azhar Piaic179898 To Everyone : Azhar Piaic179898\n",
    "11:38:13 From Kainat PIAIC182352 To Everyone : PIAIC182352\n",
    "\"\"\"\n",
    "\n",
    "import re\n",
    "l = list(set(re.findall(r\"[0-9]{5,6}\", x)))\n",
    "print(len(l))\n",
    "l"
   ]
  },
  {
   "cell_type": "code",
   "execution_count": null,
   "metadata": {},
   "outputs": [],
   "source": []
  }
 ],
 "metadata": {
  "kernelspec": {
   "display_name": "Python 3",
   "language": "python",
   "name": "python3"
  },
  "language_info": {
   "codemirror_mode": {
    "name": "ipython",
    "version": 3
   },
   "file_extension": ".py",
   "mimetype": "text/x-python",
   "name": "python",
   "nbconvert_exporter": "python",
   "pygments_lexer": "ipython3",
   "version": "3.7.6"
  }
 },
 "nbformat": 4,
 "nbformat_minor": 4
}
